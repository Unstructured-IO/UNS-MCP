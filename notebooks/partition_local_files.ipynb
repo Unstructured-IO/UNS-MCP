{
 "cells": [
  {
   "cell_type": "code",
   "execution_count": 1,
   "id": "dd74d3ac5677b80a",
   "metadata": {
    "ExecuteTime": {
     "end_time": "2025-03-27T17:01:43.883870Z",
     "start_time": "2025-03-27T17:01:43.881606Z"
    }
   },
   "outputs": [],
   "source": [
    "from pathlib import Path\n",
    "import os\n",
    "\n",
    "# Set working directory at top level or repository\n",
    "os.chdir(Path.cwd().parent)"
   ]
  },
  {
   "cell_type": "code",
   "execution_count": 2,
   "id": "775df9f8644b052b",
   "metadata": {
    "ExecuteTime": {
     "end_time": "2025-03-27T17:01:44.183351Z",
     "start_time": "2025-03-27T17:01:43.887247Z"
    }
   },
   "outputs": [],
   "source": [
    "from minimal_client.client import MCPClient"
   ]
  },
  {
   "cell_type": "code",
   "execution_count": 3,
   "id": "b229f8e27dbf0c9c",
   "metadata": {},
   "outputs": [],
   "source": [
    "query = \"\"\"\n",
    "Partition for me /Users/kamilplucinski/git/UNS-MCP/.local/example_data/23-BERKSHIRE.pdf, save it as markdown and print the file content\n",
    "\"\"\""
   ]
  },
  {
   "cell_type": "code",
   "execution_count": 4,
   "id": "4ac53768dfbb2270",
   "metadata": {},
   "outputs": [
    {
     "data": {
      "text/html": [
       "<pre style=\"white-space:pre;overflow-x:auto;line-height:normal;font-family:Menlo,'DejaVu Sans Mono',consolas,'Courier New',monospace\">\n",
       "<span style=\"color: #008000; text-decoration-color: #008000; font-weight: bold\">Query</span> (q/quit to end chat): </pre>\n"
      ],
      "text/plain": [
       "\n",
       "\u001b[1;32mQuery\u001b[0m (q/quit to end chat): "
      ]
     },
     "metadata": {},
     "output_type": "display_data"
    },
    {
     "name": "stdin",
     "output_type": "stream",
     "text": [
      " Partition for me /Users/kamilplucinski/git/UNS-MCP/.local/example_data/23-BERKSHIRE.pdf, save it as markdown and print the file content\n"
     ]
    },
    {
     "data": {
      "text/html": [
       "<pre style=\"white-space:pre;overflow-x:auto;line-height:normal;font-family:Menlo,'DejaVu Sans Mono',consolas,'Courier New',monospace\">\n",
       "</pre>\n"
      ],
      "text/plain": [
       "\n"
      ]
     },
     "metadata": {},
     "output_type": "display_data"
    },
    {
     "data": {
      "text/html": [
       "<pre style=\"white-space:pre;overflow-x:auto;line-height:normal;font-family:Menlo,'DejaVu Sans Mono',consolas,'Courier New',monospace\">\n",
       "<span style=\"color: #800000; text-decoration-color: #800000; font-weight: bold\">ASSISTANT</span>\n",
       "I'll help you partition that PDF file. Let me break this down into steps:\n",
       "\n",
       "<span style=\"color: #008080; text-decoration-color: #008080; font-weight: bold\">1</span>. First, I'll use the `partition_local_file` function to process the PDF file and save it as markdown\n",
       "<span style=\"color: #008080; text-decoration-color: #008080; font-weight: bold\">2</span>. Then, I'll read and display the generated markdown file content\n",
       "\n",
       "Let's start with partitioning:\n",
       "</pre>\n"
      ],
      "text/plain": [
       "\n",
       "\u001b[1;31mASSISTANT\u001b[0m\n",
       "I'll help you partition that PDF file. Let me break this down into steps:\n",
       "\n",
       "\u001b[1;36m1\u001b[0m. First, I'll use the `partition_local_file` function to process the PDF file and save it as markdown\n",
       "\u001b[1;36m2\u001b[0m. Then, I'll read and display the generated markdown file content\n",
       "\n",
       "Let's start with partitioning:\n"
      ]
     },
     "metadata": {},
     "output_type": "display_data"
    },
    {
     "data": {
      "text/html": [
       "<pre style=\"white-space:pre;overflow-x:auto;line-height:normal;font-family:Menlo,'DejaVu Sans Mono',consolas,'Courier New',monospace\">\n",
       "<span style=\"color: #008080; text-decoration-color: #008080; font-weight: bold\">TOOL CALL</span>\n",
       "Accept execution of partition_local_file with args {'input_file_path': \n",
       "'/Users/kamilplucinski/git/UNS-MCP/.local/example_data/23-BERKSHIRE.pdf', 'output_file_dir': \n",
       "'/Users/kamilplucinski/git/UNS-MCP/.local/example_data', 'output_type': 'markdown'}? <span style=\"color: #800080; text-decoration-color: #800080; font-weight: bold\">[y/n]</span> <span style=\"color: #008080; text-decoration-color: #008080; font-weight: bold\">(y)</span>: </pre>\n"
      ],
      "text/plain": [
       "\n",
       "\u001b[1;36mTOOL CALL\u001b[0m\n",
       "Accept execution of partition_local_file with args {'input_file_path': \n",
       "'/Users/kamilplucinski/git/UNS-MCP/.local/example_data/23-BERKSHIRE.pdf', 'output_file_dir': \n",
       "'/Users/kamilplucinski/git/UNS-MCP/.local/example_data', 'output_type': 'markdown'}? \u001b[1;35m[y/n]\u001b[0m \u001b[1;36m(y)\u001b[0m: "
      ]
     },
     "metadata": {},
     "output_type": "display_data"
    },
    {
     "name": "stdin",
     "output_type": "stream",
     "text": [
      " y\n"
     ]
    },
    {
     "data": {
      "text/html": [
       "<pre style=\"white-space:pre;overflow-x:auto;line-height:normal;font-family:Menlo,'DejaVu Sans Mono',consolas,'Courier New',monospace\">\n",
       "<span style=\"color: #008080; text-decoration-color: #008080; font-weight: bold\">TOOL OUTPUT</span>:\n",
       "Partitioned file <span style=\"color: #800080; text-decoration-color: #800080\">/Users/kamilplucinski/git/UNS-MCP/.local/example_data/</span><span style=\"color: #ff00ff; text-decoration-color: #ff00ff\">23-BERKSHIRE.pdf</span> to \n",
       "<span style=\"color: #800080; text-decoration-color: #800080\">/Users/kamilplucinski/git/UNS-MCP/.local/example_data/</span><span style=\"color: #ff00ff; text-decoration-color: #ff00ff\">23-BERKSHIRE.markdown</span> successfully.\n",
       "\n",
       "</pre>\n"
      ],
      "text/plain": [
       "\n",
       "\u001b[1;36mTOOL OUTPUT\u001b[0m:\n",
       "Partitioned file \u001b[35m/Users/kamilplucinski/git/UNS-MCP/.local/example_data/\u001b[0m\u001b[95m23-BERKSHIRE.pdf\u001b[0m to \n",
       "\u001b[35m/Users/kamilplucinski/git/UNS-MCP/.local/example_data/\u001b[0m\u001b[95m23-BERKSHIRE.markdown\u001b[0m successfully.\n",
       "\n"
      ]
     },
     "metadata": {},
     "output_type": "display_data"
    },
    {
     "data": {
      "text/html": [
       "<pre style=\"white-space:pre;overflow-x:auto;line-height:normal;font-family:Menlo,'DejaVu Sans Mono',consolas,'Courier New',monospace\">\n",
       "<span style=\"color: #800000; text-decoration-color: #800000; font-weight: bold\">ASSISTANT</span>\n",
       "Now, let's read the generated markdown file:\n",
       "</pre>\n"
      ],
      "text/plain": [
       "\n",
       "\u001b[1;31mASSISTANT\u001b[0m\n",
       "Now, let's read the generated markdown file:\n"
      ]
     },
     "metadata": {},
     "output_type": "display_data"
    },
    {
     "data": {
      "text/html": [
       "<pre style=\"white-space:pre;overflow-x:auto;line-height:normal;font-family:Menlo,'DejaVu Sans Mono',consolas,'Courier New',monospace\">\n",
       "<span style=\"color: #008080; text-decoration-color: #008080; font-weight: bold\">TOOL CALL</span>\n",
       "Accept execution of read_file with args {'path': \n",
       "'/Users/kamilplucinski/git/UNS-MCP/.local/example_data/23-BERKSHIRE.markdown'}? <span style=\"color: #800080; text-decoration-color: #800080; font-weight: bold\">[y/n]</span> <span style=\"color: #008080; text-decoration-color: #008080; font-weight: bold\">(y)</span>: </pre>\n"
      ],
      "text/plain": [
       "\n",
       "\u001b[1;36mTOOL CALL\u001b[0m\n",
       "Accept execution of read_file with args {'path': \n",
       "'/Users/kamilplucinski/git/UNS-MCP/.local/example_data/23-BERKSHIRE.markdown'}? \u001b[1;35m[y/n]\u001b[0m \u001b[1;36m(y)\u001b[0m: "
      ]
     },
     "metadata": {},
     "output_type": "display_data"
    },
    {
     "name": "stdin",
     "output_type": "stream",
     "text": [
      " y\n"
     ]
    },
    {
     "data": {
      "text/html": [
       "<pre style=\"white-space:pre;overflow-x:auto;line-height:normal;font-family:Menlo,'DejaVu Sans Mono',consolas,'Courier New',monospace\">\n",
       "<span style=\"color: #008080; text-decoration-color: #008080; font-weight: bold\">TOOL OUTPUT</span>:\n",
       "# <span style=\"color: #008080; text-decoration-color: #008080; font-weight: bold\">23</span>-BERKSHIRE.pdf\n",
       "\n",
       "\n",
       "\n",
       "Notes to Consolidated Financial Statements <span style=\"font-weight: bold\">(</span>Continued<span style=\"font-weight: bold\">)</span>\n",
       "\n",
       "Note <span style=\"color: #008080; text-decoration-color: #008080; font-weight: bold\">18</span>. Fair value measurements\n",
       "\n",
       "Our financial assets and liabilities are summarized below as of June <span style=\"color: #008080; text-decoration-color: #008080; font-weight: bold\">30</span>, <span style=\"color: #008080; text-decoration-color: #008080; font-weight: bold\">2023</span> and December <span style=\"color: #008080; text-decoration-color: #008080; font-weight: bold\">31</span>, <span style=\"color: #008080; text-decoration-color: #008080; font-weight: bold\">2022</span>, with fair \n",
       "values shown according to the fair value hierarchy <span style=\"font-weight: bold\">(</span>in millions<span style=\"font-weight: bold\">)</span>. The carrying values of cash and cash equivalents,\n",
       "U.S. Treasury Bills, other receivables and accounts payable, accruals and other liabilities are considered to be \n",
       "reasonable estimates of or otherwise approximate the fair values.\n",
       "\n",
       "<span style=\"font-weight: bold\">&lt;</span><span style=\"color: #ff00ff; text-decoration-color: #ff00ff; font-weight: bold\">table</span><span style=\"color: #000000; text-decoration-color: #000000\"> </span><span style=\"color: #808000; text-decoration-color: #808000\">class</span><span style=\"color: #000000; text-decoration-color: #000000\">=</span><span style=\"color: #008000; text-decoration-color: #008000\">\"Table\"</span><span style=\"color: #000000; text-decoration-color: #000000\"> </span><span style=\"color: #808000; text-decoration-color: #808000\">id</span><span style=\"color: #000000; text-decoration-color: #000000\">=</span><span style=\"color: #008000; text-decoration-color: #008000\">\"d980a59783e241b3bd141ffba530feca\"</span><span style=\"color: #000000; text-decoration-color: #000000\">&gt;&lt;thead&gt;&lt;tr&gt;&lt;th&gt;&lt;</span><span style=\"color: #800080; text-decoration-color: #800080\">/</span><span style=\"color: #ff00ff; text-decoration-color: #ff00ff\">th</span><span style=\"color: #000000; text-decoration-color: #000000\">&gt;&lt;th&gt;Carrying Value&lt;</span><span style=\"color: #800080; text-decoration-color: #800080\">/</span><span style=\"color: #ff00ff; text-decoration-color: #ff00ff\">th</span><span style=\"color: #000000; text-decoration-color: #000000\">&gt;&lt;th&gt;Fair </span>\n",
       "<span style=\"color: #000000; text-decoration-color: #000000\">Value&lt;</span><span style=\"color: #800080; text-decoration-color: #800080\">/</span><span style=\"color: #ff00ff; text-decoration-color: #ff00ff\">th</span><span style=\"color: #000000; text-decoration-color: #000000\">&gt;&lt;th&gt;Quoted Prices </span><span style=\"color: #000000; text-decoration-color: #000000; font-weight: bold\">(</span><span style=\"color: #000000; text-decoration-color: #000000\">Level </span><span style=\"color: #008080; text-decoration-color: #008080; font-weight: bold\">1</span><span style=\"color: #000000; text-decoration-color: #000000; font-weight: bold\">)</span><span style=\"color: #000000; text-decoration-color: #000000\">&lt;</span><span style=\"color: #800080; text-decoration-color: #800080\">/</span><span style=\"color: #ff00ff; text-decoration-color: #ff00ff\">th</span><span style=\"color: #000000; text-decoration-color: #000000\">&gt;&lt;th&gt;Significant Other Observable Inputs </span><span style=\"color: #000000; text-decoration-color: #000000; font-weight: bold\">(</span><span style=\"color: #000000; text-decoration-color: #000000\">Level </span><span style=\"color: #008080; text-decoration-color: #008080; font-weight: bold\">2</span><span style=\"color: #000000; text-decoration-color: #000000; font-weight: bold\">)</span><span style=\"color: #000000; text-decoration-color: #000000\">&lt;</span><span style=\"color: #800080; text-decoration-color: #800080\">/</span><span style=\"color: #ff00ff; text-decoration-color: #ff00ff\">th</span><span style=\"color: #000000; text-decoration-color: #000000\">&gt;&lt;th&gt;Significant </span>\n",
       "<span style=\"color: #000000; text-decoration-color: #000000\">Unobservable Inputs </span><span style=\"color: #000000; text-decoration-color: #000000; font-weight: bold\">(</span><span style=\"color: #000000; text-decoration-color: #000000\">Level </span><span style=\"color: #008080; text-decoration-color: #008080; font-weight: bold\">3</span><span style=\"color: #000000; text-decoration-color: #000000; font-weight: bold\">)</span><span style=\"color: #000000; text-decoration-color: #000000\">&lt;</span><span style=\"color: #800080; text-decoration-color: #800080\">/</span><span style=\"color: #ff00ff; text-decoration-color: #ff00ff\">th</span><span style=\"color: #000000; text-decoration-color: #000000\">&gt;&lt;</span><span style=\"color: #800080; text-decoration-color: #800080\">/</span><span style=\"color: #ff00ff; text-decoration-color: #ff00ff\">tr</span><span style=\"color: #000000; text-decoration-color: #000000\">&gt;&lt;</span><span style=\"color: #800080; text-decoration-color: #800080\">/</span><span style=\"color: #ff00ff; text-decoration-color: #ff00ff\">thead</span><span style=\"color: #000000; text-decoration-color: #000000\">&gt;&lt;tbody&gt;&lt;tr&gt;&lt;td&gt;June </span><span style=\"color: #008080; text-decoration-color: #008080; font-weight: bold\">30</span><span style=\"color: #000000; text-decoration-color: #000000\">, </span>\n",
       "<span style=\"color: #008080; text-decoration-color: #008080; font-weight: bold\">2023</span><span style=\"color: #000000; text-decoration-color: #000000\">&lt;</span><span style=\"color: #800080; text-decoration-color: #800080\">/</span><span style=\"color: #ff00ff; text-decoration-color: #ff00ff\">td</span><span style=\"color: #000000; text-decoration-color: #000000\">&gt;&lt;td&gt;&lt;</span><span style=\"color: #800080; text-decoration-color: #800080\">/</span><span style=\"color: #ff00ff; text-decoration-color: #ff00ff\">td</span><span style=\"color: #000000; text-decoration-color: #000000\">&gt;&lt;td&gt;&lt;</span><span style=\"color: #800080; text-decoration-color: #800080\">/</span><span style=\"color: #ff00ff; text-decoration-color: #ff00ff\">td</span><span style=\"color: #000000; text-decoration-color: #000000\">&gt;&lt;td&gt;&lt;</span><span style=\"color: #800080; text-decoration-color: #800080\">/</span><span style=\"color: #ff00ff; text-decoration-color: #ff00ff\">td</span><span style=\"color: #000000; text-decoration-color: #000000\">&gt;&lt;td&gt;&lt;</span><span style=\"color: #800080; text-decoration-color: #800080\">/</span><span style=\"color: #ff00ff; text-decoration-color: #ff00ff\">td</span><span style=\"color: #000000; text-decoration-color: #000000\">&gt;&lt;td&gt;&lt;</span><span style=\"color: #800080; text-decoration-color: #800080\">/</span><span style=\"color: #ff00ff; text-decoration-color: #ff00ff\">td</span><span style=\"color: #000000; text-decoration-color: #000000\">&gt;&lt;</span><span style=\"color: #800080; text-decoration-color: #800080\">/</span><span style=\"color: #ff00ff; text-decoration-color: #ff00ff\">tr</span><span style=\"color: #000000; text-decoration-color: #000000\">&gt;&lt;tr&gt;&lt;td&gt;Investments in fixed maturity </span>\n",
       "<span style=\"color: #000000; text-decoration-color: #000000\">securities:&lt;</span><span style=\"color: #800080; text-decoration-color: #800080\">/</span><span style=\"color: #ff00ff; text-decoration-color: #ff00ff\">td</span><span style=\"color: #000000; text-decoration-color: #000000\">&gt;&lt;td&gt;&lt;</span><span style=\"color: #800080; text-decoration-color: #800080\">/</span><span style=\"color: #ff00ff; text-decoration-color: #ff00ff\">td</span><span style=\"color: #000000; text-decoration-color: #000000\">&gt;&lt;td&gt;&lt;</span><span style=\"color: #800080; text-decoration-color: #800080\">/</span><span style=\"color: #ff00ff; text-decoration-color: #ff00ff\">td</span><span style=\"color: #000000; text-decoration-color: #000000\">&gt;&lt;td&gt;&lt;</span><span style=\"color: #800080; text-decoration-color: #800080\">/</span><span style=\"color: #ff00ff; text-decoration-color: #ff00ff\">td</span><span style=\"color: #000000; text-decoration-color: #000000\">&gt;&lt;td&gt;&lt;</span><span style=\"color: #800080; text-decoration-color: #800080\">/</span><span style=\"color: #ff00ff; text-decoration-color: #ff00ff\">td</span><span style=\"color: #000000; text-decoration-color: #000000\">&gt;&lt;td&gt;&lt;</span><span style=\"color: #800080; text-decoration-color: #800080\">/</span><span style=\"color: #ff00ff; text-decoration-color: #ff00ff\">td</span><span style=\"color: #000000; text-decoration-color: #000000\">&gt;&lt;</span><span style=\"color: #800080; text-decoration-color: #800080\">/</span><span style=\"color: #ff00ff; text-decoration-color: #ff00ff\">tr</span><span style=\"color: #000000; text-decoration-color: #000000\">&gt;&lt;tr&gt;&lt;td&gt;U.S. Treasury, U.S. government </span>\n",
       "<span style=\"color: #000000; text-decoration-color: #000000\">corporations and agencies&lt;</span><span style=\"color: #800080; text-decoration-color: #800080\">/</span><span style=\"color: #ff00ff; text-decoration-color: #ff00ff\">td</span><span style=\"color: #000000; text-decoration-color: #000000\">&gt;&lt;td&gt;$ </span><span style=\"color: #008080; text-decoration-color: #008080; font-weight: bold\">9</span><span style=\"color: #000000; text-decoration-color: #000000\">,</span><span style=\"color: #008080; text-decoration-color: #008080; font-weight: bold\">052</span><span style=\"color: #000000; text-decoration-color: #000000\">&lt;</span><span style=\"color: #800080; text-decoration-color: #800080\">/</span><span style=\"color: #ff00ff; text-decoration-color: #ff00ff\">td</span><span style=\"color: #000000; text-decoration-color: #000000\">&gt;&lt;td&gt;$ </span><span style=\"color: #008080; text-decoration-color: #008080; font-weight: bold\">9</span><span style=\"color: #000000; text-decoration-color: #000000\">,</span><span style=\"color: #008080; text-decoration-color: #008080; font-weight: bold\">052</span><span style=\"color: #000000; text-decoration-color: #000000\">&lt;</span><span style=\"color: #800080; text-decoration-color: #800080\">/</span><span style=\"color: #ff00ff; text-decoration-color: #ff00ff\">td</span><span style=\"color: #000000; text-decoration-color: #000000\">&gt;&lt;td&gt;$ </span><span style=\"color: #008080; text-decoration-color: #008080; font-weight: bold\">9</span><span style=\"color: #000000; text-decoration-color: #000000\">,</span><span style=\"color: #008080; text-decoration-color: #008080; font-weight: bold\">017</span><span style=\"color: #000000; text-decoration-color: #000000\">&lt;</span><span style=\"color: #800080; text-decoration-color: #800080\">/</span><span style=\"color: #ff00ff; text-decoration-color: #ff00ff\">td</span><span style=\"color: #000000; text-decoration-color: #000000\">&gt;&lt;td&gt;$ </span><span style=\"color: #008080; text-decoration-color: #008080; font-weight: bold\">35</span><span style=\"color: #000000; text-decoration-color: #000000\">&lt;</span><span style=\"color: #800080; text-decoration-color: #800080\">/</span><span style=\"color: #ff00ff; text-decoration-color: #ff00ff\">td</span><span style=\"color: #000000; text-decoration-color: #000000\">&gt;&lt;td&gt;$ </span>\n",
       "<span style=\"color: #000000; text-decoration-color: #000000\">—&lt;</span><span style=\"color: #800080; text-decoration-color: #800080\">/</span><span style=\"color: #ff00ff; text-decoration-color: #ff00ff\">td</span><span style=\"color: #000000; text-decoration-color: #000000\">&gt;&lt;</span><span style=\"color: #800080; text-decoration-color: #800080\">/</span><span style=\"color: #ff00ff; text-decoration-color: #ff00ff\">tr</span><span style=\"color: #000000; text-decoration-color: #000000\">&gt;&lt;tr&gt;&lt;td&gt;Foreign </span>\n",
       "<span style=\"color: #000000; text-decoration-color: #000000\">governments&lt;</span><span style=\"color: #800080; text-decoration-color: #800080\">/</span><span style=\"color: #ff00ff; text-decoration-color: #ff00ff\">td</span><span style=\"color: #000000; text-decoration-color: #000000\">&gt;&lt;td&gt;</span><span style=\"color: #008080; text-decoration-color: #008080; font-weight: bold\">11</span><span style=\"color: #000000; text-decoration-color: #000000\">,</span><span style=\"color: #008080; text-decoration-color: #008080; font-weight: bold\">481</span><span style=\"color: #000000; text-decoration-color: #000000\">&lt;</span><span style=\"color: #800080; text-decoration-color: #800080\">/</span><span style=\"color: #ff00ff; text-decoration-color: #ff00ff\">td</span><span style=\"color: #000000; text-decoration-color: #000000\">&gt;&lt;td&gt;</span><span style=\"color: #008080; text-decoration-color: #008080; font-weight: bold\">11</span><span style=\"color: #000000; text-decoration-color: #000000\">,</span><span style=\"color: #008080; text-decoration-color: #008080; font-weight: bold\">481</span><span style=\"color: #000000; text-decoration-color: #000000\">&lt;</span><span style=\"color: #800080; text-decoration-color: #800080\">/</span><span style=\"color: #ff00ff; text-decoration-color: #ff00ff\">td</span><span style=\"color: #000000; text-decoration-color: #000000\">&gt;&lt;td&gt;</span><span style=\"color: #008080; text-decoration-color: #008080; font-weight: bold\">11</span><span style=\"color: #000000; text-decoration-color: #000000\">,</span><span style=\"color: #008080; text-decoration-color: #008080; font-weight: bold\">170</span><span style=\"color: #000000; text-decoration-color: #000000\">&lt;</span><span style=\"color: #800080; text-decoration-color: #800080\">/</span><span style=\"color: #ff00ff; text-decoration-color: #ff00ff\">td</span><span style=\"color: #000000; text-decoration-color: #000000\">&gt;&lt;td&gt;</span><span style=\"color: #008080; text-decoration-color: #008080; font-weight: bold\">311</span><span style=\"color: #000000; text-decoration-color: #000000\">&lt;</span><span style=\"color: #800080; text-decoration-color: #800080\">/</span><span style=\"color: #ff00ff; text-decoration-color: #ff00ff\">td</span><span style=\"color: #000000; text-decoration-color: #000000\">&gt;&lt;td&gt;—&lt;</span><span style=\"color: #800080; text-decoration-color: #800080\">/</span><span style=\"color: #ff00ff; text-decoration-color: #ff00ff\">td</span><span style=\"color: #000000; text-decoration-color: #000000\">&gt;&lt;</span><span style=\"color: #800080; text-decoration-color: #800080\">/</span><span style=\"color: #ff00ff; text-decoration-color: #ff00ff\">tr</span><span style=\"color: #000000; text-decoration-color: #000000\">&gt;&lt;tr&gt;&lt;td&gt;Corporate </span>\n",
       "<span style=\"color: #000000; text-decoration-color: #000000\">bonds&lt;</span><span style=\"color: #800080; text-decoration-color: #800080\">/</span><span style=\"color: #ff00ff; text-decoration-color: #ff00ff\">td</span><span style=\"color: #000000; text-decoration-color: #000000\">&gt;&lt;td&gt;</span><span style=\"color: #008080; text-decoration-color: #008080; font-weight: bold\">1</span><span style=\"color: #000000; text-decoration-color: #000000\">,</span><span style=\"color: #008080; text-decoration-color: #008080; font-weight: bold\">554</span><span style=\"color: #000000; text-decoration-color: #000000\">&lt;</span><span style=\"color: #800080; text-decoration-color: #800080\">/</span><span style=\"color: #ff00ff; text-decoration-color: #ff00ff\">td</span><span style=\"color: #000000; text-decoration-color: #000000\">&gt;&lt;td&gt;</span><span style=\"color: #008080; text-decoration-color: #008080; font-weight: bold\">1</span><span style=\"color: #000000; text-decoration-color: #000000\">,</span><span style=\"color: #008080; text-decoration-color: #008080; font-weight: bold\">554</span><span style=\"color: #000000; text-decoration-color: #000000\">&lt;</span><span style=\"color: #800080; text-decoration-color: #800080\">/</span><span style=\"color: #ff00ff; text-decoration-color: #ff00ff\">td</span><span style=\"color: #000000; text-decoration-color: #000000\">&gt;&lt;td&gt;—&lt;</span><span style=\"color: #800080; text-decoration-color: #800080\">/</span><span style=\"color: #ff00ff; text-decoration-color: #ff00ff\">td</span><span style=\"color: #000000; text-decoration-color: #000000\">&gt;&lt;td&gt;</span><span style=\"color: #008080; text-decoration-color: #008080; font-weight: bold\">908</span><span style=\"color: #000000; text-decoration-color: #000000\">&lt;</span><span style=\"color: #800080; text-decoration-color: #800080\">/</span><span style=\"color: #ff00ff; text-decoration-color: #ff00ff\">td</span><span style=\"color: #000000; text-decoration-color: #000000\">&gt;&lt;td&gt;</span><span style=\"color: #008080; text-decoration-color: #008080; font-weight: bold\">646</span><span style=\"color: #000000; text-decoration-color: #000000\">&lt;</span><span style=\"color: #800080; text-decoration-color: #800080\">/</span><span style=\"color: #ff00ff; text-decoration-color: #ff00ff\">td</span><span style=\"color: #000000; text-decoration-color: #000000\">&gt;&lt;</span><span style=\"color: #800080; text-decoration-color: #800080\">/</span><span style=\"color: #ff00ff; text-decoration-color: #ff00ff\">tr</span><span style=\"color: #000000; text-decoration-color: #000000\">&gt;&lt;tr&gt;&lt;td&gt;Other&lt;</span><span style=\"color: #800080; text-decoration-color: #800080\">/</span><span style=\"color: #ff00ff; text-decoration-color: #ff00ff\">td</span><span style=\"color: #000000; text-decoration-color: #000000\">&gt;&lt;td&gt;</span><span style=\"color: #008080; text-decoration-color: #008080; font-weight: bold\">266</span><span style=\"color: #000000; text-decoration-color: #000000\">&lt;</span><span style=\"color: #800080; text-decoration-color: #800080\">/</span><span style=\"color: #ff00ff; text-decoration-color: #ff00ff\">td</span><span style=\"color: #000000; text-decoration-color: #000000\">&gt;&lt;td&gt;</span><span style=\"color: #008080; text-decoration-color: #008080; font-weight: bold\">266</span><span style=\"color: #000000; text-decoration-color: #000000\">&lt;</span>\n",
       "<span style=\"color: #800080; text-decoration-color: #800080\">/</span><span style=\"color: #ff00ff; text-decoration-color: #ff00ff\">td</span><span style=\"color: #000000; text-decoration-color: #000000\">&gt;&lt;td&gt;—&lt;</span><span style=\"color: #800080; text-decoration-color: #800080\">/</span><span style=\"color: #ff00ff; text-decoration-color: #ff00ff\">td</span><span style=\"color: #000000; text-decoration-color: #000000\">&gt;&lt;td&gt;</span><span style=\"color: #008080; text-decoration-color: #008080; font-weight: bold\">266</span><span style=\"color: #000000; text-decoration-color: #000000\">&lt;</span><span style=\"color: #800080; text-decoration-color: #800080\">/</span><span style=\"color: #ff00ff; text-decoration-color: #ff00ff\">td</span><span style=\"color: #000000; text-decoration-color: #000000\">&gt;&lt;td&gt;—&lt;</span><span style=\"color: #800080; text-decoration-color: #800080\">/</span><span style=\"color: #ff00ff; text-decoration-color: #ff00ff\">td</span><span style=\"color: #000000; text-decoration-color: #000000\">&gt;&lt;</span><span style=\"color: #800080; text-decoration-color: #800080\">/</span><span style=\"color: #ff00ff; text-decoration-color: #ff00ff\">tr</span><span style=\"color: #000000; text-decoration-color: #000000\">&gt;&lt;tr&gt;&lt;td&gt;Investments in equity </span>\n",
       "<span style=\"color: #000000; text-decoration-color: #000000\">securities&lt;</span><span style=\"color: #800080; text-decoration-color: #800080\">/</span><span style=\"color: #ff00ff; text-decoration-color: #ff00ff\">td</span><span style=\"color: #000000; text-decoration-color: #000000\">&gt;&lt;td&gt;</span><span style=\"color: #008080; text-decoration-color: #008080; font-weight: bold\">353</span><span style=\"color: #000000; text-decoration-color: #000000\">,</span><span style=\"color: #008080; text-decoration-color: #008080; font-weight: bold\">409</span><span style=\"color: #000000; text-decoration-color: #000000\">&lt;</span><span style=\"color: #800080; text-decoration-color: #800080\">/</span><span style=\"color: #ff00ff; text-decoration-color: #ff00ff\">td</span><span style=\"color: #000000; text-decoration-color: #000000\">&gt;&lt;td&gt;</span><span style=\"color: #008080; text-decoration-color: #008080; font-weight: bold\">353</span><span style=\"color: #000000; text-decoration-color: #000000\">,</span><span style=\"color: #008080; text-decoration-color: #008080; font-weight: bold\">409</span><span style=\"color: #000000; text-decoration-color: #000000\">&lt;</span><span style=\"color: #800080; text-decoration-color: #800080\">/</span><span style=\"color: #ff00ff; text-decoration-color: #ff00ff\">td</span><span style=\"color: #000000; text-decoration-color: #000000\">&gt;&lt;td&gt;</span><span style=\"color: #008080; text-decoration-color: #008080; font-weight: bold\">342</span><span style=\"color: #000000; text-decoration-color: #000000\">,</span><span style=\"color: #008080; text-decoration-color: #008080; font-weight: bold\">596</span><span style=\"color: #000000; text-decoration-color: #000000\">&lt;</span><span style=\"color: #800080; text-decoration-color: #800080\">/</span><span style=\"color: #ff00ff; text-decoration-color: #ff00ff\">td</span><span style=\"color: #000000; text-decoration-color: #000000\">&gt;&lt;td&gt;</span><span style=\"color: #008080; text-decoration-color: #008080; font-weight: bold\">11</span><span style=\"color: #000000; text-decoration-color: #000000\">&lt;</span><span style=\"color: #800080; text-decoration-color: #800080\">/</span><span style=\"color: #ff00ff; text-decoration-color: #ff00ff\">td</span><span style=\"color: #000000; text-decoration-color: #000000\">&gt;&lt;td&gt;</span><span style=\"color: #008080; text-decoration-color: #008080; font-weight: bold\">10</span><span style=\"color: #000000; text-decoration-color: #000000\">,</span><span style=\"color: #008080; text-decoration-color: #008080; font-weight: bold\">802</span><span style=\"color: #000000; text-decoration-color: #000000\">&lt;</span><span style=\"color: #800080; text-decoration-color: #800080\">/</span><span style=\"color: #ff00ff; text-decoration-color: #ff00ff\">td</span><span style=\"color: #000000; text-decoration-color: #000000\">&gt;&lt;</span><span style=\"color: #800080; text-decoration-color: #800080\">/</span><span style=\"color: #ff00ff; text-decoration-color: #ff00ff\">tr</span><span style=\"color: #000000; text-decoration-color: #000000\">&gt;&lt;tr&gt;&lt;td&gt;Investments </span>\n",
       "<span style=\"color: #000000; text-decoration-color: #000000\">in Kraft Heinz &amp;amp; Occidental common </span>\n",
       "<span style=\"color: #000000; text-decoration-color: #000000\">stock&lt;</span><span style=\"color: #800080; text-decoration-color: #800080\">/</span><span style=\"color: #ff00ff; text-decoration-color: #ff00ff\">td</span><span style=\"color: #000000; text-decoration-color: #000000\">&gt;&lt;td&gt;</span><span style=\"color: #008080; text-decoration-color: #008080; font-weight: bold\">27</span><span style=\"color: #000000; text-decoration-color: #000000\">,</span><span style=\"color: #008080; text-decoration-color: #008080; font-weight: bold\">060</span><span style=\"color: #000000; text-decoration-color: #000000\">&lt;</span><span style=\"color: #800080; text-decoration-color: #800080\">/</span><span style=\"color: #ff00ff; text-decoration-color: #ff00ff\">td</span><span style=\"color: #000000; text-decoration-color: #000000\">&gt;&lt;td&gt;</span><span style=\"color: #008080; text-decoration-color: #008080; font-weight: bold\">24</span><span style=\"color: #000000; text-decoration-color: #000000\">,</span><span style=\"color: #008080; text-decoration-color: #008080; font-weight: bold\">732</span><span style=\"color: #000000; text-decoration-color: #000000\">&lt;</span><span style=\"color: #800080; text-decoration-color: #800080\">/</span><span style=\"color: #ff00ff; text-decoration-color: #ff00ff\">td</span><span style=\"color: #000000; text-decoration-color: #000000\">&gt;&lt;td&gt;</span><span style=\"color: #008080; text-decoration-color: #008080; font-weight: bold\">24</span><span style=\"color: #000000; text-decoration-color: #000000\">,</span><span style=\"color: #008080; text-decoration-color: #008080; font-weight: bold\">732</span><span style=\"color: #000000; text-decoration-color: #000000\">&lt;</span><span style=\"color: #800080; text-decoration-color: #800080\">/</span><span style=\"color: #ff00ff; text-decoration-color: #ff00ff\">td</span><span style=\"color: #000000; text-decoration-color: #000000\">&gt;&lt;td&gt;—&lt;</span><span style=\"color: #800080; text-decoration-color: #800080\">/</span><span style=\"color: #ff00ff; text-decoration-color: #ff00ff\">td</span><span style=\"color: #000000; text-decoration-color: #000000\">&gt;&lt;td&gt;—&lt;</span><span style=\"color: #800080; text-decoration-color: #800080\">/</span><span style=\"color: #ff00ff; text-decoration-color: #ff00ff\">td</span><span style=\"color: #000000; text-decoration-color: #000000\">&gt;&lt;</span><span style=\"color: #800080; text-decoration-color: #800080\">/</span><span style=\"color: #ff00ff; text-decoration-color: #ff00ff\">tr</span><span style=\"color: #000000; text-decoration-color: #000000\">&gt;&lt;tr&gt;&lt;td&gt;Loans and finance </span>\n",
       "<span style=\"color: #000000; text-decoration-color: #000000\">receivables&lt;</span><span style=\"color: #800080; text-decoration-color: #800080\">/</span><span style=\"color: #ff00ff; text-decoration-color: #ff00ff\">td</span><span style=\"color: #000000; text-decoration-color: #000000\">&gt;&lt;td&gt;</span><span style=\"color: #008080; text-decoration-color: #008080; font-weight: bold\">23</span><span style=\"color: #000000; text-decoration-color: #000000\">,</span><span style=\"color: #008080; text-decoration-color: #008080; font-weight: bold\">530</span><span style=\"color: #000000; text-decoration-color: #000000\">&lt;</span><span style=\"color: #800080; text-decoration-color: #800080\">/</span><span style=\"color: #ff00ff; text-decoration-color: #ff00ff\">td</span><span style=\"color: #000000; text-decoration-color: #000000\">&gt;&lt;td&gt;</span><span style=\"color: #008080; text-decoration-color: #008080; font-weight: bold\">24</span><span style=\"color: #000000; text-decoration-color: #000000\">,</span><span style=\"color: #008080; text-decoration-color: #008080; font-weight: bold\">020</span><span style=\"color: #000000; text-decoration-color: #000000\">&lt;</span><span style=\"color: #800080; text-decoration-color: #800080\">/</span><span style=\"color: #ff00ff; text-decoration-color: #ff00ff\">td</span><span style=\"color: #000000; text-decoration-color: #000000\">&gt;&lt;td&gt;—&lt;</span><span style=\"color: #800080; text-decoration-color: #800080\">/</span><span style=\"color: #ff00ff; text-decoration-color: #ff00ff\">td</span><span style=\"color: #000000; text-decoration-color: #000000\">&gt;&lt;td&gt;</span><span style=\"color: #008080; text-decoration-color: #008080; font-weight: bold\">1</span><span style=\"color: #000000; text-decoration-color: #000000\">,</span><span style=\"color: #008080; text-decoration-color: #008080; font-weight: bold\">097</span><span style=\"color: #000000; text-decoration-color: #000000\">&lt;</span><span style=\"color: #800080; text-decoration-color: #800080\">/</span><span style=\"color: #ff00ff; text-decoration-color: #ff00ff\">td</span><span style=\"color: #000000; text-decoration-color: #000000\">&gt;&lt;td&gt;</span><span style=\"color: #008080; text-decoration-color: #008080; font-weight: bold\">22</span><span style=\"color: #000000; text-decoration-color: #000000\">,</span><span style=\"color: #008080; text-decoration-color: #008080; font-weight: bold\">923</span><span style=\"color: #000000; text-decoration-color: #000000\">&lt;</span><span style=\"color: #800080; text-decoration-color: #800080\">/</span><span style=\"color: #ff00ff; text-decoration-color: #ff00ff\">td</span><span style=\"color: #000000; text-decoration-color: #000000\">&gt;&lt;</span><span style=\"color: #800080; text-decoration-color: #800080\">/</span><span style=\"color: #ff00ff; text-decoration-color: #ff00ff\">tr</span><span style=\"color: #000000; text-decoration-color: #000000\">&gt;&lt;tr&gt;&lt;td&gt;Derivative </span>\n",
       "<span style=\"color: #000000; text-decoration-color: #000000\">contract assets </span><span style=\"color: #000000; text-decoration-color: #000000; font-weight: bold\">(</span><span style=\"color: #008080; text-decoration-color: #008080; font-weight: bold\">1</span><span style=\"color: #000000; text-decoration-color: #000000; font-weight: bold\">)</span><span style=\"color: #000000; text-decoration-color: #000000\">&lt;</span><span style=\"color: #800080; text-decoration-color: #800080\">/</span><span style=\"color: #ff00ff; text-decoration-color: #ff00ff\">td</span><span style=\"color: #000000; text-decoration-color: #000000\">&gt;&lt;td&gt;</span><span style=\"color: #008080; text-decoration-color: #008080; font-weight: bold\">355</span><span style=\"color: #000000; text-decoration-color: #000000\">&lt;</span><span style=\"color: #800080; text-decoration-color: #800080\">/</span><span style=\"color: #ff00ff; text-decoration-color: #ff00ff\">td</span><span style=\"color: #000000; text-decoration-color: #000000\">&gt;&lt;td&gt;</span><span style=\"color: #008080; text-decoration-color: #008080; font-weight: bold\">355</span><span style=\"color: #000000; text-decoration-color: #000000\">&lt;</span><span style=\"color: #800080; text-decoration-color: #800080\">/</span><span style=\"color: #ff00ff; text-decoration-color: #ff00ff\">td</span><span style=\"color: #000000; text-decoration-color: #000000\">&gt;&lt;td&gt;</span><span style=\"color: #008080; text-decoration-color: #008080; font-weight: bold\">74</span><span style=\"color: #000000; text-decoration-color: #000000\">&lt;</span><span style=\"color: #800080; text-decoration-color: #800080\">/</span><span style=\"color: #ff00ff; text-decoration-color: #ff00ff\">td</span><span style=\"color: #000000; text-decoration-color: #000000\">&gt;&lt;td&gt;</span><span style=\"color: #008080; text-decoration-color: #008080; font-weight: bold\">256</span><span style=\"color: #000000; text-decoration-color: #000000\">&lt;</span><span style=\"color: #800080; text-decoration-color: #800080\">/</span><span style=\"color: #ff00ff; text-decoration-color: #ff00ff\">td</span><span style=\"color: #000000; text-decoration-color: #000000\">&gt;&lt;td&gt;</span><span style=\"color: #008080; text-decoration-color: #008080; font-weight: bold\">25</span><span style=\"color: #000000; text-decoration-color: #000000\">&lt;</span><span style=\"color: #800080; text-decoration-color: #800080\">/</span><span style=\"color: #ff00ff; text-decoration-color: #ff00ff\">td</span><span style=\"color: #000000; text-decoration-color: #000000\">&gt;&lt;</span><span style=\"color: #800080; text-decoration-color: #800080\">/</span><span style=\"color: #ff00ff; text-decoration-color: #ff00ff\">tr</span><span style=\"color: #000000; text-decoration-color: #000000\">&gt;&lt;tr&gt;&lt;td&gt;Derivative contract </span>\n",
       "<span style=\"color: #000000; text-decoration-color: #000000\">liabilities </span><span style=\"color: #000000; text-decoration-color: #000000; font-weight: bold\">(</span><span style=\"color: #008080; text-decoration-color: #008080; font-weight: bold\">1</span><span style=\"color: #000000; text-decoration-color: #000000; font-weight: bold\">)</span><span style=\"color: #000000; text-decoration-color: #000000\">&lt;</span><span style=\"color: #800080; text-decoration-color: #800080\">/</span><span style=\"color: #ff00ff; text-decoration-color: #ff00ff\">td</span><span style=\"color: #000000; text-decoration-color: #000000\">&gt;&lt;td&gt;</span><span style=\"color: #008080; text-decoration-color: #008080; font-weight: bold\">309</span><span style=\"color: #000000; text-decoration-color: #000000\">&lt;</span><span style=\"color: #800080; text-decoration-color: #800080\">/</span><span style=\"color: #ff00ff; text-decoration-color: #ff00ff\">td</span><span style=\"color: #000000; text-decoration-color: #000000\">&gt;&lt;td&gt;</span><span style=\"color: #008080; text-decoration-color: #008080; font-weight: bold\">309</span><span style=\"color: #000000; text-decoration-color: #000000\">&lt;</span><span style=\"color: #800080; text-decoration-color: #800080\">/</span><span style=\"color: #ff00ff; text-decoration-color: #ff00ff\">td</span><span style=\"color: #000000; text-decoration-color: #000000\">&gt;&lt;td&gt;</span><span style=\"color: #008080; text-decoration-color: #008080; font-weight: bold\">48</span><span style=\"color: #000000; text-decoration-color: #000000\">&lt;</span><span style=\"color: #800080; text-decoration-color: #800080\">/</span><span style=\"color: #ff00ff; text-decoration-color: #ff00ff\">td</span><span style=\"color: #000000; text-decoration-color: #000000\">&gt;&lt;td&gt;</span><span style=\"color: #008080; text-decoration-color: #008080; font-weight: bold\">73</span><span style=\"color: #000000; text-decoration-color: #000000\">&lt;</span><span style=\"color: #800080; text-decoration-color: #800080\">/</span><span style=\"color: #ff00ff; text-decoration-color: #ff00ff\">td</span><span style=\"color: #000000; text-decoration-color: #000000\">&gt;&lt;td&gt;</span><span style=\"color: #008080; text-decoration-color: #008080; font-weight: bold\">188</span><span style=\"color: #000000; text-decoration-color: #000000\">&lt;</span><span style=\"color: #800080; text-decoration-color: #800080\">/</span><span style=\"color: #ff00ff; text-decoration-color: #ff00ff\">td</span><span style=\"color: #000000; text-decoration-color: #000000\">&gt;&lt;</span><span style=\"color: #800080; text-decoration-color: #800080\">/</span><span style=\"color: #ff00ff; text-decoration-color: #ff00ff\">tr</span><span style=\"color: #000000; text-decoration-color: #000000\">&gt;&lt;tr&gt;&lt;td&gt;Notes payable and other </span>\n",
       "<span style=\"color: #000000; text-decoration-color: #000000\">borrowings:&lt;</span><span style=\"color: #800080; text-decoration-color: #800080\">/</span><span style=\"color: #ff00ff; text-decoration-color: #ff00ff\">td</span><span style=\"color: #000000; text-decoration-color: #000000\">&gt;&lt;td&gt;&lt;</span><span style=\"color: #800080; text-decoration-color: #800080\">/</span><span style=\"color: #ff00ff; text-decoration-color: #ff00ff\">td</span><span style=\"color: #000000; text-decoration-color: #000000\">&gt;&lt;td&gt;&lt;</span><span style=\"color: #800080; text-decoration-color: #800080\">/</span><span style=\"color: #ff00ff; text-decoration-color: #ff00ff\">td</span><span style=\"color: #000000; text-decoration-color: #000000\">&gt;&lt;td&gt;&lt;</span><span style=\"color: #800080; text-decoration-color: #800080\">/</span><span style=\"color: #ff00ff; text-decoration-color: #ff00ff\">td</span><span style=\"color: #000000; text-decoration-color: #000000\">&gt;&lt;td&gt;&lt;</span><span style=\"color: #800080; text-decoration-color: #800080\">/</span><span style=\"color: #ff00ff; text-decoration-color: #ff00ff\">td</span><span style=\"color: #000000; text-decoration-color: #000000\">&gt;&lt;td&gt;&lt;</span><span style=\"color: #800080; text-decoration-color: #800080\">/</span><span style=\"color: #ff00ff; text-decoration-color: #ff00ff\">td</span><span style=\"color: #000000; text-decoration-color: #000000\">&gt;&lt;</span><span style=\"color: #800080; text-decoration-color: #800080\">/</span><span style=\"color: #ff00ff; text-decoration-color: #ff00ff\">tr</span><span style=\"color: #000000; text-decoration-color: #000000\">&gt;&lt;tr&gt;&lt;td&gt;Insurance and </span>\n",
       "<span style=\"color: #000000; text-decoration-color: #000000\">other&lt;</span><span style=\"color: #800080; text-decoration-color: #800080\">/</span><span style=\"color: #ff00ff; text-decoration-color: #ff00ff\">td</span><span style=\"color: #000000; text-decoration-color: #000000\">&gt;&lt;td&gt;</span><span style=\"color: #008080; text-decoration-color: #008080; font-weight: bold\">41</span><span style=\"color: #000000; text-decoration-color: #000000\">,</span><span style=\"color: #008080; text-decoration-color: #008080; font-weight: bold\">389</span><span style=\"color: #000000; text-decoration-color: #000000\">&lt;</span><span style=\"color: #800080; text-decoration-color: #800080\">/</span><span style=\"color: #ff00ff; text-decoration-color: #ff00ff\">td</span><span style=\"color: #000000; text-decoration-color: #000000\">&gt;&lt;td&gt;</span><span style=\"color: #008080; text-decoration-color: #008080; font-weight: bold\">36</span><span style=\"color: #000000; text-decoration-color: #000000\">,</span><span style=\"color: #008080; text-decoration-color: #008080; font-weight: bold\">100</span><span style=\"color: #000000; text-decoration-color: #000000\">&lt;</span><span style=\"color: #800080; text-decoration-color: #800080\">/</span><span style=\"color: #ff00ff; text-decoration-color: #ff00ff\">td</span><span style=\"color: #000000; text-decoration-color: #000000\">&gt;&lt;td&gt;—&lt;</span><span style=\"color: #800080; text-decoration-color: #800080\">/</span><span style=\"color: #ff00ff; text-decoration-color: #ff00ff\">td</span><span style=\"color: #000000; text-decoration-color: #000000\">&gt;&lt;td&gt;</span><span style=\"color: #008080; text-decoration-color: #008080; font-weight: bold\">36</span><span style=\"color: #000000; text-decoration-color: #000000\">,</span><span style=\"color: #008080; text-decoration-color: #008080; font-weight: bold\">071</span><span style=\"color: #000000; text-decoration-color: #000000\">&lt;</span><span style=\"color: #800080; text-decoration-color: #800080\">/</span><span style=\"color: #ff00ff; text-decoration-color: #ff00ff\">td</span><span style=\"color: #000000; text-decoration-color: #000000\">&gt;&lt;td&gt;</span><span style=\"color: #008080; text-decoration-color: #008080; font-weight: bold\">29</span><span style=\"color: #000000; text-decoration-color: #000000\">&lt;</span><span style=\"color: #800080; text-decoration-color: #800080\">/</span><span style=\"color: #ff00ff; text-decoration-color: #ff00ff\">td</span><span style=\"color: #000000; text-decoration-color: #000000\">&gt;&lt;</span><span style=\"color: #800080; text-decoration-color: #800080\">/</span><span style=\"color: #ff00ff; text-decoration-color: #ff00ff\">tr</span><span style=\"color: #000000; text-decoration-color: #000000\">&gt;&lt;tr&gt;&lt;td&gt;Railroad, utilities and </span>\n",
       "<span style=\"color: #000000; text-decoration-color: #000000\">energy&lt;</span><span style=\"color: #800080; text-decoration-color: #800080\">/</span><span style=\"color: #ff00ff; text-decoration-color: #ff00ff\">td</span><span style=\"color: #000000; text-decoration-color: #000000\">&gt;&lt;td&gt;</span><span style=\"color: #008080; text-decoration-color: #008080; font-weight: bold\">83</span><span style=\"color: #000000; text-decoration-color: #000000\">,</span><span style=\"color: #008080; text-decoration-color: #008080; font-weight: bold\">958</span><span style=\"color: #000000; text-decoration-color: #000000\">&lt;</span><span style=\"color: #800080; text-decoration-color: #800080\">/</span><span style=\"color: #ff00ff; text-decoration-color: #ff00ff\">td</span><span style=\"color: #000000; text-decoration-color: #000000\">&gt;&lt;td&gt;</span><span style=\"color: #008080; text-decoration-color: #008080; font-weight: bold\">77</span><span style=\"color: #000000; text-decoration-color: #000000\">,</span><span style=\"color: #008080; text-decoration-color: #008080; font-weight: bold\">040</span><span style=\"color: #000000; text-decoration-color: #000000\">&lt;</span><span style=\"color: #800080; text-decoration-color: #800080\">/</span><span style=\"color: #ff00ff; text-decoration-color: #ff00ff\">td</span><span style=\"color: #000000; text-decoration-color: #000000\">&gt;&lt;td&gt;—&lt;</span><span style=\"color: #800080; text-decoration-color: #800080\">/</span><span style=\"color: #ff00ff; text-decoration-color: #ff00ff\">td</span><span style=\"color: #000000; text-decoration-color: #000000\">&gt;&lt;td&gt;</span><span style=\"color: #008080; text-decoration-color: #008080; font-weight: bold\">77</span><span style=\"color: #000000; text-decoration-color: #000000\">,</span><span style=\"color: #008080; text-decoration-color: #008080; font-weight: bold\">040</span><span style=\"color: #000000; text-decoration-color: #000000\">&lt;</span><span style=\"color: #800080; text-decoration-color: #800080\">/</span><span style=\"color: #ff00ff; text-decoration-color: #ff00ff\">td</span><span style=\"color: #000000; text-decoration-color: #000000\">&gt;&lt;td&gt;—&lt;</span><span style=\"color: #800080; text-decoration-color: #800080\">/</span><span style=\"color: #ff00ff; text-decoration-color: #ff00ff\">td</span><span style=\"color: #000000; text-decoration-color: #000000\">&gt;&lt;</span><span style=\"color: #800080; text-decoration-color: #800080\">/</span><span style=\"color: #ff00ff; text-decoration-color: #ff00ff\">tr</span><span style=\"color: #000000; text-decoration-color: #000000\">&gt;&lt;tr&gt;&lt;td&gt;December </span><span style=\"color: #008080; text-decoration-color: #008080; font-weight: bold\">31</span><span style=\"color: #000000; text-decoration-color: #000000\">, </span>\n",
       "<span style=\"color: #008080; text-decoration-color: #008080; font-weight: bold\">2022</span><span style=\"color: #000000; text-decoration-color: #000000\">&lt;</span><span style=\"color: #800080; text-decoration-color: #800080\">/</span><span style=\"color: #ff00ff; text-decoration-color: #ff00ff\">td</span><span style=\"color: #000000; text-decoration-color: #000000\">&gt;&lt;td&gt;&lt;</span><span style=\"color: #800080; text-decoration-color: #800080\">/</span><span style=\"color: #ff00ff; text-decoration-color: #ff00ff\">td</span><span style=\"color: #000000; text-decoration-color: #000000\">&gt;&lt;td&gt;&lt;</span><span style=\"color: #800080; text-decoration-color: #800080\">/</span><span style=\"color: #ff00ff; text-decoration-color: #ff00ff\">td</span><span style=\"color: #000000; text-decoration-color: #000000\">&gt;&lt;td&gt;&lt;</span><span style=\"color: #800080; text-decoration-color: #800080\">/</span><span style=\"color: #ff00ff; text-decoration-color: #ff00ff\">td</span><span style=\"color: #000000; text-decoration-color: #000000\">&gt;&lt;td&gt;&lt;</span><span style=\"color: #800080; text-decoration-color: #800080\">/</span><span style=\"color: #ff00ff; text-decoration-color: #ff00ff\">td</span><span style=\"color: #000000; text-decoration-color: #000000\">&gt;&lt;td&gt;&lt;</span><span style=\"color: #800080; text-decoration-color: #800080\">/</span><span style=\"color: #ff00ff; text-decoration-color: #ff00ff\">td</span><span style=\"color: #000000; text-decoration-color: #000000\">&gt;&lt;</span><span style=\"color: #800080; text-decoration-color: #800080\">/</span><span style=\"color: #ff00ff; text-decoration-color: #ff00ff\">tr</span><span style=\"color: #000000; text-decoration-color: #000000\">&gt;&lt;tr&gt;&lt;td&gt;Investments in fixed maturity </span>\n",
       "<span style=\"color: #000000; text-decoration-color: #000000\">securities:&lt;</span><span style=\"color: #800080; text-decoration-color: #800080\">/</span><span style=\"color: #ff00ff; text-decoration-color: #ff00ff\">td</span><span style=\"color: #000000; text-decoration-color: #000000\">&gt;&lt;td&gt;&lt;</span><span style=\"color: #800080; text-decoration-color: #800080\">/</span><span style=\"color: #ff00ff; text-decoration-color: #ff00ff\">td</span><span style=\"color: #000000; text-decoration-color: #000000\">&gt;&lt;td&gt;&lt;</span><span style=\"color: #800080; text-decoration-color: #800080\">/</span><span style=\"color: #ff00ff; text-decoration-color: #ff00ff\">td</span><span style=\"color: #000000; text-decoration-color: #000000\">&gt;&lt;td&gt;&lt;</span><span style=\"color: #800080; text-decoration-color: #800080\">/</span><span style=\"color: #ff00ff; text-decoration-color: #ff00ff\">td</span><span style=\"color: #000000; text-decoration-color: #000000\">&gt;&lt;td&gt;&lt;</span><span style=\"color: #800080; text-decoration-color: #800080\">/</span><span style=\"color: #ff00ff; text-decoration-color: #ff00ff\">td</span><span style=\"color: #000000; text-decoration-color: #000000\">&gt;&lt;td&gt;&lt;</span><span style=\"color: #800080; text-decoration-color: #800080\">/</span><span style=\"color: #ff00ff; text-decoration-color: #ff00ff\">td</span><span style=\"color: #000000; text-decoration-color: #000000\">&gt;&lt;</span><span style=\"color: #800080; text-decoration-color: #800080\">/</span><span style=\"color: #ff00ff; text-decoration-color: #ff00ff\">tr</span><span style=\"color: #000000; text-decoration-color: #000000\">&gt;&lt;tr&gt;&lt;td&gt;U.S. Treasury, U.S. government </span>\n",
       "<span style=\"color: #000000; text-decoration-color: #000000\">corporations and agencies&lt;</span><span style=\"color: #800080; text-decoration-color: #800080\">/</span><span style=\"color: #ff00ff; text-decoration-color: #ff00ff\">td</span><span style=\"color: #000000; text-decoration-color: #000000\">&gt;&lt;td&gt;$ </span><span style=\"color: #008080; text-decoration-color: #008080; font-weight: bold\">9</span><span style=\"color: #000000; text-decoration-color: #000000\">,</span><span style=\"color: #008080; text-decoration-color: #008080; font-weight: bold\">802</span><span style=\"color: #000000; text-decoration-color: #000000\">&lt;</span><span style=\"color: #800080; text-decoration-color: #800080\">/</span><span style=\"color: #ff00ff; text-decoration-color: #ff00ff\">td</span><span style=\"color: #000000; text-decoration-color: #000000\">&gt;&lt;td&gt;$ </span><span style=\"color: #008080; text-decoration-color: #008080; font-weight: bold\">9</span><span style=\"color: #000000; text-decoration-color: #000000\">,</span><span style=\"color: #008080; text-decoration-color: #008080; font-weight: bold\">802</span><span style=\"color: #000000; text-decoration-color: #000000\">&lt;</span><span style=\"color: #800080; text-decoration-color: #800080\">/</span><span style=\"color: #ff00ff; text-decoration-color: #ff00ff\">td</span><span style=\"color: #000000; text-decoration-color: #000000\">&gt;&lt;td&gt;$ </span><span style=\"color: #008080; text-decoration-color: #008080; font-weight: bold\">9</span><span style=\"color: #000000; text-decoration-color: #000000\">,</span><span style=\"color: #008080; text-decoration-color: #008080; font-weight: bold\">733</span><span style=\"color: #000000; text-decoration-color: #000000\">&lt;</span><span style=\"color: #800080; text-decoration-color: #800080\">/</span><span style=\"color: #ff00ff; text-decoration-color: #ff00ff\">td</span><span style=\"color: #000000; text-decoration-color: #000000\">&gt;&lt;td&gt;$ </span><span style=\"color: #008080; text-decoration-color: #008080; font-weight: bold\">69</span><span style=\"color: #000000; text-decoration-color: #000000\">&lt;</span><span style=\"color: #800080; text-decoration-color: #800080\">/</span><span style=\"color: #ff00ff; text-decoration-color: #ff00ff\">td</span><span style=\"color: #000000; text-decoration-color: #000000\">&gt;&lt;td&gt;$ </span>\n",
       "<span style=\"color: #000000; text-decoration-color: #000000\">—&lt;</span><span style=\"color: #800080; text-decoration-color: #800080\">/</span><span style=\"color: #ff00ff; text-decoration-color: #ff00ff\">td</span><span style=\"color: #000000; text-decoration-color: #000000\">&gt;&lt;</span><span style=\"color: #800080; text-decoration-color: #800080\">/</span><span style=\"color: #ff00ff; text-decoration-color: #ff00ff\">tr</span><span style=\"color: #000000; text-decoration-color: #000000\">&gt;&lt;tr&gt;&lt;td&gt;Foreign </span>\n",
       "<span style=\"color: #000000; text-decoration-color: #000000\">governments&lt;</span><span style=\"color: #800080; text-decoration-color: #800080\">/</span><span style=\"color: #ff00ff; text-decoration-color: #ff00ff\">td</span><span style=\"color: #000000; text-decoration-color: #000000\">&gt;&lt;td&gt;</span><span style=\"color: #008080; text-decoration-color: #008080; font-weight: bold\">10</span><span style=\"color: #000000; text-decoration-color: #000000\">,</span><span style=\"color: #008080; text-decoration-color: #008080; font-weight: bold\">327</span><span style=\"color: #000000; text-decoration-color: #000000\">&lt;</span><span style=\"color: #800080; text-decoration-color: #800080\">/</span><span style=\"color: #ff00ff; text-decoration-color: #ff00ff\">td</span><span style=\"color: #000000; text-decoration-color: #000000\">&gt;&lt;td&gt;</span><span style=\"color: #008080; text-decoration-color: #008080; font-weight: bold\">10</span><span style=\"color: #000000; text-decoration-color: #000000\">,</span><span style=\"color: #008080; text-decoration-color: #008080; font-weight: bold\">327</span><span style=\"color: #000000; text-decoration-color: #000000\">&lt;</span><span style=\"color: #800080; text-decoration-color: #800080\">/</span><span style=\"color: #ff00ff; text-decoration-color: #ff00ff\">td</span><span style=\"color: #000000; text-decoration-color: #000000\">&gt;&lt;td&gt;</span><span style=\"color: #008080; text-decoration-color: #008080; font-weight: bold\">9</span><span style=\"color: #000000; text-decoration-color: #000000\">,</span><span style=\"color: #008080; text-decoration-color: #008080; font-weight: bold\">854</span><span style=\"color: #000000; text-decoration-color: #000000\">&lt;</span><span style=\"color: #800080; text-decoration-color: #800080\">/</span><span style=\"color: #ff00ff; text-decoration-color: #ff00ff\">td</span><span style=\"color: #000000; text-decoration-color: #000000\">&gt;&lt;td&gt;</span><span style=\"color: #008080; text-decoration-color: #008080; font-weight: bold\">473</span><span style=\"color: #000000; text-decoration-color: #000000\">&lt;</span><span style=\"color: #800080; text-decoration-color: #800080\">/</span><span style=\"color: #ff00ff; text-decoration-color: #ff00ff\">td</span><span style=\"color: #000000; text-decoration-color: #000000\">&gt;&lt;td&gt;—&lt;</span><span style=\"color: #800080; text-decoration-color: #800080\">/</span><span style=\"color: #ff00ff; text-decoration-color: #ff00ff\">td</span><span style=\"color: #000000; text-decoration-color: #000000\">&gt;&lt;</span><span style=\"color: #800080; text-decoration-color: #800080\">/</span><span style=\"color: #ff00ff; text-decoration-color: #ff00ff\">tr</span><span style=\"color: #000000; text-decoration-color: #000000\">&gt;&lt;tr&gt;&lt;td&gt;Corporate </span>\n",
       "<span style=\"color: #000000; text-decoration-color: #000000\">bonds&lt;</span><span style=\"color: #800080; text-decoration-color: #800080\">/</span><span style=\"color: #ff00ff; text-decoration-color: #ff00ff\">td</span><span style=\"color: #000000; text-decoration-color: #000000\">&gt;&lt;td&gt;</span><span style=\"color: #008080; text-decoration-color: #008080; font-weight: bold\">2</span><span style=\"color: #000000; text-decoration-color: #000000\">,</span><span style=\"color: #008080; text-decoration-color: #008080; font-weight: bold\">195</span><span style=\"color: #000000; text-decoration-color: #000000\">&lt;</span><span style=\"color: #800080; text-decoration-color: #800080\">/</span><span style=\"color: #ff00ff; text-decoration-color: #ff00ff\">td</span><span style=\"color: #000000; text-decoration-color: #000000\">&gt;&lt;td&gt;</span><span style=\"color: #008080; text-decoration-color: #008080; font-weight: bold\">2</span><span style=\"color: #000000; text-decoration-color: #000000\">,</span><span style=\"color: #008080; text-decoration-color: #008080; font-weight: bold\">195</span><span style=\"color: #000000; text-decoration-color: #000000\">&lt;</span><span style=\"color: #800080; text-decoration-color: #800080\">/</span><span style=\"color: #ff00ff; text-decoration-color: #ff00ff\">td</span><span style=\"color: #000000; text-decoration-color: #000000\">&gt;&lt;td&gt;—&lt;</span><span style=\"color: #800080; text-decoration-color: #800080\">/</span><span style=\"color: #ff00ff; text-decoration-color: #ff00ff\">td</span><span style=\"color: #000000; text-decoration-color: #000000\">&gt;&lt;td&gt;</span><span style=\"color: #008080; text-decoration-color: #008080; font-weight: bold\">1</span><span style=\"color: #000000; text-decoration-color: #000000\">,</span><span style=\"color: #008080; text-decoration-color: #008080; font-weight: bold\">546</span><span style=\"color: #000000; text-decoration-color: #000000\">&lt;</span><span style=\"color: #800080; text-decoration-color: #800080\">/</span><span style=\"color: #ff00ff; text-decoration-color: #ff00ff\">td</span><span style=\"color: #000000; text-decoration-color: #000000\">&gt;&lt;td&gt;</span><span style=\"color: #008080; text-decoration-color: #008080; font-weight: bold\">649</span><span style=\"color: #000000; text-decoration-color: #000000\">&lt;</span><span style=\"color: #800080; text-decoration-color: #800080\">/</span><span style=\"color: #ff00ff; text-decoration-color: #ff00ff\">td</span><span style=\"color: #000000; text-decoration-color: #000000\">&gt;&lt;</span><span style=\"color: #800080; text-decoration-color: #800080\">/</span><span style=\"color: #ff00ff; text-decoration-color: #ff00ff\">tr</span><span style=\"color: #000000; text-decoration-color: #000000\">&gt;&lt;tr&gt;&lt;td&gt;Other&lt;</span><span style=\"color: #800080; text-decoration-color: #800080\">/</span><span style=\"color: #ff00ff; text-decoration-color: #ff00ff\">td</span><span style=\"color: #000000; text-decoration-color: #000000\">&gt;&lt;td&gt;</span><span style=\"color: #008080; text-decoration-color: #008080; font-weight: bold\">2</span><span style=\"color: #000000; text-decoration-color: #000000\">,</span><span style=\"color: #008080; text-decoration-color: #008080; font-weight: bold\">804</span><span style=\"color: #000000; text-decoration-color: #000000\">&lt;</span><span style=\"color: #800080; text-decoration-color: #800080\">/</span><span style=\"color: #ff00ff; text-decoration-color: #ff00ff\">td</span><span style=\"color: #000000; text-decoration-color: #000000\">&gt;&lt;td&gt;</span>\n",
       "<span style=\"color: #008080; text-decoration-color: #008080; font-weight: bold\">2</span><span style=\"color: #000000; text-decoration-color: #000000\">,</span><span style=\"color: #008080; text-decoration-color: #008080; font-weight: bold\">804</span><span style=\"color: #000000; text-decoration-color: #000000\">&lt;</span><span style=\"color: #800080; text-decoration-color: #800080\">/</span><span style=\"color: #ff00ff; text-decoration-color: #ff00ff\">td</span><span style=\"color: #000000; text-decoration-color: #000000\">&gt;&lt;td&gt;—&lt;</span><span style=\"color: #800080; text-decoration-color: #800080\">/</span><span style=\"color: #ff00ff; text-decoration-color: #ff00ff\">td</span><span style=\"color: #000000; text-decoration-color: #000000\">&gt;&lt;td&gt;</span><span style=\"color: #008080; text-decoration-color: #008080; font-weight: bold\">2</span><span style=\"color: #000000; text-decoration-color: #000000\">,</span><span style=\"color: #008080; text-decoration-color: #008080; font-weight: bold\">804</span><span style=\"color: #000000; text-decoration-color: #000000\">&lt;</span><span style=\"color: #800080; text-decoration-color: #800080\">/</span><span style=\"color: #ff00ff; text-decoration-color: #ff00ff\">td</span><span style=\"color: #000000; text-decoration-color: #000000\">&gt;&lt;td&gt;—&lt;</span><span style=\"color: #800080; text-decoration-color: #800080\">/</span><span style=\"color: #ff00ff; text-decoration-color: #ff00ff\">td</span><span style=\"color: #000000; text-decoration-color: #000000\">&gt;&lt;</span><span style=\"color: #800080; text-decoration-color: #800080\">/</span><span style=\"color: #ff00ff; text-decoration-color: #ff00ff\">tr</span><span style=\"color: #000000; text-decoration-color: #000000\">&gt;&lt;tr&gt;&lt;td&gt;Investments in equity </span>\n",
       "<span style=\"color: #000000; text-decoration-color: #000000\">securities&lt;</span><span style=\"color: #800080; text-decoration-color: #800080\">/</span><span style=\"color: #ff00ff; text-decoration-color: #ff00ff\">td</span><span style=\"color: #000000; text-decoration-color: #000000\">&gt;&lt;td&gt;</span><span style=\"color: #008080; text-decoration-color: #008080; font-weight: bold\">308</span><span style=\"color: #000000; text-decoration-color: #000000\">,</span><span style=\"color: #008080; text-decoration-color: #008080; font-weight: bold\">793</span><span style=\"color: #000000; text-decoration-color: #000000\">&lt;</span><span style=\"color: #800080; text-decoration-color: #800080\">/</span><span style=\"color: #ff00ff; text-decoration-color: #ff00ff\">td</span><span style=\"color: #000000; text-decoration-color: #000000\">&gt;&lt;td&gt;</span><span style=\"color: #008080; text-decoration-color: #008080; font-weight: bold\">308</span><span style=\"color: #000000; text-decoration-color: #000000\">,</span><span style=\"color: #008080; text-decoration-color: #008080; font-weight: bold\">793</span><span style=\"color: #000000; text-decoration-color: #000000\">&lt;</span><span style=\"color: #800080; text-decoration-color: #800080\">/</span><span style=\"color: #ff00ff; text-decoration-color: #ff00ff\">td</span><span style=\"color: #000000; text-decoration-color: #000000\">&gt;&lt;td&gt;</span><span style=\"color: #008080; text-decoration-color: #008080; font-weight: bold\">296</span><span style=\"color: #000000; text-decoration-color: #000000\">,</span><span style=\"color: #008080; text-decoration-color: #008080; font-weight: bold\">610</span><span style=\"color: #000000; text-decoration-color: #000000\">&lt;</span><span style=\"color: #800080; text-decoration-color: #800080\">/</span><span style=\"color: #ff00ff; text-decoration-color: #ff00ff\">td</span><span style=\"color: #000000; text-decoration-color: #000000\">&gt;&lt;td&gt;</span><span style=\"color: #008080; text-decoration-color: #008080; font-weight: bold\">9</span><span style=\"color: #000000; text-decoration-color: #000000\">&lt;</span><span style=\"color: #800080; text-decoration-color: #800080\">/</span><span style=\"color: #ff00ff; text-decoration-color: #ff00ff\">td</span><span style=\"color: #000000; text-decoration-color: #000000\">&gt;&lt;td&gt;</span><span style=\"color: #008080; text-decoration-color: #008080; font-weight: bold\">12</span><span style=\"color: #000000; text-decoration-color: #000000\">,</span><span style=\"color: #008080; text-decoration-color: #008080; font-weight: bold\">174</span><span style=\"color: #000000; text-decoration-color: #000000\">&lt;</span><span style=\"color: #800080; text-decoration-color: #800080\">/</span><span style=\"color: #ff00ff; text-decoration-color: #ff00ff\">td</span><span style=\"color: #000000; text-decoration-color: #000000\">&gt;&lt;</span><span style=\"color: #800080; text-decoration-color: #800080\">/</span><span style=\"color: #ff00ff; text-decoration-color: #ff00ff\">tr</span><span style=\"color: #000000; text-decoration-color: #000000\">&gt;&lt;tr&gt;&lt;td&gt;Investments in</span>\n",
       "<span style=\"color: #000000; text-decoration-color: #000000\">Kraft Heinz &amp;amp; Occidental common </span>\n",
       "<span style=\"color: #000000; text-decoration-color: #000000\">stock&lt;</span><span style=\"color: #800080; text-decoration-color: #800080\">/</span><span style=\"color: #ff00ff; text-decoration-color: #ff00ff\">td</span><span style=\"color: #000000; text-decoration-color: #000000\">&gt;&lt;td&gt;</span><span style=\"color: #008080; text-decoration-color: #008080; font-weight: bold\">24</span><span style=\"color: #000000; text-decoration-color: #000000\">,</span><span style=\"color: #008080; text-decoration-color: #008080; font-weight: bold\">421</span><span style=\"color: #000000; text-decoration-color: #000000\">&lt;</span><span style=\"color: #800080; text-decoration-color: #800080\">/</span><span style=\"color: #ff00ff; text-decoration-color: #ff00ff\">td</span><span style=\"color: #000000; text-decoration-color: #000000\">&gt;&lt;td&gt;</span><span style=\"color: #008080; text-decoration-color: #008080; font-weight: bold\">25</span><span style=\"color: #000000; text-decoration-color: #000000\">,</span><span style=\"color: #008080; text-decoration-color: #008080; font-weight: bold\">491</span><span style=\"color: #000000; text-decoration-color: #000000\">&lt;</span><span style=\"color: #800080; text-decoration-color: #800080\">/</span><span style=\"color: #ff00ff; text-decoration-color: #ff00ff\">td</span><span style=\"color: #000000; text-decoration-color: #000000\">&gt;&lt;td&gt;</span><span style=\"color: #008080; text-decoration-color: #008080; font-weight: bold\">25</span><span style=\"color: #000000; text-decoration-color: #000000\">,</span><span style=\"color: #008080; text-decoration-color: #008080; font-weight: bold\">491</span><span style=\"color: #000000; text-decoration-color: #000000\">&lt;</span><span style=\"color: #800080; text-decoration-color: #800080\">/</span><span style=\"color: #ff00ff; text-decoration-color: #ff00ff\">td</span><span style=\"color: #000000; text-decoration-color: #000000\">&gt;&lt;td&gt;—&lt;</span><span style=\"color: #800080; text-decoration-color: #800080\">/</span><span style=\"color: #ff00ff; text-decoration-color: #ff00ff\">td</span><span style=\"color: #000000; text-decoration-color: #000000\">&gt;&lt;td&gt;—&lt;</span><span style=\"color: #800080; text-decoration-color: #800080\">/</span><span style=\"color: #ff00ff; text-decoration-color: #ff00ff\">td</span><span style=\"color: #000000; text-decoration-color: #000000\">&gt;&lt;</span><span style=\"color: #800080; text-decoration-color: #800080\">/</span><span style=\"color: #ff00ff; text-decoration-color: #ff00ff\">tr</span><span style=\"color: #000000; text-decoration-color: #000000\">&gt;&lt;tr&gt;&lt;td&gt;Loans and finance </span>\n",
       "<span style=\"color: #000000; text-decoration-color: #000000\">receivables&lt;</span><span style=\"color: #800080; text-decoration-color: #800080\">/</span><span style=\"color: #ff00ff; text-decoration-color: #ff00ff\">td</span><span style=\"color: #000000; text-decoration-color: #000000\">&gt;&lt;td&gt;</span><span style=\"color: #008080; text-decoration-color: #008080; font-weight: bold\">23</span><span style=\"color: #000000; text-decoration-color: #000000\">,</span><span style=\"color: #008080; text-decoration-color: #008080; font-weight: bold\">208</span><span style=\"color: #000000; text-decoration-color: #000000\">&lt;</span><span style=\"color: #800080; text-decoration-color: #800080\">/</span><span style=\"color: #ff00ff; text-decoration-color: #ff00ff\">td</span><span style=\"color: #000000; text-decoration-color: #000000\">&gt;&lt;td&gt;</span><span style=\"color: #008080; text-decoration-color: #008080; font-weight: bold\">23</span><span style=\"color: #000000; text-decoration-color: #000000\">,</span><span style=\"color: #008080; text-decoration-color: #008080; font-weight: bold\">428</span><span style=\"color: #000000; text-decoration-color: #000000\">&lt;</span><span style=\"color: #800080; text-decoration-color: #800080\">/</span><span style=\"color: #ff00ff; text-decoration-color: #ff00ff\">td</span><span style=\"color: #000000; text-decoration-color: #000000\">&gt;&lt;td&gt;—&lt;</span><span style=\"color: #800080; text-decoration-color: #800080\">/</span><span style=\"color: #ff00ff; text-decoration-color: #ff00ff\">td</span><span style=\"color: #000000; text-decoration-color: #000000\">&gt;&lt;td&gt;</span><span style=\"color: #008080; text-decoration-color: #008080; font-weight: bold\">1</span><span style=\"color: #000000; text-decoration-color: #000000\">,</span><span style=\"color: #008080; text-decoration-color: #008080; font-weight: bold\">513</span><span style=\"color: #000000; text-decoration-color: #000000\">&lt;</span><span style=\"color: #800080; text-decoration-color: #800080\">/</span><span style=\"color: #ff00ff; text-decoration-color: #ff00ff\">td</span><span style=\"color: #000000; text-decoration-color: #000000\">&gt;&lt;td&gt;</span><span style=\"color: #008080; text-decoration-color: #008080; font-weight: bold\">21</span><span style=\"color: #000000; text-decoration-color: #000000\">,</span><span style=\"color: #008080; text-decoration-color: #008080; font-weight: bold\">915</span><span style=\"color: #000000; text-decoration-color: #000000\">&lt;</span><span style=\"color: #800080; text-decoration-color: #800080\">/</span><span style=\"color: #ff00ff; text-decoration-color: #ff00ff\">td</span><span style=\"color: #000000; text-decoration-color: #000000\">&gt;&lt;</span><span style=\"color: #800080; text-decoration-color: #800080\">/</span><span style=\"color: #ff00ff; text-decoration-color: #ff00ff\">tr</span><span style=\"color: #000000; text-decoration-color: #000000\">&gt;&lt;tr&gt;&lt;td&gt;Derivative </span>\n",
       "<span style=\"color: #000000; text-decoration-color: #000000\">contract assets </span><span style=\"color: #000000; text-decoration-color: #000000; font-weight: bold\">(</span><span style=\"color: #008080; text-decoration-color: #008080; font-weight: bold\">1</span><span style=\"color: #000000; text-decoration-color: #000000; font-weight: bold\">)</span><span style=\"color: #000000; text-decoration-color: #000000\">&lt;</span><span style=\"color: #800080; text-decoration-color: #800080\">/</span><span style=\"color: #ff00ff; text-decoration-color: #ff00ff\">td</span><span style=\"color: #000000; text-decoration-color: #000000\">&gt;&lt;td&gt;</span><span style=\"color: #008080; text-decoration-color: #008080; font-weight: bold\">589</span><span style=\"color: #000000; text-decoration-color: #000000\">&lt;</span><span style=\"color: #800080; text-decoration-color: #800080\">/</span><span style=\"color: #ff00ff; text-decoration-color: #ff00ff\">td</span><span style=\"color: #000000; text-decoration-color: #000000\">&gt;&lt;td&gt;</span><span style=\"color: #008080; text-decoration-color: #008080; font-weight: bold\">589</span><span style=\"color: #000000; text-decoration-color: #000000\">&lt;</span><span style=\"color: #800080; text-decoration-color: #800080\">/</span><span style=\"color: #ff00ff; text-decoration-color: #ff00ff\">td</span><span style=\"color: #000000; text-decoration-color: #000000\">&gt;&lt;td&gt;</span><span style=\"color: #008080; text-decoration-color: #008080; font-weight: bold\">56</span><span style=\"color: #000000; text-decoration-color: #000000\">&lt;</span><span style=\"color: #800080; text-decoration-color: #800080\">/</span><span style=\"color: #ff00ff; text-decoration-color: #ff00ff\">td</span><span style=\"color: #000000; text-decoration-color: #000000\">&gt;&lt;td&gt;</span><span style=\"color: #008080; text-decoration-color: #008080; font-weight: bold\">474</span><span style=\"color: #000000; text-decoration-color: #000000\">&lt;</span><span style=\"color: #800080; text-decoration-color: #800080\">/</span><span style=\"color: #ff00ff; text-decoration-color: #ff00ff\">td</span><span style=\"color: #000000; text-decoration-color: #000000\">&gt;&lt;td&gt;</span><span style=\"color: #008080; text-decoration-color: #008080; font-weight: bold\">59</span><span style=\"color: #000000; text-decoration-color: #000000\">&lt;</span><span style=\"color: #800080; text-decoration-color: #800080\">/</span><span style=\"color: #ff00ff; text-decoration-color: #ff00ff\">td</span><span style=\"color: #000000; text-decoration-color: #000000\">&gt;&lt;</span><span style=\"color: #800080; text-decoration-color: #800080\">/</span><span style=\"color: #ff00ff; text-decoration-color: #ff00ff\">tr</span><span style=\"color: #000000; text-decoration-color: #000000\">&gt;&lt;tr&gt;&lt;td&gt;Derivative contract </span>\n",
       "<span style=\"color: #000000; text-decoration-color: #000000\">liabilities </span><span style=\"color: #000000; text-decoration-color: #000000; font-weight: bold\">(</span><span style=\"color: #008080; text-decoration-color: #008080; font-weight: bold\">1</span><span style=\"color: #000000; text-decoration-color: #000000; font-weight: bold\">)</span><span style=\"color: #000000; text-decoration-color: #000000\">&lt;</span><span style=\"color: #800080; text-decoration-color: #800080\">/</span><span style=\"color: #ff00ff; text-decoration-color: #ff00ff\">td</span><span style=\"color: #000000; text-decoration-color: #000000\">&gt;&lt;td&gt;</span><span style=\"color: #008080; text-decoration-color: #008080; font-weight: bold\">242</span><span style=\"color: #000000; text-decoration-color: #000000\">&lt;</span><span style=\"color: #800080; text-decoration-color: #800080\">/</span><span style=\"color: #ff00ff; text-decoration-color: #ff00ff\">td</span><span style=\"color: #000000; text-decoration-color: #000000\">&gt;&lt;td&gt;</span><span style=\"color: #008080; text-decoration-color: #008080; font-weight: bold\">242</span><span style=\"color: #000000; text-decoration-color: #000000\">&lt;</span><span style=\"color: #800080; text-decoration-color: #800080\">/</span><span style=\"color: #ff00ff; text-decoration-color: #ff00ff\">td</span><span style=\"color: #000000; text-decoration-color: #000000\">&gt;&lt;td&gt;</span><span style=\"color: #008080; text-decoration-color: #008080; font-weight: bold\">8</span><span style=\"color: #000000; text-decoration-color: #000000\">&lt;</span><span style=\"color: #800080; text-decoration-color: #800080\">/</span><span style=\"color: #ff00ff; text-decoration-color: #ff00ff\">td</span><span style=\"color: #000000; text-decoration-color: #000000\">&gt;&lt;td&gt;</span><span style=\"color: #008080; text-decoration-color: #008080; font-weight: bold\">122</span><span style=\"color: #000000; text-decoration-color: #000000\">&lt;</span><span style=\"color: #800080; text-decoration-color: #800080\">/</span><span style=\"color: #ff00ff; text-decoration-color: #ff00ff\">td</span><span style=\"color: #000000; text-decoration-color: #000000\">&gt;&lt;td&gt;</span><span style=\"color: #008080; text-decoration-color: #008080; font-weight: bold\">112</span><span style=\"color: #000000; text-decoration-color: #000000\">&lt;</span><span style=\"color: #800080; text-decoration-color: #800080\">/</span><span style=\"color: #ff00ff; text-decoration-color: #ff00ff\">td</span><span style=\"color: #000000; text-decoration-color: #000000\">&gt;&lt;</span><span style=\"color: #800080; text-decoration-color: #800080\">/</span><span style=\"color: #ff00ff; text-decoration-color: #ff00ff\">tr</span><span style=\"color: #000000; text-decoration-color: #000000\">&gt;&lt;tr&gt;&lt;td&gt;Notes payable and other </span>\n",
       "<span style=\"color: #000000; text-decoration-color: #000000\">borrowings:&lt;</span><span style=\"color: #800080; text-decoration-color: #800080\">/</span><span style=\"color: #ff00ff; text-decoration-color: #ff00ff\">td</span><span style=\"color: #000000; text-decoration-color: #000000\">&gt;&lt;td&gt;&lt;</span><span style=\"color: #800080; text-decoration-color: #800080\">/</span><span style=\"color: #ff00ff; text-decoration-color: #ff00ff\">td</span><span style=\"color: #000000; text-decoration-color: #000000\">&gt;&lt;td&gt;&lt;</span><span style=\"color: #800080; text-decoration-color: #800080\">/</span><span style=\"color: #ff00ff; text-decoration-color: #ff00ff\">td</span><span style=\"color: #000000; text-decoration-color: #000000\">&gt;&lt;td&gt;&lt;</span><span style=\"color: #800080; text-decoration-color: #800080\">/</span><span style=\"color: #ff00ff; text-decoration-color: #ff00ff\">td</span><span style=\"color: #000000; text-decoration-color: #000000\">&gt;&lt;td&gt;&lt;</span><span style=\"color: #800080; text-decoration-color: #800080\">/</span><span style=\"color: #ff00ff; text-decoration-color: #ff00ff\">td</span><span style=\"color: #000000; text-decoration-color: #000000\">&gt;&lt;td&gt;&lt;</span><span style=\"color: #800080; text-decoration-color: #800080\">/</span><span style=\"color: #ff00ff; text-decoration-color: #ff00ff\">td</span><span style=\"color: #000000; text-decoration-color: #000000\">&gt;&lt;</span><span style=\"color: #800080; text-decoration-color: #800080\">/</span><span style=\"color: #ff00ff; text-decoration-color: #ff00ff\">tr</span><span style=\"color: #000000; text-decoration-color: #000000\">&gt;&lt;tr&gt;&lt;td&gt;Insurance and </span>\n",
       "<span style=\"color: #000000; text-decoration-color: #000000\">other&lt;</span><span style=\"color: #800080; text-decoration-color: #800080\">/</span><span style=\"color: #ff00ff; text-decoration-color: #ff00ff\">td</span><span style=\"color: #000000; text-decoration-color: #000000\">&gt;&lt;td&gt;</span><span style=\"color: #008080; text-decoration-color: #008080; font-weight: bold\">46</span><span style=\"color: #000000; text-decoration-color: #000000\">,</span><span style=\"color: #008080; text-decoration-color: #008080; font-weight: bold\">538</span><span style=\"color: #000000; text-decoration-color: #000000\">&lt;</span><span style=\"color: #800080; text-decoration-color: #800080\">/</span><span style=\"color: #ff00ff; text-decoration-color: #ff00ff\">td</span><span style=\"color: #000000; text-decoration-color: #000000\">&gt;&lt;td&gt;</span><span style=\"color: #008080; text-decoration-color: #008080; font-weight: bold\">41</span><span style=\"color: #000000; text-decoration-color: #000000\">,</span><span style=\"color: #008080; text-decoration-color: #008080; font-weight: bold\">961</span><span style=\"color: #000000; text-decoration-color: #000000\">&lt;</span><span style=\"color: #800080; text-decoration-color: #800080\">/</span><span style=\"color: #ff00ff; text-decoration-color: #ff00ff\">td</span><span style=\"color: #000000; text-decoration-color: #000000\">&gt;&lt;td&gt;—&lt;</span><span style=\"color: #800080; text-decoration-color: #800080\">/</span><span style=\"color: #ff00ff; text-decoration-color: #ff00ff\">td</span><span style=\"color: #000000; text-decoration-color: #000000\">&gt;&lt;td&gt;</span><span style=\"color: #008080; text-decoration-color: #008080; font-weight: bold\">41</span><span style=\"color: #000000; text-decoration-color: #000000\">,</span><span style=\"color: #008080; text-decoration-color: #008080; font-weight: bold\">061</span><span style=\"color: #000000; text-decoration-color: #000000\">&lt;</span><span style=\"color: #800080; text-decoration-color: #800080\">/</span><span style=\"color: #ff00ff; text-decoration-color: #ff00ff\">td</span><span style=\"color: #000000; text-decoration-color: #000000\">&gt;&lt;td&gt;</span><span style=\"color: #008080; text-decoration-color: #008080; font-weight: bold\">900</span><span style=\"color: #000000; text-decoration-color: #000000\">&lt;</span><span style=\"color: #800080; text-decoration-color: #800080\">/</span><span style=\"color: #ff00ff; text-decoration-color: #ff00ff\">td</span><span style=\"color: #000000; text-decoration-color: #000000\">&gt;&lt;</span><span style=\"color: #800080; text-decoration-color: #800080\">/</span><span style=\"color: #ff00ff; text-decoration-color: #ff00ff\">tr</span><span style=\"color: #000000; text-decoration-color: #000000\">&gt;&lt;tr&gt;&lt;td&gt;Railroad, utilities and </span>\n",
       "<span style=\"color: #000000; text-decoration-color: #000000\">energy&lt;</span><span style=\"color: #800080; text-decoration-color: #800080\">/</span><span style=\"color: #ff00ff; text-decoration-color: #ff00ff\">td</span><span style=\"color: #000000; text-decoration-color: #000000\">&gt;&lt;td&gt;</span><span style=\"color: #008080; text-decoration-color: #008080; font-weight: bold\">76</span><span style=\"color: #000000; text-decoration-color: #000000\">,</span><span style=\"color: #008080; text-decoration-color: #008080; font-weight: bold\">206</span><span style=\"color: #000000; text-decoration-color: #000000\">&lt;</span><span style=\"color: #800080; text-decoration-color: #800080\">/</span><span style=\"color: #ff00ff; text-decoration-color: #ff00ff\">td</span><span style=\"color: #000000; text-decoration-color: #000000\">&gt;&lt;td&gt;</span><span style=\"color: #008080; text-decoration-color: #008080; font-weight: bold\">67</span><span style=\"color: #000000; text-decoration-color: #000000\">,</span><span style=\"color: #008080; text-decoration-color: #008080; font-weight: bold\">651</span><span style=\"color: #000000; text-decoration-color: #000000\">&lt;</span><span style=\"color: #800080; text-decoration-color: #800080\">/</span><span style=\"color: #ff00ff; text-decoration-color: #ff00ff\">td</span><span style=\"color: #000000; text-decoration-color: #000000\">&gt;&lt;td&gt;—&lt;</span><span style=\"color: #800080; text-decoration-color: #800080\">/</span><span style=\"color: #ff00ff; text-decoration-color: #ff00ff\">td</span><span style=\"color: #000000; text-decoration-color: #000000\">&gt;&lt;td&gt;</span><span style=\"color: #008080; text-decoration-color: #008080; font-weight: bold\">67</span><span style=\"color: #000000; text-decoration-color: #000000\">,</span><span style=\"color: #008080; text-decoration-color: #008080; font-weight: bold\">651</span><span style=\"color: #000000; text-decoration-color: #000000\">&lt;</span><span style=\"color: #800080; text-decoration-color: #800080\">/</span><span style=\"color: #ff00ff; text-decoration-color: #ff00ff\">td</span><span style=\"color: #000000; text-decoration-color: #000000\">&gt;&lt;td&gt;—&lt;</span><span style=\"color: #800080; text-decoration-color: #800080\">/</span><span style=\"color: #ff00ff; text-decoration-color: #ff00ff\">td</span><span style=\"color: #000000; text-decoration-color: #000000\">&gt;&lt;</span><span style=\"color: #800080; text-decoration-color: #800080\">/</span><span style=\"color: #ff00ff; text-decoration-color: #ff00ff\">tr</span><span style=\"color: #000000; text-decoration-color: #000000\">&gt;&lt;</span><span style=\"color: #800080; text-decoration-color: #800080\">/</span><span style=\"color: #ff00ff; text-decoration-color: #ff00ff\">tbody</span><span style=\"color: #000000; text-decoration-color: #000000\">&gt;&lt;</span><span style=\"color: #800080; text-decoration-color: #800080\">/</span><span style=\"color: #ff00ff; text-decoration-color: #ff00ff\">table</span><span style=\"font-weight: bold\">&gt;</span>\n",
       "\n",
       "<span style=\"font-weight: bold\">(</span><span style=\"color: #008080; text-decoration-color: #008080; font-weight: bold\">1</span><span style=\"font-weight: bold\">)</span> Assets are included in other assets and liabilities are included in accounts payable, accruals and other \n",
       "liabilities.\n",
       "\n",
       "<span style=\"color: #008080; text-decoration-color: #008080; font-weight: bold\">23</span>\n",
       "\n",
       "\n",
       "\n",
       "</pre>\n"
      ],
      "text/plain": [
       "\n",
       "\u001b[1;36mTOOL OUTPUT\u001b[0m:\n",
       "# \u001b[1;36m23\u001b[0m-BERKSHIRE.pdf\n",
       "\n",
       "\n",
       "\n",
       "Notes to Consolidated Financial Statements \u001b[1m(\u001b[0mContinued\u001b[1m)\u001b[0m\n",
       "\n",
       "Note \u001b[1;36m18\u001b[0m. Fair value measurements\n",
       "\n",
       "Our financial assets and liabilities are summarized below as of June \u001b[1;36m30\u001b[0m, \u001b[1;36m2023\u001b[0m and December \u001b[1;36m31\u001b[0m, \u001b[1;36m2022\u001b[0m, with fair \n",
       "values shown according to the fair value hierarchy \u001b[1m(\u001b[0min millions\u001b[1m)\u001b[0m. The carrying values of cash and cash equivalents,\n",
       "U.S. Treasury Bills, other receivables and accounts payable, accruals and other liabilities are considered to be \n",
       "reasonable estimates of or otherwise approximate the fair values.\n",
       "\n",
       "\u001b[1m<\u001b[0m\u001b[1;95mtable\u001b[0m\u001b[39m \u001b[0m\u001b[33mclass\u001b[0m\u001b[39m=\u001b[0m\u001b[32m\"Table\"\u001b[0m\u001b[39m \u001b[0m\u001b[33mid\u001b[0m\u001b[39m=\u001b[0m\u001b[32m\"d980a59783e241b3bd141ffba530feca\"\u001b[0m\u001b[39m><thead><tr><th><\u001b[0m\u001b[35m/\u001b[0m\u001b[95mth\u001b[0m\u001b[39m><th>Carrying Value<\u001b[0m\u001b[35m/\u001b[0m\u001b[95mth\u001b[0m\u001b[39m><th>Fair \u001b[0m\n",
       "\u001b[39mValue<\u001b[0m\u001b[35m/\u001b[0m\u001b[95mth\u001b[0m\u001b[39m><th>Quoted Prices \u001b[0m\u001b[1;39m(\u001b[0m\u001b[39mLevel \u001b[0m\u001b[1;36m1\u001b[0m\u001b[1;39m)\u001b[0m\u001b[39m<\u001b[0m\u001b[35m/\u001b[0m\u001b[95mth\u001b[0m\u001b[39m><th>Significant Other Observable Inputs \u001b[0m\u001b[1;39m(\u001b[0m\u001b[39mLevel \u001b[0m\u001b[1;36m2\u001b[0m\u001b[1;39m)\u001b[0m\u001b[39m<\u001b[0m\u001b[35m/\u001b[0m\u001b[95mth\u001b[0m\u001b[39m><th>Significant \u001b[0m\n",
       "\u001b[39mUnobservable Inputs \u001b[0m\u001b[1;39m(\u001b[0m\u001b[39mLevel \u001b[0m\u001b[1;36m3\u001b[0m\u001b[1;39m)\u001b[0m\u001b[39m<\u001b[0m\u001b[35m/\u001b[0m\u001b[95mth\u001b[0m\u001b[39m><\u001b[0m\u001b[35m/\u001b[0m\u001b[95mtr\u001b[0m\u001b[39m><\u001b[0m\u001b[35m/\u001b[0m\u001b[95mthead\u001b[0m\u001b[39m><tbody><tr><td>June \u001b[0m\u001b[1;36m30\u001b[0m\u001b[39m, \u001b[0m\n",
       "\u001b[1;36m2023\u001b[0m\u001b[39m<\u001b[0m\u001b[35m/\u001b[0m\u001b[95mtd\u001b[0m\u001b[39m><td><\u001b[0m\u001b[35m/\u001b[0m\u001b[95mtd\u001b[0m\u001b[39m><td><\u001b[0m\u001b[35m/\u001b[0m\u001b[95mtd\u001b[0m\u001b[39m><td><\u001b[0m\u001b[35m/\u001b[0m\u001b[95mtd\u001b[0m\u001b[39m><td><\u001b[0m\u001b[35m/\u001b[0m\u001b[95mtd\u001b[0m\u001b[39m><td><\u001b[0m\u001b[35m/\u001b[0m\u001b[95mtd\u001b[0m\u001b[39m><\u001b[0m\u001b[35m/\u001b[0m\u001b[95mtr\u001b[0m\u001b[39m><tr><td>Investments in fixed maturity \u001b[0m\n",
       "\u001b[39msecurities:<\u001b[0m\u001b[35m/\u001b[0m\u001b[95mtd\u001b[0m\u001b[39m><td><\u001b[0m\u001b[35m/\u001b[0m\u001b[95mtd\u001b[0m\u001b[39m><td><\u001b[0m\u001b[35m/\u001b[0m\u001b[95mtd\u001b[0m\u001b[39m><td><\u001b[0m\u001b[35m/\u001b[0m\u001b[95mtd\u001b[0m\u001b[39m><td><\u001b[0m\u001b[35m/\u001b[0m\u001b[95mtd\u001b[0m\u001b[39m><td><\u001b[0m\u001b[35m/\u001b[0m\u001b[95mtd\u001b[0m\u001b[39m><\u001b[0m\u001b[35m/\u001b[0m\u001b[95mtr\u001b[0m\u001b[39m><tr><td>U.S. Treasury, U.S. government \u001b[0m\n",
       "\u001b[39mcorporations and agencies<\u001b[0m\u001b[35m/\u001b[0m\u001b[95mtd\u001b[0m\u001b[39m><td>$ \u001b[0m\u001b[1;36m9\u001b[0m\u001b[39m,\u001b[0m\u001b[1;36m052\u001b[0m\u001b[39m<\u001b[0m\u001b[35m/\u001b[0m\u001b[95mtd\u001b[0m\u001b[39m><td>$ \u001b[0m\u001b[1;36m9\u001b[0m\u001b[39m,\u001b[0m\u001b[1;36m052\u001b[0m\u001b[39m<\u001b[0m\u001b[35m/\u001b[0m\u001b[95mtd\u001b[0m\u001b[39m><td>$ \u001b[0m\u001b[1;36m9\u001b[0m\u001b[39m,\u001b[0m\u001b[1;36m017\u001b[0m\u001b[39m<\u001b[0m\u001b[35m/\u001b[0m\u001b[95mtd\u001b[0m\u001b[39m><td>$ \u001b[0m\u001b[1;36m35\u001b[0m\u001b[39m<\u001b[0m\u001b[35m/\u001b[0m\u001b[95mtd\u001b[0m\u001b[39m><td>$ \u001b[0m\n",
       "\u001b[39m—<\u001b[0m\u001b[35m/\u001b[0m\u001b[95mtd\u001b[0m\u001b[39m><\u001b[0m\u001b[35m/\u001b[0m\u001b[95mtr\u001b[0m\u001b[39m><tr><td>Foreign \u001b[0m\n",
       "\u001b[39mgovernments<\u001b[0m\u001b[35m/\u001b[0m\u001b[95mtd\u001b[0m\u001b[39m><td>\u001b[0m\u001b[1;36m11\u001b[0m\u001b[39m,\u001b[0m\u001b[1;36m481\u001b[0m\u001b[39m<\u001b[0m\u001b[35m/\u001b[0m\u001b[95mtd\u001b[0m\u001b[39m><td>\u001b[0m\u001b[1;36m11\u001b[0m\u001b[39m,\u001b[0m\u001b[1;36m481\u001b[0m\u001b[39m<\u001b[0m\u001b[35m/\u001b[0m\u001b[95mtd\u001b[0m\u001b[39m><td>\u001b[0m\u001b[1;36m11\u001b[0m\u001b[39m,\u001b[0m\u001b[1;36m170\u001b[0m\u001b[39m<\u001b[0m\u001b[35m/\u001b[0m\u001b[95mtd\u001b[0m\u001b[39m><td>\u001b[0m\u001b[1;36m311\u001b[0m\u001b[39m<\u001b[0m\u001b[35m/\u001b[0m\u001b[95mtd\u001b[0m\u001b[39m><td>—<\u001b[0m\u001b[35m/\u001b[0m\u001b[95mtd\u001b[0m\u001b[39m><\u001b[0m\u001b[35m/\u001b[0m\u001b[95mtr\u001b[0m\u001b[39m><tr><td>Corporate \u001b[0m\n",
       "\u001b[39mbonds<\u001b[0m\u001b[35m/\u001b[0m\u001b[95mtd\u001b[0m\u001b[39m><td>\u001b[0m\u001b[1;36m1\u001b[0m\u001b[39m,\u001b[0m\u001b[1;36m554\u001b[0m\u001b[39m<\u001b[0m\u001b[35m/\u001b[0m\u001b[95mtd\u001b[0m\u001b[39m><td>\u001b[0m\u001b[1;36m1\u001b[0m\u001b[39m,\u001b[0m\u001b[1;36m554\u001b[0m\u001b[39m<\u001b[0m\u001b[35m/\u001b[0m\u001b[95mtd\u001b[0m\u001b[39m><td>—<\u001b[0m\u001b[35m/\u001b[0m\u001b[95mtd\u001b[0m\u001b[39m><td>\u001b[0m\u001b[1;36m908\u001b[0m\u001b[39m<\u001b[0m\u001b[35m/\u001b[0m\u001b[95mtd\u001b[0m\u001b[39m><td>\u001b[0m\u001b[1;36m646\u001b[0m\u001b[39m<\u001b[0m\u001b[35m/\u001b[0m\u001b[95mtd\u001b[0m\u001b[39m><\u001b[0m\u001b[35m/\u001b[0m\u001b[95mtr\u001b[0m\u001b[39m><tr><td>Other<\u001b[0m\u001b[35m/\u001b[0m\u001b[95mtd\u001b[0m\u001b[39m><td>\u001b[0m\u001b[1;36m266\u001b[0m\u001b[39m<\u001b[0m\u001b[35m/\u001b[0m\u001b[95mtd\u001b[0m\u001b[39m><td>\u001b[0m\u001b[1;36m266\u001b[0m\u001b[39m<\u001b[0m\n",
       "\u001b[35m/\u001b[0m\u001b[95mtd\u001b[0m\u001b[39m><td>—<\u001b[0m\u001b[35m/\u001b[0m\u001b[95mtd\u001b[0m\u001b[39m><td>\u001b[0m\u001b[1;36m266\u001b[0m\u001b[39m<\u001b[0m\u001b[35m/\u001b[0m\u001b[95mtd\u001b[0m\u001b[39m><td>—<\u001b[0m\u001b[35m/\u001b[0m\u001b[95mtd\u001b[0m\u001b[39m><\u001b[0m\u001b[35m/\u001b[0m\u001b[95mtr\u001b[0m\u001b[39m><tr><td>Investments in equity \u001b[0m\n",
       "\u001b[39msecurities<\u001b[0m\u001b[35m/\u001b[0m\u001b[95mtd\u001b[0m\u001b[39m><td>\u001b[0m\u001b[1;36m353\u001b[0m\u001b[39m,\u001b[0m\u001b[1;36m409\u001b[0m\u001b[39m<\u001b[0m\u001b[35m/\u001b[0m\u001b[95mtd\u001b[0m\u001b[39m><td>\u001b[0m\u001b[1;36m353\u001b[0m\u001b[39m,\u001b[0m\u001b[1;36m409\u001b[0m\u001b[39m<\u001b[0m\u001b[35m/\u001b[0m\u001b[95mtd\u001b[0m\u001b[39m><td>\u001b[0m\u001b[1;36m342\u001b[0m\u001b[39m,\u001b[0m\u001b[1;36m596\u001b[0m\u001b[39m<\u001b[0m\u001b[35m/\u001b[0m\u001b[95mtd\u001b[0m\u001b[39m><td>\u001b[0m\u001b[1;36m11\u001b[0m\u001b[39m<\u001b[0m\u001b[35m/\u001b[0m\u001b[95mtd\u001b[0m\u001b[39m><td>\u001b[0m\u001b[1;36m10\u001b[0m\u001b[39m,\u001b[0m\u001b[1;36m802\u001b[0m\u001b[39m<\u001b[0m\u001b[35m/\u001b[0m\u001b[95mtd\u001b[0m\u001b[39m><\u001b[0m\u001b[35m/\u001b[0m\u001b[95mtr\u001b[0m\u001b[39m><tr><td>Investments \u001b[0m\n",
       "\u001b[39min Kraft Heinz &amp; Occidental common \u001b[0m\n",
       "\u001b[39mstock<\u001b[0m\u001b[35m/\u001b[0m\u001b[95mtd\u001b[0m\u001b[39m><td>\u001b[0m\u001b[1;36m27\u001b[0m\u001b[39m,\u001b[0m\u001b[1;36m060\u001b[0m\u001b[39m<\u001b[0m\u001b[35m/\u001b[0m\u001b[95mtd\u001b[0m\u001b[39m><td>\u001b[0m\u001b[1;36m24\u001b[0m\u001b[39m,\u001b[0m\u001b[1;36m732\u001b[0m\u001b[39m<\u001b[0m\u001b[35m/\u001b[0m\u001b[95mtd\u001b[0m\u001b[39m><td>\u001b[0m\u001b[1;36m24\u001b[0m\u001b[39m,\u001b[0m\u001b[1;36m732\u001b[0m\u001b[39m<\u001b[0m\u001b[35m/\u001b[0m\u001b[95mtd\u001b[0m\u001b[39m><td>—<\u001b[0m\u001b[35m/\u001b[0m\u001b[95mtd\u001b[0m\u001b[39m><td>—<\u001b[0m\u001b[35m/\u001b[0m\u001b[95mtd\u001b[0m\u001b[39m><\u001b[0m\u001b[35m/\u001b[0m\u001b[95mtr\u001b[0m\u001b[39m><tr><td>Loans and finance \u001b[0m\n",
       "\u001b[39mreceivables<\u001b[0m\u001b[35m/\u001b[0m\u001b[95mtd\u001b[0m\u001b[39m><td>\u001b[0m\u001b[1;36m23\u001b[0m\u001b[39m,\u001b[0m\u001b[1;36m530\u001b[0m\u001b[39m<\u001b[0m\u001b[35m/\u001b[0m\u001b[95mtd\u001b[0m\u001b[39m><td>\u001b[0m\u001b[1;36m24\u001b[0m\u001b[39m,\u001b[0m\u001b[1;36m020\u001b[0m\u001b[39m<\u001b[0m\u001b[35m/\u001b[0m\u001b[95mtd\u001b[0m\u001b[39m><td>—<\u001b[0m\u001b[35m/\u001b[0m\u001b[95mtd\u001b[0m\u001b[39m><td>\u001b[0m\u001b[1;36m1\u001b[0m\u001b[39m,\u001b[0m\u001b[1;36m097\u001b[0m\u001b[39m<\u001b[0m\u001b[35m/\u001b[0m\u001b[95mtd\u001b[0m\u001b[39m><td>\u001b[0m\u001b[1;36m22\u001b[0m\u001b[39m,\u001b[0m\u001b[1;36m923\u001b[0m\u001b[39m<\u001b[0m\u001b[35m/\u001b[0m\u001b[95mtd\u001b[0m\u001b[39m><\u001b[0m\u001b[35m/\u001b[0m\u001b[95mtr\u001b[0m\u001b[39m><tr><td>Derivative \u001b[0m\n",
       "\u001b[39mcontract assets \u001b[0m\u001b[1;39m(\u001b[0m\u001b[1;36m1\u001b[0m\u001b[1;39m)\u001b[0m\u001b[39m<\u001b[0m\u001b[35m/\u001b[0m\u001b[95mtd\u001b[0m\u001b[39m><td>\u001b[0m\u001b[1;36m355\u001b[0m\u001b[39m<\u001b[0m\u001b[35m/\u001b[0m\u001b[95mtd\u001b[0m\u001b[39m><td>\u001b[0m\u001b[1;36m355\u001b[0m\u001b[39m<\u001b[0m\u001b[35m/\u001b[0m\u001b[95mtd\u001b[0m\u001b[39m><td>\u001b[0m\u001b[1;36m74\u001b[0m\u001b[39m<\u001b[0m\u001b[35m/\u001b[0m\u001b[95mtd\u001b[0m\u001b[39m><td>\u001b[0m\u001b[1;36m256\u001b[0m\u001b[39m<\u001b[0m\u001b[35m/\u001b[0m\u001b[95mtd\u001b[0m\u001b[39m><td>\u001b[0m\u001b[1;36m25\u001b[0m\u001b[39m<\u001b[0m\u001b[35m/\u001b[0m\u001b[95mtd\u001b[0m\u001b[39m><\u001b[0m\u001b[35m/\u001b[0m\u001b[95mtr\u001b[0m\u001b[39m><tr><td>Derivative contract \u001b[0m\n",
       "\u001b[39mliabilities \u001b[0m\u001b[1;39m(\u001b[0m\u001b[1;36m1\u001b[0m\u001b[1;39m)\u001b[0m\u001b[39m<\u001b[0m\u001b[35m/\u001b[0m\u001b[95mtd\u001b[0m\u001b[39m><td>\u001b[0m\u001b[1;36m309\u001b[0m\u001b[39m<\u001b[0m\u001b[35m/\u001b[0m\u001b[95mtd\u001b[0m\u001b[39m><td>\u001b[0m\u001b[1;36m309\u001b[0m\u001b[39m<\u001b[0m\u001b[35m/\u001b[0m\u001b[95mtd\u001b[0m\u001b[39m><td>\u001b[0m\u001b[1;36m48\u001b[0m\u001b[39m<\u001b[0m\u001b[35m/\u001b[0m\u001b[95mtd\u001b[0m\u001b[39m><td>\u001b[0m\u001b[1;36m73\u001b[0m\u001b[39m<\u001b[0m\u001b[35m/\u001b[0m\u001b[95mtd\u001b[0m\u001b[39m><td>\u001b[0m\u001b[1;36m188\u001b[0m\u001b[39m<\u001b[0m\u001b[35m/\u001b[0m\u001b[95mtd\u001b[0m\u001b[39m><\u001b[0m\u001b[35m/\u001b[0m\u001b[95mtr\u001b[0m\u001b[39m><tr><td>Notes payable and other \u001b[0m\n",
       "\u001b[39mborrowings:<\u001b[0m\u001b[35m/\u001b[0m\u001b[95mtd\u001b[0m\u001b[39m><td><\u001b[0m\u001b[35m/\u001b[0m\u001b[95mtd\u001b[0m\u001b[39m><td><\u001b[0m\u001b[35m/\u001b[0m\u001b[95mtd\u001b[0m\u001b[39m><td><\u001b[0m\u001b[35m/\u001b[0m\u001b[95mtd\u001b[0m\u001b[39m><td><\u001b[0m\u001b[35m/\u001b[0m\u001b[95mtd\u001b[0m\u001b[39m><td><\u001b[0m\u001b[35m/\u001b[0m\u001b[95mtd\u001b[0m\u001b[39m><\u001b[0m\u001b[35m/\u001b[0m\u001b[95mtr\u001b[0m\u001b[39m><tr><td>Insurance and \u001b[0m\n",
       "\u001b[39mother<\u001b[0m\u001b[35m/\u001b[0m\u001b[95mtd\u001b[0m\u001b[39m><td>\u001b[0m\u001b[1;36m41\u001b[0m\u001b[39m,\u001b[0m\u001b[1;36m389\u001b[0m\u001b[39m<\u001b[0m\u001b[35m/\u001b[0m\u001b[95mtd\u001b[0m\u001b[39m><td>\u001b[0m\u001b[1;36m36\u001b[0m\u001b[39m,\u001b[0m\u001b[1;36m100\u001b[0m\u001b[39m<\u001b[0m\u001b[35m/\u001b[0m\u001b[95mtd\u001b[0m\u001b[39m><td>—<\u001b[0m\u001b[35m/\u001b[0m\u001b[95mtd\u001b[0m\u001b[39m><td>\u001b[0m\u001b[1;36m36\u001b[0m\u001b[39m,\u001b[0m\u001b[1;36m071\u001b[0m\u001b[39m<\u001b[0m\u001b[35m/\u001b[0m\u001b[95mtd\u001b[0m\u001b[39m><td>\u001b[0m\u001b[1;36m29\u001b[0m\u001b[39m<\u001b[0m\u001b[35m/\u001b[0m\u001b[95mtd\u001b[0m\u001b[39m><\u001b[0m\u001b[35m/\u001b[0m\u001b[95mtr\u001b[0m\u001b[39m><tr><td>Railroad, utilities and \u001b[0m\n",
       "\u001b[39menergy<\u001b[0m\u001b[35m/\u001b[0m\u001b[95mtd\u001b[0m\u001b[39m><td>\u001b[0m\u001b[1;36m83\u001b[0m\u001b[39m,\u001b[0m\u001b[1;36m958\u001b[0m\u001b[39m<\u001b[0m\u001b[35m/\u001b[0m\u001b[95mtd\u001b[0m\u001b[39m><td>\u001b[0m\u001b[1;36m77\u001b[0m\u001b[39m,\u001b[0m\u001b[1;36m040\u001b[0m\u001b[39m<\u001b[0m\u001b[35m/\u001b[0m\u001b[95mtd\u001b[0m\u001b[39m><td>—<\u001b[0m\u001b[35m/\u001b[0m\u001b[95mtd\u001b[0m\u001b[39m><td>\u001b[0m\u001b[1;36m77\u001b[0m\u001b[39m,\u001b[0m\u001b[1;36m040\u001b[0m\u001b[39m<\u001b[0m\u001b[35m/\u001b[0m\u001b[95mtd\u001b[0m\u001b[39m><td>—<\u001b[0m\u001b[35m/\u001b[0m\u001b[95mtd\u001b[0m\u001b[39m><\u001b[0m\u001b[35m/\u001b[0m\u001b[95mtr\u001b[0m\u001b[39m><tr><td>December \u001b[0m\u001b[1;36m31\u001b[0m\u001b[39m, \u001b[0m\n",
       "\u001b[1;36m2022\u001b[0m\u001b[39m<\u001b[0m\u001b[35m/\u001b[0m\u001b[95mtd\u001b[0m\u001b[39m><td><\u001b[0m\u001b[35m/\u001b[0m\u001b[95mtd\u001b[0m\u001b[39m><td><\u001b[0m\u001b[35m/\u001b[0m\u001b[95mtd\u001b[0m\u001b[39m><td><\u001b[0m\u001b[35m/\u001b[0m\u001b[95mtd\u001b[0m\u001b[39m><td><\u001b[0m\u001b[35m/\u001b[0m\u001b[95mtd\u001b[0m\u001b[39m><td><\u001b[0m\u001b[35m/\u001b[0m\u001b[95mtd\u001b[0m\u001b[39m><\u001b[0m\u001b[35m/\u001b[0m\u001b[95mtr\u001b[0m\u001b[39m><tr><td>Investments in fixed maturity \u001b[0m\n",
       "\u001b[39msecurities:<\u001b[0m\u001b[35m/\u001b[0m\u001b[95mtd\u001b[0m\u001b[39m><td><\u001b[0m\u001b[35m/\u001b[0m\u001b[95mtd\u001b[0m\u001b[39m><td><\u001b[0m\u001b[35m/\u001b[0m\u001b[95mtd\u001b[0m\u001b[39m><td><\u001b[0m\u001b[35m/\u001b[0m\u001b[95mtd\u001b[0m\u001b[39m><td><\u001b[0m\u001b[35m/\u001b[0m\u001b[95mtd\u001b[0m\u001b[39m><td><\u001b[0m\u001b[35m/\u001b[0m\u001b[95mtd\u001b[0m\u001b[39m><\u001b[0m\u001b[35m/\u001b[0m\u001b[95mtr\u001b[0m\u001b[39m><tr><td>U.S. Treasury, U.S. government \u001b[0m\n",
       "\u001b[39mcorporations and agencies<\u001b[0m\u001b[35m/\u001b[0m\u001b[95mtd\u001b[0m\u001b[39m><td>$ \u001b[0m\u001b[1;36m9\u001b[0m\u001b[39m,\u001b[0m\u001b[1;36m802\u001b[0m\u001b[39m<\u001b[0m\u001b[35m/\u001b[0m\u001b[95mtd\u001b[0m\u001b[39m><td>$ \u001b[0m\u001b[1;36m9\u001b[0m\u001b[39m,\u001b[0m\u001b[1;36m802\u001b[0m\u001b[39m<\u001b[0m\u001b[35m/\u001b[0m\u001b[95mtd\u001b[0m\u001b[39m><td>$ \u001b[0m\u001b[1;36m9\u001b[0m\u001b[39m,\u001b[0m\u001b[1;36m733\u001b[0m\u001b[39m<\u001b[0m\u001b[35m/\u001b[0m\u001b[95mtd\u001b[0m\u001b[39m><td>$ \u001b[0m\u001b[1;36m69\u001b[0m\u001b[39m<\u001b[0m\u001b[35m/\u001b[0m\u001b[95mtd\u001b[0m\u001b[39m><td>$ \u001b[0m\n",
       "\u001b[39m—<\u001b[0m\u001b[35m/\u001b[0m\u001b[95mtd\u001b[0m\u001b[39m><\u001b[0m\u001b[35m/\u001b[0m\u001b[95mtr\u001b[0m\u001b[39m><tr><td>Foreign \u001b[0m\n",
       "\u001b[39mgovernments<\u001b[0m\u001b[35m/\u001b[0m\u001b[95mtd\u001b[0m\u001b[39m><td>\u001b[0m\u001b[1;36m10\u001b[0m\u001b[39m,\u001b[0m\u001b[1;36m327\u001b[0m\u001b[39m<\u001b[0m\u001b[35m/\u001b[0m\u001b[95mtd\u001b[0m\u001b[39m><td>\u001b[0m\u001b[1;36m10\u001b[0m\u001b[39m,\u001b[0m\u001b[1;36m327\u001b[0m\u001b[39m<\u001b[0m\u001b[35m/\u001b[0m\u001b[95mtd\u001b[0m\u001b[39m><td>\u001b[0m\u001b[1;36m9\u001b[0m\u001b[39m,\u001b[0m\u001b[1;36m854\u001b[0m\u001b[39m<\u001b[0m\u001b[35m/\u001b[0m\u001b[95mtd\u001b[0m\u001b[39m><td>\u001b[0m\u001b[1;36m473\u001b[0m\u001b[39m<\u001b[0m\u001b[35m/\u001b[0m\u001b[95mtd\u001b[0m\u001b[39m><td>—<\u001b[0m\u001b[35m/\u001b[0m\u001b[95mtd\u001b[0m\u001b[39m><\u001b[0m\u001b[35m/\u001b[0m\u001b[95mtr\u001b[0m\u001b[39m><tr><td>Corporate \u001b[0m\n",
       "\u001b[39mbonds<\u001b[0m\u001b[35m/\u001b[0m\u001b[95mtd\u001b[0m\u001b[39m><td>\u001b[0m\u001b[1;36m2\u001b[0m\u001b[39m,\u001b[0m\u001b[1;36m195\u001b[0m\u001b[39m<\u001b[0m\u001b[35m/\u001b[0m\u001b[95mtd\u001b[0m\u001b[39m><td>\u001b[0m\u001b[1;36m2\u001b[0m\u001b[39m,\u001b[0m\u001b[1;36m195\u001b[0m\u001b[39m<\u001b[0m\u001b[35m/\u001b[0m\u001b[95mtd\u001b[0m\u001b[39m><td>—<\u001b[0m\u001b[35m/\u001b[0m\u001b[95mtd\u001b[0m\u001b[39m><td>\u001b[0m\u001b[1;36m1\u001b[0m\u001b[39m,\u001b[0m\u001b[1;36m546\u001b[0m\u001b[39m<\u001b[0m\u001b[35m/\u001b[0m\u001b[95mtd\u001b[0m\u001b[39m><td>\u001b[0m\u001b[1;36m649\u001b[0m\u001b[39m<\u001b[0m\u001b[35m/\u001b[0m\u001b[95mtd\u001b[0m\u001b[39m><\u001b[0m\u001b[35m/\u001b[0m\u001b[95mtr\u001b[0m\u001b[39m><tr><td>Other<\u001b[0m\u001b[35m/\u001b[0m\u001b[95mtd\u001b[0m\u001b[39m><td>\u001b[0m\u001b[1;36m2\u001b[0m\u001b[39m,\u001b[0m\u001b[1;36m804\u001b[0m\u001b[39m<\u001b[0m\u001b[35m/\u001b[0m\u001b[95mtd\u001b[0m\u001b[39m><td>\u001b[0m\n",
       "\u001b[1;36m2\u001b[0m\u001b[39m,\u001b[0m\u001b[1;36m804\u001b[0m\u001b[39m<\u001b[0m\u001b[35m/\u001b[0m\u001b[95mtd\u001b[0m\u001b[39m><td>—<\u001b[0m\u001b[35m/\u001b[0m\u001b[95mtd\u001b[0m\u001b[39m><td>\u001b[0m\u001b[1;36m2\u001b[0m\u001b[39m,\u001b[0m\u001b[1;36m804\u001b[0m\u001b[39m<\u001b[0m\u001b[35m/\u001b[0m\u001b[95mtd\u001b[0m\u001b[39m><td>—<\u001b[0m\u001b[35m/\u001b[0m\u001b[95mtd\u001b[0m\u001b[39m><\u001b[0m\u001b[35m/\u001b[0m\u001b[95mtr\u001b[0m\u001b[39m><tr><td>Investments in equity \u001b[0m\n",
       "\u001b[39msecurities<\u001b[0m\u001b[35m/\u001b[0m\u001b[95mtd\u001b[0m\u001b[39m><td>\u001b[0m\u001b[1;36m308\u001b[0m\u001b[39m,\u001b[0m\u001b[1;36m793\u001b[0m\u001b[39m<\u001b[0m\u001b[35m/\u001b[0m\u001b[95mtd\u001b[0m\u001b[39m><td>\u001b[0m\u001b[1;36m308\u001b[0m\u001b[39m,\u001b[0m\u001b[1;36m793\u001b[0m\u001b[39m<\u001b[0m\u001b[35m/\u001b[0m\u001b[95mtd\u001b[0m\u001b[39m><td>\u001b[0m\u001b[1;36m296\u001b[0m\u001b[39m,\u001b[0m\u001b[1;36m610\u001b[0m\u001b[39m<\u001b[0m\u001b[35m/\u001b[0m\u001b[95mtd\u001b[0m\u001b[39m><td>\u001b[0m\u001b[1;36m9\u001b[0m\u001b[39m<\u001b[0m\u001b[35m/\u001b[0m\u001b[95mtd\u001b[0m\u001b[39m><td>\u001b[0m\u001b[1;36m12\u001b[0m\u001b[39m,\u001b[0m\u001b[1;36m174\u001b[0m\u001b[39m<\u001b[0m\u001b[35m/\u001b[0m\u001b[95mtd\u001b[0m\u001b[39m><\u001b[0m\u001b[35m/\u001b[0m\u001b[95mtr\u001b[0m\u001b[39m><tr><td>Investments in\u001b[0m\n",
       "\u001b[39mKraft Heinz &amp; Occidental common \u001b[0m\n",
       "\u001b[39mstock<\u001b[0m\u001b[35m/\u001b[0m\u001b[95mtd\u001b[0m\u001b[39m><td>\u001b[0m\u001b[1;36m24\u001b[0m\u001b[39m,\u001b[0m\u001b[1;36m421\u001b[0m\u001b[39m<\u001b[0m\u001b[35m/\u001b[0m\u001b[95mtd\u001b[0m\u001b[39m><td>\u001b[0m\u001b[1;36m25\u001b[0m\u001b[39m,\u001b[0m\u001b[1;36m491\u001b[0m\u001b[39m<\u001b[0m\u001b[35m/\u001b[0m\u001b[95mtd\u001b[0m\u001b[39m><td>\u001b[0m\u001b[1;36m25\u001b[0m\u001b[39m,\u001b[0m\u001b[1;36m491\u001b[0m\u001b[39m<\u001b[0m\u001b[35m/\u001b[0m\u001b[95mtd\u001b[0m\u001b[39m><td>—<\u001b[0m\u001b[35m/\u001b[0m\u001b[95mtd\u001b[0m\u001b[39m><td>—<\u001b[0m\u001b[35m/\u001b[0m\u001b[95mtd\u001b[0m\u001b[39m><\u001b[0m\u001b[35m/\u001b[0m\u001b[95mtr\u001b[0m\u001b[39m><tr><td>Loans and finance \u001b[0m\n",
       "\u001b[39mreceivables<\u001b[0m\u001b[35m/\u001b[0m\u001b[95mtd\u001b[0m\u001b[39m><td>\u001b[0m\u001b[1;36m23\u001b[0m\u001b[39m,\u001b[0m\u001b[1;36m208\u001b[0m\u001b[39m<\u001b[0m\u001b[35m/\u001b[0m\u001b[95mtd\u001b[0m\u001b[39m><td>\u001b[0m\u001b[1;36m23\u001b[0m\u001b[39m,\u001b[0m\u001b[1;36m428\u001b[0m\u001b[39m<\u001b[0m\u001b[35m/\u001b[0m\u001b[95mtd\u001b[0m\u001b[39m><td>—<\u001b[0m\u001b[35m/\u001b[0m\u001b[95mtd\u001b[0m\u001b[39m><td>\u001b[0m\u001b[1;36m1\u001b[0m\u001b[39m,\u001b[0m\u001b[1;36m513\u001b[0m\u001b[39m<\u001b[0m\u001b[35m/\u001b[0m\u001b[95mtd\u001b[0m\u001b[39m><td>\u001b[0m\u001b[1;36m21\u001b[0m\u001b[39m,\u001b[0m\u001b[1;36m915\u001b[0m\u001b[39m<\u001b[0m\u001b[35m/\u001b[0m\u001b[95mtd\u001b[0m\u001b[39m><\u001b[0m\u001b[35m/\u001b[0m\u001b[95mtr\u001b[0m\u001b[39m><tr><td>Derivative \u001b[0m\n",
       "\u001b[39mcontract assets \u001b[0m\u001b[1;39m(\u001b[0m\u001b[1;36m1\u001b[0m\u001b[1;39m)\u001b[0m\u001b[39m<\u001b[0m\u001b[35m/\u001b[0m\u001b[95mtd\u001b[0m\u001b[39m><td>\u001b[0m\u001b[1;36m589\u001b[0m\u001b[39m<\u001b[0m\u001b[35m/\u001b[0m\u001b[95mtd\u001b[0m\u001b[39m><td>\u001b[0m\u001b[1;36m589\u001b[0m\u001b[39m<\u001b[0m\u001b[35m/\u001b[0m\u001b[95mtd\u001b[0m\u001b[39m><td>\u001b[0m\u001b[1;36m56\u001b[0m\u001b[39m<\u001b[0m\u001b[35m/\u001b[0m\u001b[95mtd\u001b[0m\u001b[39m><td>\u001b[0m\u001b[1;36m474\u001b[0m\u001b[39m<\u001b[0m\u001b[35m/\u001b[0m\u001b[95mtd\u001b[0m\u001b[39m><td>\u001b[0m\u001b[1;36m59\u001b[0m\u001b[39m<\u001b[0m\u001b[35m/\u001b[0m\u001b[95mtd\u001b[0m\u001b[39m><\u001b[0m\u001b[35m/\u001b[0m\u001b[95mtr\u001b[0m\u001b[39m><tr><td>Derivative contract \u001b[0m\n",
       "\u001b[39mliabilities \u001b[0m\u001b[1;39m(\u001b[0m\u001b[1;36m1\u001b[0m\u001b[1;39m)\u001b[0m\u001b[39m<\u001b[0m\u001b[35m/\u001b[0m\u001b[95mtd\u001b[0m\u001b[39m><td>\u001b[0m\u001b[1;36m242\u001b[0m\u001b[39m<\u001b[0m\u001b[35m/\u001b[0m\u001b[95mtd\u001b[0m\u001b[39m><td>\u001b[0m\u001b[1;36m242\u001b[0m\u001b[39m<\u001b[0m\u001b[35m/\u001b[0m\u001b[95mtd\u001b[0m\u001b[39m><td>\u001b[0m\u001b[1;36m8\u001b[0m\u001b[39m<\u001b[0m\u001b[35m/\u001b[0m\u001b[95mtd\u001b[0m\u001b[39m><td>\u001b[0m\u001b[1;36m122\u001b[0m\u001b[39m<\u001b[0m\u001b[35m/\u001b[0m\u001b[95mtd\u001b[0m\u001b[39m><td>\u001b[0m\u001b[1;36m112\u001b[0m\u001b[39m<\u001b[0m\u001b[35m/\u001b[0m\u001b[95mtd\u001b[0m\u001b[39m><\u001b[0m\u001b[35m/\u001b[0m\u001b[95mtr\u001b[0m\u001b[39m><tr><td>Notes payable and other \u001b[0m\n",
       "\u001b[39mborrowings:<\u001b[0m\u001b[35m/\u001b[0m\u001b[95mtd\u001b[0m\u001b[39m><td><\u001b[0m\u001b[35m/\u001b[0m\u001b[95mtd\u001b[0m\u001b[39m><td><\u001b[0m\u001b[35m/\u001b[0m\u001b[95mtd\u001b[0m\u001b[39m><td><\u001b[0m\u001b[35m/\u001b[0m\u001b[95mtd\u001b[0m\u001b[39m><td><\u001b[0m\u001b[35m/\u001b[0m\u001b[95mtd\u001b[0m\u001b[39m><td><\u001b[0m\u001b[35m/\u001b[0m\u001b[95mtd\u001b[0m\u001b[39m><\u001b[0m\u001b[35m/\u001b[0m\u001b[95mtr\u001b[0m\u001b[39m><tr><td>Insurance and \u001b[0m\n",
       "\u001b[39mother<\u001b[0m\u001b[35m/\u001b[0m\u001b[95mtd\u001b[0m\u001b[39m><td>\u001b[0m\u001b[1;36m46\u001b[0m\u001b[39m,\u001b[0m\u001b[1;36m538\u001b[0m\u001b[39m<\u001b[0m\u001b[35m/\u001b[0m\u001b[95mtd\u001b[0m\u001b[39m><td>\u001b[0m\u001b[1;36m41\u001b[0m\u001b[39m,\u001b[0m\u001b[1;36m961\u001b[0m\u001b[39m<\u001b[0m\u001b[35m/\u001b[0m\u001b[95mtd\u001b[0m\u001b[39m><td>—<\u001b[0m\u001b[35m/\u001b[0m\u001b[95mtd\u001b[0m\u001b[39m><td>\u001b[0m\u001b[1;36m41\u001b[0m\u001b[39m,\u001b[0m\u001b[1;36m061\u001b[0m\u001b[39m<\u001b[0m\u001b[35m/\u001b[0m\u001b[95mtd\u001b[0m\u001b[39m><td>\u001b[0m\u001b[1;36m900\u001b[0m\u001b[39m<\u001b[0m\u001b[35m/\u001b[0m\u001b[95mtd\u001b[0m\u001b[39m><\u001b[0m\u001b[35m/\u001b[0m\u001b[95mtr\u001b[0m\u001b[39m><tr><td>Railroad, utilities and \u001b[0m\n",
       "\u001b[39menergy<\u001b[0m\u001b[35m/\u001b[0m\u001b[95mtd\u001b[0m\u001b[39m><td>\u001b[0m\u001b[1;36m76\u001b[0m\u001b[39m,\u001b[0m\u001b[1;36m206\u001b[0m\u001b[39m<\u001b[0m\u001b[35m/\u001b[0m\u001b[95mtd\u001b[0m\u001b[39m><td>\u001b[0m\u001b[1;36m67\u001b[0m\u001b[39m,\u001b[0m\u001b[1;36m651\u001b[0m\u001b[39m<\u001b[0m\u001b[35m/\u001b[0m\u001b[95mtd\u001b[0m\u001b[39m><td>—<\u001b[0m\u001b[35m/\u001b[0m\u001b[95mtd\u001b[0m\u001b[39m><td>\u001b[0m\u001b[1;36m67\u001b[0m\u001b[39m,\u001b[0m\u001b[1;36m651\u001b[0m\u001b[39m<\u001b[0m\u001b[35m/\u001b[0m\u001b[95mtd\u001b[0m\u001b[39m><td>—<\u001b[0m\u001b[35m/\u001b[0m\u001b[95mtd\u001b[0m\u001b[39m><\u001b[0m\u001b[35m/\u001b[0m\u001b[95mtr\u001b[0m\u001b[39m><\u001b[0m\u001b[35m/\u001b[0m\u001b[95mtbody\u001b[0m\u001b[39m><\u001b[0m\u001b[35m/\u001b[0m\u001b[95mtable\u001b[0m\u001b[1m>\u001b[0m\n",
       "\n",
       "\u001b[1m(\u001b[0m\u001b[1;36m1\u001b[0m\u001b[1m)\u001b[0m Assets are included in other assets and liabilities are included in accounts payable, accruals and other \n",
       "liabilities.\n",
       "\n",
       "\u001b[1;36m23\u001b[0m\n",
       "\n",
       "\n",
       "\n"
      ]
     },
     "metadata": {},
     "output_type": "display_data"
    },
    {
     "data": {
      "text/html": [
       "<pre style=\"white-space:pre;overflow-x:auto;line-height:normal;font-family:Menlo,'DejaVu Sans Mono',consolas,'Courier New',monospace\">\n",
       "<span style=\"color: #800000; text-decoration-color: #800000; font-weight: bold\">ASSISTANT</span>\n",
       "The file has been successfully partitioned and saved as markdown. The content shows a section of financial \n",
       "statements, specifically Note <span style=\"color: #008080; text-decoration-color: #008080; font-weight: bold\">18</span> about fair value measurements, containing detailed tables of financial assets and \n",
       "liabilities as of June <span style=\"color: #008080; text-decoration-color: #008080; font-weight: bold\">30</span>, <span style=\"color: #008080; text-decoration-color: #008080; font-weight: bold\">2023</span>, and December <span style=\"color: #008080; text-decoration-color: #008080; font-weight: bold\">31</span>, <span style=\"color: #008080; text-decoration-color: #008080; font-weight: bold\">2022</span>. The table includes information about investments in fixed \n",
       "maturity securities, equity securities, loans, derivative contracts, and notes payable, with their respective \n",
       "carrying values and fair values categorized by different levels of the fair value hierarchy.\n",
       "</pre>\n"
      ],
      "text/plain": [
       "\n",
       "\u001b[1;31mASSISTANT\u001b[0m\n",
       "The file has been successfully partitioned and saved as markdown. The content shows a section of financial \n",
       "statements, specifically Note \u001b[1;36m18\u001b[0m about fair value measurements, containing detailed tables of financial assets and \n",
       "liabilities as of June \u001b[1;36m30\u001b[0m, \u001b[1;36m2023\u001b[0m, and December \u001b[1;36m31\u001b[0m, \u001b[1;36m2022\u001b[0m. The table includes information about investments in fixed \n",
       "maturity securities, equity securities, loans, derivative contracts, and notes payable, with their respective \n",
       "carrying values and fair values categorized by different levels of the fair value hierarchy.\n"
      ]
     },
     "metadata": {},
     "output_type": "display_data"
    },
    {
     "data": {
      "text/html": [
       "<pre style=\"white-space:pre;overflow-x:auto;line-height:normal;font-family:Menlo,'DejaVu Sans Mono',consolas,'Courier New',monospace\">\n",
       "<span style=\"color: #008000; text-decoration-color: #008000; font-weight: bold\">Query</span> (q/quit to end chat): </pre>\n"
      ],
      "text/plain": [
       "\n",
       "\u001b[1;32mQuery\u001b[0m (q/quit to end chat): "
      ]
     },
     "metadata": {},
     "output_type": "display_data"
    },
    {
     "name": "stdin",
     "output_type": "stream",
     "text": [
      " q\n"
     ]
    },
    {
     "data": {
      "text/html": [
       "<pre style=\"white-space:pre;overflow-x:auto;line-height:normal;font-family:Menlo,'DejaVu Sans Mono',consolas,'Courier New',monospace\">\n",
       "</pre>\n"
      ],
      "text/plain": [
       "\n"
      ]
     },
     "metadata": {},
     "output_type": "display_data"
    }
   ],
   "source": [
    "client = MCPClient()\n",
    "try:\n",
    "    await client.connect_to_server(\"http://127.0.0.1:8080/sse\")\n",
    "    await client.connect_to_server(\"@wonderwhy-er/desktop-commander\")\n",
    "    await client.chat_loop()\n",
    "finally:\n",
    "    await client.cleanup()"
   ]
  },
  {
   "cell_type": "code",
   "execution_count": 3,
   "id": "initial_id",
   "metadata": {
    "ExecuteTime": {
     "end_time": "2025-03-27T17:01:44.283334Z",
     "start_time": "2025-03-27T17:01:44.281991Z"
    }
   },
   "outputs": [],
   "source": [
    "query = \"\"\"\n",
    "Hey, I would like you to list recursively all data in /Users/kamilplucinski/git/UNS-MCP/.local/example_directory (using find command), and partition the first found file with VLM strategy, save outputs in '.local/mcp_output' directory. After that, read the first 10 lines of the created file (using head command).\n",
    "\"\"\""
   ]
  },
  {
   "cell_type": "code",
   "execution_count": 4,
   "id": "d529fb28-cb57-49bd-86e0-93bcd8da8318",
   "metadata": {
    "ExecuteTime": {
     "end_time": "2025-03-27T17:04:52.024010Z",
     "start_time": "2025-03-27T17:01:45.569601Z"
    }
   },
   "outputs": [
    {
     "data": {
      "text/html": [
       "<pre style=\"white-space:pre;overflow-x:auto;line-height:normal;font-family:Menlo,'DejaVu Sans Mono',consolas,'Courier New',monospace\">\n",
       "<span style=\"color: #008000; text-decoration-color: #008000; font-weight: bold\">Query</span> (q/quit to end chat): </pre>\n"
      ],
      "text/plain": [
       "\n",
       "\u001b[1;32mQuery\u001b[0m (q/quit to end chat): "
      ]
     },
     "metadata": {},
     "output_type": "display_data"
    },
    {
     "name": "stdin",
     "output_type": "stream",
     "text": [
      " Hey, I would like you to list recursively all data in /Users/kamilplucinski/git/UNS-MCP/.local/example_directory (using find command), and partition the first found file with VLM strategy, save outputs in '.local/mcp_output' directory. After that, read the first 10 lines of the created file (using head command).\n"
     ]
    },
    {
     "data": {
      "text/html": [
       "<pre style=\"white-space:pre;overflow-x:auto;line-height:normal;font-family:Menlo,'DejaVu Sans Mono',consolas,'Courier New',monospace\">\n",
       "</pre>\n"
      ],
      "text/plain": [
       "\n"
      ]
     },
     "metadata": {},
     "output_type": "display_data"
    },
    {
     "data": {
      "text/html": [
       "<pre style=\"white-space:pre;overflow-x:auto;line-height:normal;font-family:Menlo,'DejaVu Sans Mono',consolas,'Courier New',monospace\">\n",
       "<span style=\"color: #800000; text-decoration-color: #800000; font-weight: bold\">ASSISTANT</span>\n",
       "I'll help you execute these tasks step by step. Let me break this down:\n",
       "\n",
       "<span style=\"color: #008080; text-decoration-color: #008080; font-weight: bold\">1</span>. First, let's execute the find command to list files recursively\n",
       "<span style=\"color: #008080; text-decoration-color: #008080; font-weight: bold\">2</span>. Then use partition_local_file with VLM strategy on the first file\n",
       "<span style=\"color: #008080; text-decoration-color: #008080; font-weight: bold\">3</span>. Finally, read the first <span style=\"color: #008080; text-decoration-color: #008080; font-weight: bold\">10</span> lines of the output file\n",
       "\n",
       "Let's start:\n",
       "\n",
       "<span style=\"color: #008080; text-decoration-color: #008080; font-weight: bold\">1</span>. Let's execute the find command:\n",
       "</pre>\n"
      ],
      "text/plain": [
       "\n",
       "\u001b[1;31mASSISTANT\u001b[0m\n",
       "I'll help you execute these tasks step by step. Let me break this down:\n",
       "\n",
       "\u001b[1;36m1\u001b[0m. First, let's execute the find command to list files recursively\n",
       "\u001b[1;36m2\u001b[0m. Then use partition_local_file with VLM strategy on the first file\n",
       "\u001b[1;36m3\u001b[0m. Finally, read the first \u001b[1;36m10\u001b[0m lines of the output file\n",
       "\n",
       "Let's start:\n",
       "\n",
       "\u001b[1;36m1\u001b[0m. Let's execute the find command:\n"
      ]
     },
     "metadata": {},
     "output_type": "display_data"
    },
    {
     "data": {
      "text/html": [
       "<pre style=\"white-space:pre;overflow-x:auto;line-height:normal;font-family:Menlo,'DejaVu Sans Mono',consolas,'Courier New',monospace\">\n",
       "<span style=\"color: #008080; text-decoration-color: #008080; font-weight: bold\">TOOL CALL</span>\n",
       "Accept execution of execute_command with args {'command': 'find \n",
       "/Users/kamilplucinski/git/UNS-MCP/.local/example_directory -type f'}? <span style=\"color: #800080; text-decoration-color: #800080; font-weight: bold\">[y/n]</span> <span style=\"color: #008080; text-decoration-color: #008080; font-weight: bold\">(y)</span>: </pre>\n"
      ],
      "text/plain": [
       "\n",
       "\u001b[1;36mTOOL CALL\u001b[0m\n",
       "Accept execution of execute_command with args {'command': 'find \n",
       "/Users/kamilplucinski/git/UNS-MCP/.local/example_directory -type f'}? \u001b[1;35m[y/n]\u001b[0m \u001b[1;36m(y)\u001b[0m: "
      ]
     },
     "metadata": {},
     "output_type": "display_data"
    },
    {
     "name": "stdin",
     "output_type": "stream",
     "text": [
      " y\n"
     ]
    },
    {
     "data": {
      "text/html": [
       "<pre style=\"white-space:pre;overflow-x:auto;line-height:normal;font-family:Menlo,'DejaVu Sans Mono',consolas,'Courier New',monospace\">\n",
       "<span style=\"color: #008080; text-decoration-color: #008080; font-weight: bold\">TOOL OUTPUT</span>:\n",
       "Command started with PID <span style=\"color: #008080; text-decoration-color: #008080; font-weight: bold\">84374</span>\n",
       "Initial output:\n",
       "<span style=\"color: #800080; text-decoration-color: #800080\">/Users/kamilplucinski/git/UNS-MCP/.local/example_directory/nested_dir/</span><span style=\"color: #ff00ff; text-decoration-color: #ff00ff\">2022-alphabet-annual-report-56-59.pdf</span>\n",
       "<span style=\"color: #800080; text-decoration-color: #800080\">/Users/kamilplucinski/git/UNS-MCP/.local/example_directory/</span><span style=\"color: #ff00ff; text-decoration-color: #ff00ff\">005-CISA-AA22-076-Strengthening-Cybersecurity-p1-p4.pdf</span>\n",
       "<span style=\"color: #800080; text-decoration-color: #800080\">/Users/kamilplucinski/git/UNS-MCP/.local/example_directory/</span><span style=\"color: #ff00ff; text-decoration-color: #ff00ff\">23-BERKSHIRE.pdf</span>\n",
       "\n",
       "\n",
       "</pre>\n"
      ],
      "text/plain": [
       "\n",
       "\u001b[1;36mTOOL OUTPUT\u001b[0m:\n",
       "Command started with PID \u001b[1;36m84374\u001b[0m\n",
       "Initial output:\n",
       "\u001b[35m/Users/kamilplucinski/git/UNS-MCP/.local/example_directory/nested_dir/\u001b[0m\u001b[95m2022-alphabet-annual-report-56-59.pdf\u001b[0m\n",
       "\u001b[35m/Users/kamilplucinski/git/UNS-MCP/.local/example_directory/\u001b[0m\u001b[95m005-CISA-AA22-076-Strengthening-Cybersecurity-p1-p4.pdf\u001b[0m\n",
       "\u001b[35m/Users/kamilplucinski/git/UNS-MCP/.local/example_directory/\u001b[0m\u001b[95m23-BERKSHIRE.pdf\u001b[0m\n",
       "\n",
       "\n"
      ]
     },
     "metadata": {},
     "output_type": "display_data"
    },
    {
     "data": {
      "text/html": [
       "<pre style=\"white-space:pre;overflow-x:auto;line-height:normal;font-family:Menlo,'DejaVu Sans Mono',consolas,'Courier New',monospace\">\n",
       "<span style=\"color: #800000; text-decoration-color: #800000; font-weight: bold\">ASSISTANT</span>\n",
       "Now that we have the files, let's take the first file and partition it using VLM strategy:\n",
       "</pre>\n"
      ],
      "text/plain": [
       "\n",
       "\u001b[1;31mASSISTANT\u001b[0m\n",
       "Now that we have the files, let's take the first file and partition it using VLM strategy:\n"
      ]
     },
     "metadata": {},
     "output_type": "display_data"
    },
    {
     "data": {
      "text/html": [
       "<pre style=\"white-space:pre;overflow-x:auto;line-height:normal;font-family:Menlo,'DejaVu Sans Mono',consolas,'Courier New',monospace\">\n",
       "<span style=\"color: #008080; text-decoration-color: #008080; font-weight: bold\">TOOL CALL</span>\n",
       "Accept execution of partition_local_file with args {'input_file_path': \n",
       "'/Users/kamilplucinski/git/UNS-MCP/.local/example_directory/nested_dir/2022-alphabet-annual-report-56-59.pdf', \n",
       "'strategy': 'vlm', 'output_file_dir': '/Users/kamilplucinski/git/UNS-MCP/.local/mcp_output'}? <span style=\"color: #800080; text-decoration-color: #800080; font-weight: bold\">[y/n]</span> <span style=\"color: #008080; text-decoration-color: #008080; font-weight: bold\">(y)</span>: </pre>\n"
      ],
      "text/plain": [
       "\n",
       "\u001b[1;36mTOOL CALL\u001b[0m\n",
       "Accept execution of partition_local_file with args {'input_file_path': \n",
       "'/Users/kamilplucinski/git/UNS-MCP/.local/example_directory/nested_dir/2022-alphabet-annual-report-56-59.pdf', \n",
       "'strategy': 'vlm', 'output_file_dir': '/Users/kamilplucinski/git/UNS-MCP/.local/mcp_output'}? \u001b[1;35m[y/n]\u001b[0m \u001b[1;36m(y)\u001b[0m: "
      ]
     },
     "metadata": {},
     "output_type": "display_data"
    },
    {
     "name": "stdin",
     "output_type": "stream",
     "text": [
      " y\n"
     ]
    },
    {
     "data": {
      "text/html": [
       "<pre style=\"white-space:pre;overflow-x:auto;line-height:normal;font-family:Menlo,'DejaVu Sans Mono',consolas,'Courier New',monospace\">\n",
       "<span style=\"color: #008080; text-decoration-color: #008080; font-weight: bold\">TOOL OUTPUT</span>:\n",
       "Partition file \n",
       "<span style=\"color: #800080; text-decoration-color: #800080\">/Users/kamilplucinski/git/UNS-MCP/.local/example_directory/nested_dir/</span><span style=\"color: #ff00ff; text-decoration-color: #ff00ff\">2022-alphabet-annual-report-56-59.pdf</span> to \n",
       "<span style=\"color: #800080; text-decoration-color: #800080\">/Users/kamilplucinski/git/UNS-MCP/.local/mcp_output/</span><span style=\"color: #ff00ff; text-decoration-color: #ff00ff\">2022-alphabet-annual-report-56-59.json</span> successfully\n",
       "\n",
       "</pre>\n"
      ],
      "text/plain": [
       "\n",
       "\u001b[1;36mTOOL OUTPUT\u001b[0m:\n",
       "Partition file \n",
       "\u001b[35m/Users/kamilplucinski/git/UNS-MCP/.local/example_directory/nested_dir/\u001b[0m\u001b[95m2022-alphabet-annual-report-56-59.pdf\u001b[0m to \n",
       "\u001b[35m/Users/kamilplucinski/git/UNS-MCP/.local/mcp_output/\u001b[0m\u001b[95m2022-alphabet-annual-report-56-59.json\u001b[0m successfully\n",
       "\n"
      ]
     },
     "metadata": {},
     "output_type": "display_data"
    },
    {
     "data": {
      "text/html": [
       "<pre style=\"white-space:pre;overflow-x:auto;line-height:normal;font-family:Menlo,'DejaVu Sans Mono',consolas,'Courier New',monospace\">\n",
       "<span style=\"color: #800000; text-decoration-color: #800000; font-weight: bold\">ASSISTANT</span>\n",
       "Now, let's read the first <span style=\"color: #008080; text-decoration-color: #008080; font-weight: bold\">10</span> lines of the output file:\n",
       "</pre>\n"
      ],
      "text/plain": [
       "\n",
       "\u001b[1;31mASSISTANT\u001b[0m\n",
       "Now, let's read the first \u001b[1;36m10\u001b[0m lines of the output file:\n"
      ]
     },
     "metadata": {},
     "output_type": "display_data"
    },
    {
     "data": {
      "text/html": [
       "<pre style=\"white-space:pre;overflow-x:auto;line-height:normal;font-family:Menlo,'DejaVu Sans Mono',consolas,'Courier New',monospace\">\n",
       "<span style=\"color: #008080; text-decoration-color: #008080; font-weight: bold\">TOOL CALL</span>\n",
       "Accept execution of execute_command with args {'command': 'head -n 10 \n",
       "/Users/kamilplucinski/git/UNS-MCP/.local/mcp_output/2022-alphabet-annual-report-56-59.json'}? <span style=\"color: #800080; text-decoration-color: #800080; font-weight: bold\">[y/n]</span> <span style=\"color: #008080; text-decoration-color: #008080; font-weight: bold\">(y)</span>: </pre>\n"
      ],
      "text/plain": [
       "\n",
       "\u001b[1;36mTOOL CALL\u001b[0m\n",
       "Accept execution of execute_command with args {'command': 'head -n 10 \n",
       "/Users/kamilplucinski/git/UNS-MCP/.local/mcp_output/2022-alphabet-annual-report-56-59.json'}? \u001b[1;35m[y/n]\u001b[0m \u001b[1;36m(y)\u001b[0m: "
      ]
     },
     "metadata": {},
     "output_type": "display_data"
    },
    {
     "name": "stdin",
     "output_type": "stream",
     "text": [
      " y\n"
     ]
    },
    {
     "data": {
      "text/html": [
       "<pre style=\"white-space:pre;overflow-x:auto;line-height:normal;font-family:Menlo,'DejaVu Sans Mono',consolas,'Courier New',monospace\">\n",
       "<span style=\"color: #008080; text-decoration-color: #008080; font-weight: bold\">TOOL OUTPUT</span>:\n",
       "Command started with PID <span style=\"color: #008080; text-decoration-color: #008080; font-weight: bold\">84395</span>\n",
       "Initial output:\n",
       "<span style=\"font-weight: bold\">[</span>\n",
       "  <span style=\"font-weight: bold\">{</span>\n",
       "    <span style=\"color: #008000; text-decoration-color: #008000\">\"type\"</span>: <span style=\"color: #008000; text-decoration-color: #008000\">\"UncategorizedText\"</span>,\n",
       "    <span style=\"color: #008000; text-decoration-color: #008000\">\"element_id\"</span>: <span style=\"color: #008000; text-decoration-color: #008000\">\"6b37173e9c5180e77bfe620773f2ef81\"</span>,\n",
       "    <span style=\"color: #008000; text-decoration-color: #008000\">\"text\"</span>: <span style=\"color: #008000; text-decoration-color: #008000\">\"\"</span>,\n",
       "    <span style=\"color: #008000; text-decoration-color: #008000\">\"metadata\"</span>: <span style=\"font-weight: bold\">{</span>\n",
       "      <span style=\"color: #008000; text-decoration-color: #008000\">\"category_depth\"</span>: <span style=\"color: #008080; text-decoration-color: #008080; font-weight: bold\">0</span>,\n",
       "      <span style=\"color: #008000; text-decoration-color: #008000\">\"page_number\"</span>: <span style=\"color: #008080; text-decoration-color: #008080; font-weight: bold\">1</span>,\n",
       "      <span style=\"color: #008000; text-decoration-color: #008000\">\"text_as_html\"</span>: <span style=\"color: #008000; text-decoration-color: #008000\">\"&lt;div class=\\\"Page\\\" data-page-number=\\\"1\\\" id=\\\"aad3efe924634af8b1a36972d4a55406\\\" /&gt;\"</span>,\n",
       "      <span style=\"color: #008000; text-decoration-color: #008000\">\"languages\"</span>: <span style=\"font-weight: bold\">[</span>\n",
       "\n",
       "\n",
       "</pre>\n"
      ],
      "text/plain": [
       "\n",
       "\u001b[1;36mTOOL OUTPUT\u001b[0m:\n",
       "Command started with PID \u001b[1;36m84395\u001b[0m\n",
       "Initial output:\n",
       "\u001b[1m[\u001b[0m\n",
       "  \u001b[1m{\u001b[0m\n",
       "    \u001b[32m\"type\"\u001b[0m: \u001b[32m\"UncategorizedText\"\u001b[0m,\n",
       "    \u001b[32m\"element_id\"\u001b[0m: \u001b[32m\"6b37173e9c5180e77bfe620773f2ef81\"\u001b[0m,\n",
       "    \u001b[32m\"text\"\u001b[0m: \u001b[32m\"\"\u001b[0m,\n",
       "    \u001b[32m\"metadata\"\u001b[0m: \u001b[1m{\u001b[0m\n",
       "      \u001b[32m\"category_depth\"\u001b[0m: \u001b[1;36m0\u001b[0m,\n",
       "      \u001b[32m\"page_number\"\u001b[0m: \u001b[1;36m1\u001b[0m,\n",
       "      \u001b[32m\"text_as_html\"\u001b[0m: \u001b[32m\"\u001b[0m\u001b[32m<\u001b[0m\u001b[32mdiv\u001b[0m\u001b[32m \u001b[0m\u001b[32mclass\u001b[0m\u001b[32m=\\\"Page\\\" data-page-\u001b[0m\u001b[32mnumber\u001b[0m\u001b[32m=\\\"1\\\" \u001b[0m\u001b[32mid\u001b[0m\u001b[32m=\\\"aad3efe924634af8b1a36972d4a55406\\\" /\u001b[0m\u001b[32m>\u001b[0m\u001b[32m\"\u001b[0m,\n",
       "      \u001b[32m\"languages\"\u001b[0m: \u001b[1m[\u001b[0m\n",
       "\n",
       "\n"
      ]
     },
     "metadata": {},
     "output_type": "display_data"
    },
    {
     "data": {
      "text/html": [
       "<pre style=\"white-space:pre;overflow-x:auto;line-height:normal;font-family:Menlo,'DejaVu Sans Mono',consolas,'Courier New',monospace\">\n",
       "<span style=\"color: #800000; text-decoration-color: #800000; font-weight: bold\">ASSISTANT</span>\n",
       "I've completed all the requested tasks:\n",
       "<span style=\"color: #008080; text-decoration-color: #008080; font-weight: bold\">1</span>. Listed all files in the directory recursively\n",
       "<span style=\"color: #008080; text-decoration-color: #008080; font-weight: bold\">2</span>. Partitioned the first file <span style=\"font-weight: bold\">(</span><span style=\"color: #008080; text-decoration-color: #008080; font-weight: bold\">2022</span>-alphabet-annual-report-<span style=\"color: #008080; text-decoration-color: #008080; font-weight: bold\">56</span>-<span style=\"color: #008080; text-decoration-color: #008080; font-weight: bold\">59.</span>pdf<span style=\"font-weight: bold\">)</span> using VLM strategy and saved it to the \n",
       ".local/mcp_output directory\n",
       "<span style=\"color: #008080; text-decoration-color: #008080; font-weight: bold\">3</span>. Showed the first <span style=\"color: #008080; text-decoration-color: #008080; font-weight: bold\">10</span> lines of the output JSON file\n",
       "\n",
       "The output file has been created and is in JSON format, containing the structured data from the PDF file. The first\n",
       "few lines show the beginning of the JSON structure with metadata about the document partitioning.\n",
       "</pre>\n"
      ],
      "text/plain": [
       "\n",
       "\u001b[1;31mASSISTANT\u001b[0m\n",
       "I've completed all the requested tasks:\n",
       "\u001b[1;36m1\u001b[0m. Listed all files in the directory recursively\n",
       "\u001b[1;36m2\u001b[0m. Partitioned the first file \u001b[1m(\u001b[0m\u001b[1;36m2022\u001b[0m-alphabet-annual-report-\u001b[1;36m56\u001b[0m-\u001b[1;36m59.\u001b[0mpdf\u001b[1m)\u001b[0m using VLM strategy and saved it to the \n",
       ".local/mcp_output directory\n",
       "\u001b[1;36m3\u001b[0m. Showed the first \u001b[1;36m10\u001b[0m lines of the output JSON file\n",
       "\n",
       "The output file has been created and is in JSON format, containing the structured data from the PDF file. The first\n",
       "few lines show the beginning of the JSON structure with metadata about the document partitioning.\n"
      ]
     },
     "metadata": {},
     "output_type": "display_data"
    },
    {
     "data": {
      "text/html": [
       "<pre style=\"white-space:pre;overflow-x:auto;line-height:normal;font-family:Menlo,'DejaVu Sans Mono',consolas,'Courier New',monospace\">\n",
       "<span style=\"color: #008000; text-decoration-color: #008000; font-weight: bold\">Query</span> (q/quit to end chat): </pre>\n"
      ],
      "text/plain": [
       "\n",
       "\u001b[1;32mQuery\u001b[0m (q/quit to end chat): "
      ]
     },
     "metadata": {},
     "output_type": "display_data"
    },
    {
     "name": "stdin",
     "output_type": "stream",
     "text": [
      " q\n"
     ]
    },
    {
     "data": {
      "text/html": [
       "<pre style=\"white-space:pre;overflow-x:auto;line-height:normal;font-family:Menlo,'DejaVu Sans Mono',consolas,'Courier New',monospace\">\n",
       "</pre>\n"
      ],
      "text/plain": [
       "\n"
      ]
     },
     "metadata": {},
     "output_type": "display_data"
    }
   ],
   "source": [
    "client = MCPClient()\n",
    "try:\n",
    "    await client.connect_to_server(\"http://127.0.0.1:8080/sse\")\n",
    "    await client.connect_to_server(\"@wonderwhy-er/desktop-commander\")\n",
    "    await client.chat_loop()\n",
    "finally:\n",
    "    await client.cleanup()"
   ]
  },
  {
   "cell_type": "code",
   "execution_count": null,
   "id": "830cb6efec14b0f1",
   "metadata": {},
   "outputs": [],
   "source": []
  }
 ],
 "metadata": {
  "kernelspec": {
   "display_name": "Python 3 (ipykernel)",
   "language": "python",
   "name": "python3"
  },
  "language_info": {
   "codemirror_mode": {
    "name": "ipython",
    "version": 3
   },
   "file_extension": ".py",
   "mimetype": "text/x-python",
   "name": "python",
   "nbconvert_exporter": "python",
   "pygments_lexer": "ipython3",
   "version": "3.12.3"
  }
 },
 "nbformat": 4,
 "nbformat_minor": 5
}
