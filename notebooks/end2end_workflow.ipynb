{
 "cells": [
  {
   "cell_type": "code",
   "id": "initial_id",
   "metadata": {
    "collapsed": true,
    "jupyter": {
     "outputs_hidden": true
    },
    "ExecuteTime": {
     "end_time": "2025-03-20T12:08:52.274618Z",
     "start_time": "2025-03-20T12:08:52.272035Z"
    }
   },
   "source": [
    "query = \"\"\"\n",
    "Hello, I would like you to create: a new S3 source connector and S3 destination connector. Call them 'MyExampleSourceS3-1' and 'MyExampleDestinationS3-1' respectively. S3 uri is 's3://crag-protected-but-non-sensitive/pluto/example_input/' and 's3://crag-protected-but-non-sensitive/pluto/example_output/'. Then I would like you to create and execute workflow with platinum strategy and previously created connectors MyExampleSourceS3-1 and MyExampleDestinationS3-1. Do not run the workflow yet ;)\n",
    "\"\"\""
   ],
   "outputs": [],
   "execution_count": 1
  },
  {
   "cell_type": "code",
   "id": "dd74d3ac5677b80a",
   "metadata": {
    "ExecuteTime": {
     "end_time": "2025-03-20T12:08:52.279245Z",
     "start_time": "2025-03-20T12:08:52.277425Z"
    }
   },
   "source": [
    "from pathlib import Path\n",
    "import os\n",
    "\n",
    "# Set working directory at top level or repository\n",
    "os.chdir(Path.cwd().parent)"
   ],
   "outputs": [],
   "execution_count": 2
  },
  {
   "cell_type": "code",
   "id": "775df9f8644b052b",
   "metadata": {
    "ExecuteTime": {
     "end_time": "2025-03-20T12:08:52.632668Z",
     "start_time": "2025-03-20T12:08:52.377855Z"
    }
   },
   "source": "from minimal_client.run import MCPClient",
   "outputs": [],
   "execution_count": 3
  },
  {
   "cell_type": "code",
   "id": "d529fb28-cb57-49bd-86e0-93bcd8da8318",
   "metadata": {
    "ExecuteTime": {
     "end_time": "2025-03-20T12:09:57.602604Z",
     "start_time": "2025-03-20T12:08:52.690287Z"
    }
   },
   "source": [
    "client = MCPClient()\n",
    "try:\n",
    "    await client.connect_to_server('server.py')\n",
    "    await client.chat_loop()\n",
    "finally:\n",
    "    await client.cleanup()"
   ],
   "outputs": [
    {
     "data": {
      "text/plain": [
       "\n",
       "\u001B[1;32mQuery\u001B[0m: "
      ],
      "text/html": [
       "<pre style=\"white-space:pre;overflow-x:auto;line-height:normal;font-family:Menlo,'DejaVu Sans Mono',consolas,'Courier New',monospace\">\n",
       "<span style=\"color: #008000; text-decoration-color: #008000; font-weight: bold\">Query</span>: </pre>\n"
      ]
     },
     "metadata": {},
     "output_type": "display_data"
    },
    {
     "data": {
      "text/plain": [
       "\n"
      ],
      "text/html": [
       "<pre style=\"white-space:pre;overflow-x:auto;line-height:normal;font-family:Menlo,'DejaVu Sans Mono',consolas,'Courier New',monospace\">\n",
       "</pre>\n"
      ]
     },
     "metadata": {},
     "output_type": "display_data"
    },
    {
     "data": {
      "text/plain": [
       "\n",
       "\u001B[1;31mASSISTANT\u001B[0m\n",
       "I'll help you create the S3 source and destination connectors, and then set up a workflow with them using the \n",
       "platinum strategy. I'll break this down into steps:\n",
       "\n",
       "\u001B[1;36m1\u001B[0m. First, let's create the S3 source connector with the specified name and URI:\n"
      ],
      "text/html": [
       "<pre style=\"white-space:pre;overflow-x:auto;line-height:normal;font-family:Menlo,'DejaVu Sans Mono',consolas,'Courier New',monospace\">\n",
       "<span style=\"color: #800000; text-decoration-color: #800000; font-weight: bold\">ASSISTANT</span>\n",
       "I'll help you create the S3 source and destination connectors, and then set up a workflow with them using the \n",
       "platinum strategy. I'll break this down into steps:\n",
       "\n",
       "<span style=\"color: #008080; text-decoration-color: #008080; font-weight: bold\">1</span>. First, let's create the S3 source connector with the specified name and URI:\n",
       "</pre>\n"
      ]
     },
     "metadata": {},
     "output_type": "display_data"
    },
    {
     "data": {
      "text/plain": [
       "\n",
       "\u001B[1;36mTOOL CALL\u001B[0m\n",
       "Accept execution of create_s3_source with args {'name': 'MyExampleSourceS3-1', 'remote_url': \n",
       "'s3://crag-protected-but-non-sensitive/pluto/example_input/'}? \u001B[1;35m[y/n]\u001B[0m \u001B[1;36m(y)\u001B[0m: "
      ],
      "text/html": [
       "<pre style=\"white-space:pre;overflow-x:auto;line-height:normal;font-family:Menlo,'DejaVu Sans Mono',consolas,'Courier New',monospace\">\n",
       "<span style=\"color: #008080; text-decoration-color: #008080; font-weight: bold\">TOOL CALL</span>\n",
       "Accept execution of create_s3_source with args {'name': 'MyExampleSourceS3-1', 'remote_url': \n",
       "'s3://crag-protected-but-non-sensitive/pluto/example_input/'}? <span style=\"color: #800080; text-decoration-color: #800080; font-weight: bold\">[y/n]</span> <span style=\"color: #008080; text-decoration-color: #008080; font-weight: bold\">(y)</span>: </pre>\n"
      ]
     },
     "metadata": {},
     "output_type": "display_data"
    },
    {
     "data": {
      "text/plain": [
       "\n",
       "\u001B[1;36mTOOL OUTPUT\u001B[0m:\n",
       "S3 Source Connector Created:\n",
       "Name: MyExampleSourceS3-\u001B[1;36m1\u001B[0m\n",
       "ID: \u001B[93m733fc931-8ed3-4b07-9bbe-9f45f044c76f\u001B[0m\n",
       "\n"
      ],
      "text/html": [
       "<pre style=\"white-space:pre;overflow-x:auto;line-height:normal;font-family:Menlo,'DejaVu Sans Mono',consolas,'Courier New',monospace\">\n",
       "<span style=\"color: #008080; text-decoration-color: #008080; font-weight: bold\">TOOL OUTPUT</span>:\n",
       "S3 Source Connector Created:\n",
       "Name: MyExampleSourceS3-<span style=\"color: #008080; text-decoration-color: #008080; font-weight: bold\">1</span>\n",
       "ID: <span style=\"color: #ffff00; text-decoration-color: #ffff00\">733fc931-8ed3-4b07-9bbe-9f45f044c76f</span>\n",
       "\n",
       "</pre>\n"
      ]
     },
     "metadata": {},
     "output_type": "display_data"
    },
    {
     "data": {
      "text/plain": [
       "\n",
       "\u001B[1;31mASSISTANT\u001B[0m\n",
       "\u001B[1;36m2\u001B[0m. Now, let's create the S3 destination connector:\n"
      ],
      "text/html": [
       "<pre style=\"white-space:pre;overflow-x:auto;line-height:normal;font-family:Menlo,'DejaVu Sans Mono',consolas,'Courier New',monospace\">\n",
       "<span style=\"color: #800000; text-decoration-color: #800000; font-weight: bold\">ASSISTANT</span>\n",
       "<span style=\"color: #008080; text-decoration-color: #008080; font-weight: bold\">2</span>. Now, let's create the S3 destination connector:\n",
       "</pre>\n"
      ]
     },
     "metadata": {},
     "output_type": "display_data"
    },
    {
     "data": {
      "text/plain": [
       "\n",
       "\u001B[1;36mTOOL CALL\u001B[0m\n",
       "Accept execution of create_s3_destination with args {'name': 'MyExampleDestinationS3-1', 'remote_url': \n",
       "'s3://crag-protected-but-non-sensitive/pluto/example_output/'}? \u001B[1;35m[y/n]\u001B[0m \u001B[1;36m(y)\u001B[0m: "
      ],
      "text/html": [
       "<pre style=\"white-space:pre;overflow-x:auto;line-height:normal;font-family:Menlo,'DejaVu Sans Mono',consolas,'Courier New',monospace\">\n",
       "<span style=\"color: #008080; text-decoration-color: #008080; font-weight: bold\">TOOL CALL</span>\n",
       "Accept execution of create_s3_destination with args {'name': 'MyExampleDestinationS3-1', 'remote_url': \n",
       "'s3://crag-protected-but-non-sensitive/pluto/example_output/'}? <span style=\"color: #800080; text-decoration-color: #800080; font-weight: bold\">[y/n]</span> <span style=\"color: #008080; text-decoration-color: #008080; font-weight: bold\">(y)</span>: </pre>\n"
      ]
     },
     "metadata": {},
     "output_type": "display_data"
    },
    {
     "data": {
      "text/plain": [
       "\n",
       "\u001B[1;36mTOOL OUTPUT\u001B[0m:\n",
       "S3 Destination Connector Created:\n",
       "Name: MyExampleDestinationS3-\u001B[1;36m1\u001B[0m\n",
       "ID: \u001B[93m6ce77851-2643-40b7-bb14-80f9f3c9312b\u001B[0m\n",
       "\n"
      ],
      "text/html": [
       "<pre style=\"white-space:pre;overflow-x:auto;line-height:normal;font-family:Menlo,'DejaVu Sans Mono',consolas,'Courier New',monospace\">\n",
       "<span style=\"color: #008080; text-decoration-color: #008080; font-weight: bold\">TOOL OUTPUT</span>:\n",
       "S3 Destination Connector Created:\n",
       "Name: MyExampleDestinationS3-<span style=\"color: #008080; text-decoration-color: #008080; font-weight: bold\">1</span>\n",
       "ID: <span style=\"color: #ffff00; text-decoration-color: #ffff00\">6ce77851-2643-40b7-bb14-80f9f3c9312b</span>\n",
       "\n",
       "</pre>\n"
      ]
     },
     "metadata": {},
     "output_type": "display_data"
    },
    {
     "data": {
      "text/plain": [
       "\n",
       "\u001B[1;31mASSISTANT\u001B[0m\n",
       "\u001B[1;36m3\u001B[0m. Now, let's create a workflow using these connectors with the platinum strategy:\n"
      ],
      "text/html": [
       "<pre style=\"white-space:pre;overflow-x:auto;line-height:normal;font-family:Menlo,'DejaVu Sans Mono',consolas,'Courier New',monospace\">\n",
       "<span style=\"color: #800000; text-decoration-color: #800000; font-weight: bold\">ASSISTANT</span>\n",
       "<span style=\"color: #008080; text-decoration-color: #008080; font-weight: bold\">3</span>. Now, let's create a workflow using these connectors with the platinum strategy:\n",
       "</pre>\n"
      ]
     },
     "metadata": {},
     "output_type": "display_data"
    },
    {
     "data": {
      "text/plain": [
       "\n",
       "\u001B[1;36mTOOL CALL\u001B[0m\n",
       "Accept execution of create_workflow with args {'workflow_config': {'name': 'MyExampleWorkflow', 'workflow_type': \n",
       "'platinum', 'source_id': '733fc931-8ed3-4b07-9bbe-9f45f044c76f', 'destination_id': \n",
       "'6ce77851-2643-40b7-bb14-80f9f3c9312b'}}? \u001B[1;35m[y/n]\u001B[0m \u001B[1;36m(y)\u001B[0m: "
      ],
      "text/html": [
       "<pre style=\"white-space:pre;overflow-x:auto;line-height:normal;font-family:Menlo,'DejaVu Sans Mono',consolas,'Courier New',monospace\">\n",
       "<span style=\"color: #008080; text-decoration-color: #008080; font-weight: bold\">TOOL CALL</span>\n",
       "Accept execution of create_workflow with args {'workflow_config': {'name': 'MyExampleWorkflow', 'workflow_type': \n",
       "'platinum', 'source_id': '733fc931-8ed3-4b07-9bbe-9f45f044c76f', 'destination_id': \n",
       "'6ce77851-2643-40b7-bb14-80f9f3c9312b'}}? <span style=\"color: #800080; text-decoration-color: #800080; font-weight: bold\">[y/n]</span> <span style=\"color: #008080; text-decoration-color: #008080; font-weight: bold\">(y)</span>: </pre>\n"
      ]
     },
     "metadata": {},
     "output_type": "display_data"
    },
    {
     "data": {
      "text/plain": [
       "\n",
       "\u001B[1;36mTOOL OUTPUT\u001B[0m:\n",
       "Workflow Information:\n",
       "Name: MyExampleWorkflow\n",
       "ID: \u001B[93m89fd7bb5-181d-46fe-9f0d-ad4788ab803b\u001B[0m\n",
       "Status: WorkflowState.ACTIVE\n",
       "Type: WorkflowType.PLATINUM\n",
       "\n",
       "Sources:\n",
       "  - \u001B[93m733fc931-8ed3-4b07-9bbe-9f45f044c76f\u001B[0m\n",
       "\n",
       "Destinations:\n",
       "  - \u001B[93m6ce77851-2643-40b7-bb14-80f9f3c9312b\u001B[0m\n",
       "\n",
       "Schedule:\n",
       "\n"
      ],
      "text/html": [
       "<pre style=\"white-space:pre;overflow-x:auto;line-height:normal;font-family:Menlo,'DejaVu Sans Mono',consolas,'Courier New',monospace\">\n",
       "<span style=\"color: #008080; text-decoration-color: #008080; font-weight: bold\">TOOL OUTPUT</span>:\n",
       "Workflow Information:\n",
       "Name: MyExampleWorkflow\n",
       "ID: <span style=\"color: #ffff00; text-decoration-color: #ffff00\">89fd7bb5-181d-46fe-9f0d-ad4788ab803b</span>\n",
       "Status: WorkflowState.ACTIVE\n",
       "Type: WorkflowType.PLATINUM\n",
       "\n",
       "Sources:\n",
       "  - <span style=\"color: #ffff00; text-decoration-color: #ffff00\">733fc931-8ed3-4b07-9bbe-9f45f044c76f</span>\n",
       "\n",
       "Destinations:\n",
       "  - <span style=\"color: #ffff00; text-decoration-color: #ffff00\">6ce77851-2643-40b7-bb14-80f9f3c9312b</span>\n",
       "\n",
       "Schedule:\n",
       "\n",
       "</pre>\n"
      ]
     },
     "metadata": {},
     "output_type": "display_data"
    },
    {
     "data": {
      "text/plain": [
       "\n",
       "\u001B[1;31mASSISTANT\u001B[0m\n",
       "I've completed all the requested steps:\n",
       "\u001B[1;36m1\u001B[0m. Created an S3 source connector named \u001B[32m'MyExampleSourceS3-1'\u001B[0m\n",
       "\u001B[1;36m2\u001B[0m. Created an S3 destination connector named \u001B[32m'MyExampleDestinationS3-1'\u001B[0m\n",
       "\u001B[1;36m3\u001B[0m. Created a workflow using the platinum strategy that connects these two connectors\n",
       "\n",
       "As requested, I did not run the workflow. The workflow has been created and is ready to run whenever you want. \n",
       "Would you like me to run it now or is there anything else you'd like to know about the created resources?\n"
      ],
      "text/html": [
       "<pre style=\"white-space:pre;overflow-x:auto;line-height:normal;font-family:Menlo,'DejaVu Sans Mono',consolas,'Courier New',monospace\">\n",
       "<span style=\"color: #800000; text-decoration-color: #800000; font-weight: bold\">ASSISTANT</span>\n",
       "I've completed all the requested steps:\n",
       "<span style=\"color: #008080; text-decoration-color: #008080; font-weight: bold\">1</span>. Created an S3 source connector named <span style=\"color: #008000; text-decoration-color: #008000\">'MyExampleSourceS3-1'</span>\n",
       "<span style=\"color: #008080; text-decoration-color: #008080; font-weight: bold\">2</span>. Created an S3 destination connector named <span style=\"color: #008000; text-decoration-color: #008000\">'MyExampleDestinationS3-1'</span>\n",
       "<span style=\"color: #008080; text-decoration-color: #008080; font-weight: bold\">3</span>. Created a workflow using the platinum strategy that connects these two connectors\n",
       "\n",
       "As requested, I did not run the workflow. The workflow has been created and is ready to run whenever you want. \n",
       "Would you like me to run it now or is there anything else you'd like to know about the created resources?\n",
       "</pre>\n"
      ]
     },
     "metadata": {},
     "output_type": "display_data"
    },
    {
     "data": {
      "text/plain": [
       "\n",
       "\u001B[1;32mQuery\u001B[0m: "
      ],
      "text/html": [
       "<pre style=\"white-space:pre;overflow-x:auto;line-height:normal;font-family:Menlo,'DejaVu Sans Mono',consolas,'Courier New',monospace\">\n",
       "<span style=\"color: #008000; text-decoration-color: #008000; font-weight: bold\">Query</span>: </pre>\n"
      ]
     },
     "metadata": {},
     "output_type": "display_data"
    },
    {
     "data": {
      "text/plain": [
       "\n"
      ],
      "text/html": [
       "<pre style=\"white-space:pre;overflow-x:auto;line-height:normal;font-family:Menlo,'DejaVu Sans Mono',consolas,'Courier New',monospace\">\n",
       "</pre>\n"
      ]
     },
     "metadata": {},
     "output_type": "display_data"
    }
   ],
   "execution_count": 4
  },
  {
   "cell_type": "code",
   "id": "ee85ea3b-4f21-4d7f-98ae-06c37ce11efa",
   "metadata": {
    "ExecuteTime": {
     "end_time": "2025-03-20T12:09:57.615822Z",
     "start_time": "2025-03-20T12:09:57.614511Z"
    }
   },
   "source": [],
   "outputs": [],
   "execution_count": null
  },
  {
   "metadata": {},
   "cell_type": "code",
   "outputs": [],
   "execution_count": null,
   "source": "",
   "id": "5f21ca1dab126fd9"
  }
 ],
 "metadata": {
  "kernelspec": {
   "display_name": "Python 3 (ipykernel)",
   "language": "python",
   "name": "python3"
  },
  "language_info": {
   "codemirror_mode": {
    "name": "ipython",
    "version": 3
   },
   "file_extension": ".py",
   "mimetype": "text/x-python",
   "name": "python",
   "nbconvert_exporter": "python",
   "pygments_lexer": "ipython3",
   "version": "3.12.3"
  }
 },
 "nbformat": 4,
 "nbformat_minor": 5
}
