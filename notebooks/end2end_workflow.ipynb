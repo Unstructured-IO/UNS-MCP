{
 "cells": [
  {
   "cell_type": "code",
   "id": "dd74d3ac5677b80a",
   "metadata": {
    "ExecuteTime": {
     "end_time": "2025-03-20T12:37:07.682762Z",
     "start_time": "2025-03-20T12:37:07.679650Z"
    }
   },
   "source": [
    "from pathlib import Path\n",
    "import os\n",
    "\n",
    "# Set working directory at top level or repository\n",
    "os.chdir(Path.cwd().parent)"
   ],
   "outputs": [],
   "execution_count": 1
  },
  {
   "metadata": {},
   "cell_type": "code",
   "outputs": [],
   "execution_count": null,
   "source": "from minimal_client.client import MCPClient",
   "id": "2bdb7a4f5bdef9c7"
  },
  {
   "metadata": {},
   "cell_type": "code",
   "outputs": [],
   "execution_count": null,
   "source": [
    "query = \"\"\"\n",
    "Hello, I would like you to create: a new S3 source connector and S3 destination connector. Call them 'MyExampleSourceS3-1' and 'MyExampleDestinationS3-1' respectively. S3 uri is 's3://crag-protected-but-non-sensitive/pluto/example_input/' and 's3://crag-protected-but-non-sensitive/pluto/example_output/'. Then I would like you to create and execute workflow with platinum strategy and previously created connectors MyExampleSourceS3-1 and MyExampleDestinationS3-1. Do not run the workflow yet ;)\n",
    "\"\"\""
   ],
   "id": "f01b8741d0649d3a"
  },
  {
   "metadata": {},
   "cell_type": "code",
   "outputs": [],
   "execution_count": null,
   "source": [
    "client = MCPClient()\n",
    "try:\n",
    "    await client.connect_to_server('uns_mcp/server.py')\n",
    "    await client.chat_loop()\n",
    "finally:\n",
    "    await client.cleanup()"
   ],
   "id": "4c47528e3609376c"
  },
  {
   "metadata": {},
   "cell_type": "code",
   "outputs": [],
   "execution_count": null,
   "source": [
    "query = \"\"\"\n",
    "I would like you to create and execute workflow with auto strategy and previously created connectors MyExampleSourceS3-1 and MyExampleDestinationS3-1. Do not run the workflow yet but call it S3toS3AutoWorkflow.\n",
    "\"\"\""
   ],
   "id": "184f86b3048f1060"
  },
  {
   "metadata": {},
   "cell_type": "code",
   "outputs": [],
   "execution_count": null,
   "source": [
    "client = MCPClient()\n",
    "try:\n",
    "    await client.connect_to_server('uns_mcp/server.py')\n",
    "    await client.chat_loop()\n",
    "finally:\n",
    "    await client.cleanup()"
   ],
   "id": "56cc846bff300daf"
  },
  {
   "metadata": {},
   "cell_type": "code",
   "outputs": [],
   "execution_count": null,
   "source": "",
   "id": "577992412b485848"
  }
 ],
 "metadata": {
  "kernelspec": {
   "display_name": "Python 3 (ipykernel)",
   "language": "python",
   "name": "python3"
  },
  "language_info": {
   "codemirror_mode": {
    "name": "ipython",
    "version": 3
   },
   "file_extension": ".py",
   "mimetype": "text/x-python",
   "name": "python",
   "nbconvert_exporter": "python",
   "pygments_lexer": "ipython3",
   "version": "3.12.3"
  }
 },
 "nbformat": 4,
 "nbformat_minor": 5
}
