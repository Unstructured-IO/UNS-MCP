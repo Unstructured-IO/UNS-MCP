{
 "cells": [
  {
   "cell_type": "code",
   "id": "dd74d3ac5677b80a",
   "metadata": {
    "ExecuteTime": {
     "end_time": "2025-03-20T13:43:35.320191Z",
     "start_time": "2025-03-20T13:43:35.317750Z"
    }
   },
   "source": [
    "from pathlib import Path\n",
    "import os\n",
    "\n",
    "# Set working directory at top level or repository\n",
    "os.chdir(Path.cwd().parent)"
   ],
   "outputs": [],
   "execution_count": 1
  },
  {
   "cell_type": "code",
   "id": "775df9f8644b052b",
   "metadata": {
    "ExecuteTime": {
     "end_time": "2025-03-20T13:43:35.597213Z",
     "start_time": "2025-03-20T13:43:35.322524Z"
    }
   },
   "source": "from minimal_client.run import MCPClient",
   "outputs": [],
   "execution_count": 2
  },
  {
   "metadata": {
    "ExecuteTime": {
     "end_time": "2025-03-20T13:43:35.654560Z",
     "start_time": "2025-03-20T13:43:35.652970Z"
    }
   },
   "cell_type": "code",
   "source": [
    "query = \"\"\"\n",
    "Hello, I would like you to create custom workflow. Source and Destination should be 'MyExampleSourceS3-1' and 'MyExampleDestinationS3-1' respectively (they already exist). Workflow should be called 'MycustomVLMandChunkingwithEmbedding'. I want VLM strategy with antrhopic model, chunk by title chunking with 1050 characters split size and embedding with azure_openai model.\n",
    "\"\"\""
   ],
   "id": "initial_id",
   "outputs": [],
   "execution_count": 3
  },
  {
   "cell_type": "code",
   "id": "d529fb28-cb57-49bd-86e0-93bcd8da8318",
   "metadata": {
    "ExecuteTime": {
     "end_time": "2025-03-20T13:44:55.791316Z",
     "start_time": "2025-03-20T13:43:35.796220Z"
    }
   },
   "source": [
    "client = MCPClient()\n",
    "try:\n",
    "    await client.connect_to_server('uns_mcp/run.py')\n",
    "    await client.chat_loop()\n",
    "finally:\n",
    "    await client.cleanup()"
   ],
   "outputs": [
    {
     "data": {
      "text/plain": [
       "\n",
       "\u001B[1;32mQuery\u001B[0m (q/quit to end chat): "
      ],
      "text/html": [
       "<pre style=\"white-space:pre;overflow-x:auto;line-height:normal;font-family:Menlo,'DejaVu Sans Mono',consolas,'Courier New',monospace\">\n",
       "<span style=\"color: #008000; text-decoration-color: #008000; font-weight: bold\">Query</span> (q/quit to end chat): </pre>\n"
      ]
     },
     "metadata": {},
     "output_type": "display_data"
    },
    {
     "data": {
      "text/plain": [
       "\n"
      ],
      "text/html": [
       "<pre style=\"white-space:pre;overflow-x:auto;line-height:normal;font-family:Menlo,'DejaVu Sans Mono',consolas,'Courier New',monospace\">\n",
       "</pre>\n"
      ]
     },
     "metadata": {},
     "output_type": "display_data"
    },
    {
     "data": {
      "text/plain": [
       "\n",
       "\u001B[1;31mASSISTANT\u001B[0m\n",
       "I'll help you create a custom workflow with the specified configuration. Since you've provided all the necessary \n",
       "details, I can create this workflow using the `create_workflow` function.\n",
       "\n",
       "Let me break down the workflow configuration:\n",
       "\u001B[1;36m1\u001B[0m. A VLM partitioner using Anthropic\n",
       "\u001B[1;36m2\u001B[0m. A chunker using chunk_by_title strategy\n",
       "\u001B[1;36m3\u001B[0m. An embedder using Azure OpenAI\n",
       "\n",
       "Here's the function call:\n"
      ],
      "text/html": [
       "<pre style=\"white-space:pre;overflow-x:auto;line-height:normal;font-family:Menlo,'DejaVu Sans Mono',consolas,'Courier New',monospace\">\n",
       "<span style=\"color: #800000; text-decoration-color: #800000; font-weight: bold\">ASSISTANT</span>\n",
       "I'll help you create a custom workflow with the specified configuration. Since you've provided all the necessary \n",
       "details, I can create this workflow using the `create_workflow` function.\n",
       "\n",
       "Let me break down the workflow configuration:\n",
       "<span style=\"color: #008080; text-decoration-color: #008080; font-weight: bold\">1</span>. A VLM partitioner using Anthropic\n",
       "<span style=\"color: #008080; text-decoration-color: #008080; font-weight: bold\">2</span>. A chunker using chunk_by_title strategy\n",
       "<span style=\"color: #008080; text-decoration-color: #008080; font-weight: bold\">3</span>. An embedder using Azure OpenAI\n",
       "\n",
       "Here's the function call:\n",
       "</pre>\n"
      ]
     },
     "metadata": {},
     "output_type": "display_data"
    },
    {
     "data": {
      "text/plain": [
       "\n",
       "\u001B[1;36mTOOL CALL\u001B[0m\n",
       "Accept execution of create_workflow with args {'workflow_config': {'name': 'MycustomVLMandChunkingwithEmbedding', \n",
       "'source_id': 'MyExampleSourceS3-1', 'destination_id': 'MyExampleDestinationS3-1', 'workflow_type': 'custom', \n",
       "'workflow_nodes': [{'name': 'VLM_Partitioner', 'type': 'partition', 'subtype': 'vlm', 'settings': {'provider': \n",
       "'anthropic', 'model': 'claude-3-5-sonnet-20241022'}}, {'name': 'Title_Chunker', 'type': 'chunk', 'subtype': \n",
       "'chunk_by_title', 'settings': {'max_characters': 1050}}, {'name': 'Embedder', 'type': 'embed', 'subtype': \n",
       "'azure_openai', 'settings': {'model_name': 'text-embedding-3-small'}}]}}? \u001B[1;35m[y/n]\u001B[0m \u001B[1;36m(y)\u001B[0m: "
      ],
      "text/html": [
       "<pre style=\"white-space:pre;overflow-x:auto;line-height:normal;font-family:Menlo,'DejaVu Sans Mono',consolas,'Courier New',monospace\">\n",
       "<span style=\"color: #008080; text-decoration-color: #008080; font-weight: bold\">TOOL CALL</span>\n",
       "Accept execution of create_workflow with args {'workflow_config': {'name': 'MycustomVLMandChunkingwithEmbedding', \n",
       "'source_id': 'MyExampleSourceS3-1', 'destination_id': 'MyExampleDestinationS3-1', 'workflow_type': 'custom', \n",
       "'workflow_nodes': [{'name': 'VLM_Partitioner', 'type': 'partition', 'subtype': 'vlm', 'settings': {'provider': \n",
       "'anthropic', 'model': 'claude-3-5-sonnet-20241022'}}, {'name': 'Title_Chunker', 'type': 'chunk', 'subtype': \n",
       "'chunk_by_title', 'settings': {'max_characters': 1050}}, {'name': 'Embedder', 'type': 'embed', 'subtype': \n",
       "'azure_openai', 'settings': {'model_name': 'text-embedding-3-small'}}]}}? <span style=\"color: #800080; text-decoration-color: #800080; font-weight: bold\">[y/n]</span> <span style=\"color: #008080; text-decoration-color: #008080; font-weight: bold\">(y)</span>: </pre>\n"
      ]
     },
     "metadata": {},
     "output_type": "display_data"
    },
    {
     "data": {
      "text/plain": [
       "\n",
       "\u001B[1;36mTOOL OUTPUT\u001B[0m:\n",
       "Error creating workflow: \u001B[1m{\u001B[0m\u001B[32m\"detail\"\u001B[0m:\u001B[1m[\u001B[0m\u001B[1m{\u001B[0m\u001B[32m\"loc\"\u001B[0m:\u001B[1m[\u001B[0m\u001B[32m\"body\"\u001B[0m,\u001B[32m\"source_id\"\u001B[0m\u001B[1m]\u001B[0m,\u001B[32m\"msg\"\u001B[0m:\u001B[32m\"Input should be a valid UUID, invalid \u001B[0m\n",
       "\u001B[32mcharacter: expected an optional prefix of `urn:uuid:` followed by \u001B[0m\u001B[32m[\u001B[0m\u001B[32m0-9a-fA-F-\u001B[0m\u001B[32m]\u001B[0m\u001B[32m, found `M` at \u001B[0m\n",
       "\u001B[32m1\"\u001B[0m,\u001B[32m\"type\"\u001B[0m:\u001B[32m\"uuid_parsing\"\u001B[0m\u001B[1m}\u001B[0m,\u001B[1m{\u001B[0m\u001B[32m\"loc\"\u001B[0m:\u001B[1m[\u001B[0m\u001B[32m\"body\"\u001B[0m,\u001B[32m\"destination_id\"\u001B[0m\u001B[1m]\u001B[0m,\u001B[32m\"msg\"\u001B[0m:\u001B[32m\"Input should be a valid UUID, invalid character: \u001B[0m\n",
       "\u001B[32mexpected an optional prefix of `urn:uuid:` followed by \u001B[0m\u001B[32m[\u001B[0m\u001B[32m0-9a-fA-F-\u001B[0m\u001B[32m]\u001B[0m\u001B[32m, found `M` at 1\"\u001B[0m,\u001B[32m\"type\"\u001B[0m:\u001B[32m\"uuid_parsing\"\u001B[0m\u001B[1m}\u001B[0m\u001B[1m]\u001B[0m\u001B[1m}\u001B[0m\n",
       "\n"
      ],
      "text/html": [
       "<pre style=\"white-space:pre;overflow-x:auto;line-height:normal;font-family:Menlo,'DejaVu Sans Mono',consolas,'Courier New',monospace\">\n",
       "<span style=\"color: #008080; text-decoration-color: #008080; font-weight: bold\">TOOL OUTPUT</span>:\n",
       "Error creating workflow: <span style=\"font-weight: bold\">{</span><span style=\"color: #008000; text-decoration-color: #008000\">\"detail\"</span>:<span style=\"font-weight: bold\">[{</span><span style=\"color: #008000; text-decoration-color: #008000\">\"loc\"</span>:<span style=\"font-weight: bold\">[</span><span style=\"color: #008000; text-decoration-color: #008000\">\"body\"</span>,<span style=\"color: #008000; text-decoration-color: #008000\">\"source_id\"</span><span style=\"font-weight: bold\">]</span>,<span style=\"color: #008000; text-decoration-color: #008000\">\"msg\"</span>:<span style=\"color: #008000; text-decoration-color: #008000\">\"Input should be a valid UUID, invalid </span>\n",
       "<span style=\"color: #008000; text-decoration-color: #008000\">character: expected an optional prefix of `urn:uuid:` followed by [0-9a-fA-F-], found `M` at </span>\n",
       "<span style=\"color: #008000; text-decoration-color: #008000\">1\"</span>,<span style=\"color: #008000; text-decoration-color: #008000\">\"type\"</span>:<span style=\"color: #008000; text-decoration-color: #008000\">\"uuid_parsing\"</span><span style=\"font-weight: bold\">}</span>,<span style=\"font-weight: bold\">{</span><span style=\"color: #008000; text-decoration-color: #008000\">\"loc\"</span>:<span style=\"font-weight: bold\">[</span><span style=\"color: #008000; text-decoration-color: #008000\">\"body\"</span>,<span style=\"color: #008000; text-decoration-color: #008000\">\"destination_id\"</span><span style=\"font-weight: bold\">]</span>,<span style=\"color: #008000; text-decoration-color: #008000\">\"msg\"</span>:<span style=\"color: #008000; text-decoration-color: #008000\">\"Input should be a valid UUID, invalid character: </span>\n",
       "<span style=\"color: #008000; text-decoration-color: #008000\">expected an optional prefix of `urn:uuid:` followed by [0-9a-fA-F-], found `M` at 1\"</span>,<span style=\"color: #008000; text-decoration-color: #008000\">\"type\"</span>:<span style=\"color: #008000; text-decoration-color: #008000\">\"uuid_parsing\"</span><span style=\"font-weight: bold\">}]}</span>\n",
       "\n",
       "</pre>\n"
      ]
     },
     "metadata": {},
     "output_type": "display_data"
    },
    {
     "data": {
      "text/plain": [
       "\n",
       "\u001B[1;31mASSISTANT\u001B[0m\n",
       "I apologize for the error. It seems we need the actual UUID values for the source and destination instead of their \n",
       "names. Let's first get the correct IDs for your source and destination.\n",
       "\n",
       "Let me check the existing sources and destinations:\n"
      ],
      "text/html": [
       "<pre style=\"white-space:pre;overflow-x:auto;line-height:normal;font-family:Menlo,'DejaVu Sans Mono',consolas,'Courier New',monospace\">\n",
       "<span style=\"color: #800000; text-decoration-color: #800000; font-weight: bold\">ASSISTANT</span>\n",
       "I apologize for the error. It seems we need the actual UUID values for the source and destination instead of their \n",
       "names. Let's first get the correct IDs for your source and destination.\n",
       "\n",
       "Let me check the existing sources and destinations:\n",
       "</pre>\n"
      ]
     },
     "metadata": {},
     "output_type": "display_data"
    },
    {
     "data": {
      "text/plain": [
       "\n",
       "\u001B[1;36mTOOL CALL\u001B[0m\n",
       "Accept execution of list_sources with args {}? \u001B[1;35m[y/n]\u001B[0m \u001B[1;36m(y)\u001B[0m: "
      ],
      "text/html": [
       "<pre style=\"white-space:pre;overflow-x:auto;line-height:normal;font-family:Menlo,'DejaVu Sans Mono',consolas,'Courier New',monospace\">\n",
       "<span style=\"color: #008080; text-decoration-color: #008080; font-weight: bold\">TOOL CALL</span>\n",
       "Accept execution of list_sources with args {}? <span style=\"color: #800080; text-decoration-color: #800080; font-weight: bold\">[y/n]</span> <span style=\"color: #008080; text-decoration-color: #008080; font-weight: bold\">(y)</span>: </pre>\n"
      ]
     },
     "metadata": {},
     "output_type": "display_data"
    },
    {
     "data": {
      "text/plain": [
       "\n",
       "\u001B[1;36mTOOL OUTPUT\u001B[0m:\n",
       "Available sources:\n",
       "- MyExampleSourceS3-\u001B[1;36m1\u001B[0m \u001B[1m(\u001B[0mID: \u001B[93m89945863-68fd-4665-a772-c50f8d6c8947\u001B[0m\u001B[1m)\u001B[0m\n",
       "\n"
      ],
      "text/html": [
       "<pre style=\"white-space:pre;overflow-x:auto;line-height:normal;font-family:Menlo,'DejaVu Sans Mono',consolas,'Courier New',monospace\">\n",
       "<span style=\"color: #008080; text-decoration-color: #008080; font-weight: bold\">TOOL OUTPUT</span>:\n",
       "Available sources:\n",
       "- MyExampleSourceS3-<span style=\"color: #008080; text-decoration-color: #008080; font-weight: bold\">1</span> <span style=\"font-weight: bold\">(</span>ID: <span style=\"color: #ffff00; text-decoration-color: #ffff00\">89945863-68fd-4665-a772-c50f8d6c8947</span><span style=\"font-weight: bold\">)</span>\n",
       "\n",
       "</pre>\n"
      ]
     },
     "metadata": {},
     "output_type": "display_data"
    },
    {
     "data": {
      "text/plain": [
       "\n",
       "\u001B[1;36mTOOL CALL\u001B[0m\n",
       "Accept execution of list_destinations with args {}? \u001B[1;35m[y/n]\u001B[0m \u001B[1;36m(y)\u001B[0m: "
      ],
      "text/html": [
       "<pre style=\"white-space:pre;overflow-x:auto;line-height:normal;font-family:Menlo,'DejaVu Sans Mono',consolas,'Courier New',monospace\">\n",
       "<span style=\"color: #008080; text-decoration-color: #008080; font-weight: bold\">TOOL CALL</span>\n",
       "Accept execution of list_destinations with args {}? <span style=\"color: #800080; text-decoration-color: #800080; font-weight: bold\">[y/n]</span> <span style=\"color: #008080; text-decoration-color: #008080; font-weight: bold\">(y)</span>: </pre>\n"
      ]
     },
     "metadata": {},
     "output_type": "display_data"
    },
    {
     "data": {
      "text/plain": [
       "\n",
       "\u001B[1;36mTOOL OUTPUT\u001B[0m:\n",
       "Available destinations:\n",
       "- MyExampleDestinationS3-\u001B[1;36m1\u001B[0m \u001B[1m(\u001B[0mID: \u001B[93m98f860bb-c7d3-4374-b0a7-b23d8a0d4254\u001B[0m\u001B[1m)\u001B[0m\n",
       "\n"
      ],
      "text/html": [
       "<pre style=\"white-space:pre;overflow-x:auto;line-height:normal;font-family:Menlo,'DejaVu Sans Mono',consolas,'Courier New',monospace\">\n",
       "<span style=\"color: #008080; text-decoration-color: #008080; font-weight: bold\">TOOL OUTPUT</span>:\n",
       "Available destinations:\n",
       "- MyExampleDestinationS3-<span style=\"color: #008080; text-decoration-color: #008080; font-weight: bold\">1</span> <span style=\"font-weight: bold\">(</span>ID: <span style=\"color: #ffff00; text-decoration-color: #ffff00\">98f860bb-c7d3-4374-b0a7-b23d8a0d4254</span><span style=\"font-weight: bold\">)</span>\n",
       "\n",
       "</pre>\n"
      ]
     },
     "metadata": {},
     "output_type": "display_data"
    },
    {
     "data": {
      "text/plain": [
       "\n",
       "\u001B[1;31mASSISTANT\u001B[0m\n",
       "Now I'll create the workflow with the correct UUIDs:\n"
      ],
      "text/html": [
       "<pre style=\"white-space:pre;overflow-x:auto;line-height:normal;font-family:Menlo,'DejaVu Sans Mono',consolas,'Courier New',monospace\">\n",
       "<span style=\"color: #800000; text-decoration-color: #800000; font-weight: bold\">ASSISTANT</span>\n",
       "Now I'll create the workflow with the correct UUIDs:\n",
       "</pre>\n"
      ]
     },
     "metadata": {},
     "output_type": "display_data"
    },
    {
     "data": {
      "text/plain": [
       "\n",
       "\u001B[1;36mTOOL CALL\u001B[0m\n",
       "Accept execution of create_workflow with args {'workflow_config': {'name': 'MycustomVLMandChunkingwithEmbedding', \n",
       "'source_id': '89945863-68fd-4665-a772-c50f8d6c8947', 'destination_id': '98f860bb-c7d3-4374-b0a7-b23d8a0d4254', \n",
       "'workflow_type': 'custom', 'workflow_nodes': [{'name': 'VLM_Partitioner', 'type': 'partition', 'subtype': 'vlm', \n",
       "'settings': {'provider': 'anthropic', 'model': 'claude-3-5-sonnet-20241022'}}, {'name': 'Title_Chunker', 'type': \n",
       "'chunk', 'subtype': 'chunk_by_title', 'settings': {'max_characters': 1050}}, {'name': 'Embedder', 'type': 'embed', \n",
       "'subtype': 'azure_openai', 'settings': {'model_name': 'text-embedding-3-small'}}]}}? \u001B[1;35m[y/n]\u001B[0m \u001B[1;36m(y)\u001B[0m: "
      ],
      "text/html": [
       "<pre style=\"white-space:pre;overflow-x:auto;line-height:normal;font-family:Menlo,'DejaVu Sans Mono',consolas,'Courier New',monospace\">\n",
       "<span style=\"color: #008080; text-decoration-color: #008080; font-weight: bold\">TOOL CALL</span>\n",
       "Accept execution of create_workflow with args {'workflow_config': {'name': 'MycustomVLMandChunkingwithEmbedding', \n",
       "'source_id': '89945863-68fd-4665-a772-c50f8d6c8947', 'destination_id': '98f860bb-c7d3-4374-b0a7-b23d8a0d4254', \n",
       "'workflow_type': 'custom', 'workflow_nodes': [{'name': 'VLM_Partitioner', 'type': 'partition', 'subtype': 'vlm', \n",
       "'settings': {'provider': 'anthropic', 'model': 'claude-3-5-sonnet-20241022'}}, {'name': 'Title_Chunker', 'type': \n",
       "'chunk', 'subtype': 'chunk_by_title', 'settings': {'max_characters': 1050}}, {'name': 'Embedder', 'type': 'embed', \n",
       "'subtype': 'azure_openai', 'settings': {'model_name': 'text-embedding-3-small'}}]}}? <span style=\"color: #800080; text-decoration-color: #800080; font-weight: bold\">[y/n]</span> <span style=\"color: #008080; text-decoration-color: #008080; font-weight: bold\">(y)</span>: </pre>\n"
      ]
     },
     "metadata": {},
     "output_type": "display_data"
    },
    {
     "data": {
      "text/plain": [
       "\n",
       "\u001B[1;36mTOOL OUTPUT\u001B[0m:\n",
       "Workflow Information:\n",
       "Name: MycustomVLMandChunkingwithEmbedding\n",
       "ID: \u001B[93mf730d128-44c4-4750-bc4a-1706190fc4b8\u001B[0m\n",
       "Status: WorkflowState.ACTIVE\n",
       "Type: WorkflowType.CUSTOM\n",
       "\n",
       "Sources:\n",
       "  - \u001B[93m89945863-68fd-4665-a772-c50f8d6c8947\u001B[0m\n",
       "\n",
       "Destinations:\n",
       "  - \u001B[93m98f860bb-c7d3-4374-b0a7-b23d8a0d4254\u001B[0m\n",
       "\n",
       "Schedule:\n",
       "\n"
      ],
      "text/html": [
       "<pre style=\"white-space:pre;overflow-x:auto;line-height:normal;font-family:Menlo,'DejaVu Sans Mono',consolas,'Courier New',monospace\">\n",
       "<span style=\"color: #008080; text-decoration-color: #008080; font-weight: bold\">TOOL OUTPUT</span>:\n",
       "Workflow Information:\n",
       "Name: MycustomVLMandChunkingwithEmbedding\n",
       "ID: <span style=\"color: #ffff00; text-decoration-color: #ffff00\">f730d128-44c4-4750-bc4a-1706190fc4b8</span>\n",
       "Status: WorkflowState.ACTIVE\n",
       "Type: WorkflowType.CUSTOM\n",
       "\n",
       "Sources:\n",
       "  - <span style=\"color: #ffff00; text-decoration-color: #ffff00\">89945863-68fd-4665-a772-c50f8d6c8947</span>\n",
       "\n",
       "Destinations:\n",
       "  - <span style=\"color: #ffff00; text-decoration-color: #ffff00\">98f860bb-c7d3-4374-b0a7-b23d8a0d4254</span>\n",
       "\n",
       "Schedule:\n",
       "\n",
       "</pre>\n"
      ]
     },
     "metadata": {},
     "output_type": "display_data"
    },
    {
     "data": {
      "text/plain": [
       "\n",
       "\u001B[1;31mASSISTANT\u001B[0m\n",
       "Great! I've successfully created your custom workflow with the following components:\n",
       "\u001B[1;36m1\u001B[0m. VLM Partitioner using Anthropic's Claude \u001B[1;36m3\u001B[0m Sonnet model\n",
       "\u001B[1;36m2\u001B[0m. Title-based chunker with a \u001B[1;36m1050\u001B[0m character limit\n",
       "\u001B[1;36m3\u001B[0m. Azure OpenAI embedder using the text-embedding-\u001B[1;36m3\u001B[0m-small model\n",
       "\n",
       "The workflow has been created and is now active. The workflow ID is \u001B[93mf730d128-44c4-4750-bc4a-1706190fc4b8\u001B[0m. You can \n",
       "use this ID to run, update, or delete the workflow in the future.\n",
       "\n",
       "Would you like to run this workflow now or is there anything else you'd like to know about it?\n"
      ],
      "text/html": [
       "<pre style=\"white-space:pre;overflow-x:auto;line-height:normal;font-family:Menlo,'DejaVu Sans Mono',consolas,'Courier New',monospace\">\n",
       "<span style=\"color: #800000; text-decoration-color: #800000; font-weight: bold\">ASSISTANT</span>\n",
       "Great! I've successfully created your custom workflow with the following components:\n",
       "<span style=\"color: #008080; text-decoration-color: #008080; font-weight: bold\">1</span>. VLM Partitioner using Anthropic's Claude <span style=\"color: #008080; text-decoration-color: #008080; font-weight: bold\">3</span> Sonnet model\n",
       "<span style=\"color: #008080; text-decoration-color: #008080; font-weight: bold\">2</span>. Title-based chunker with a <span style=\"color: #008080; text-decoration-color: #008080; font-weight: bold\">1050</span> character limit\n",
       "<span style=\"color: #008080; text-decoration-color: #008080; font-weight: bold\">3</span>. Azure OpenAI embedder using the text-embedding-<span style=\"color: #008080; text-decoration-color: #008080; font-weight: bold\">3</span>-small model\n",
       "\n",
       "The workflow has been created and is now active. The workflow ID is <span style=\"color: #ffff00; text-decoration-color: #ffff00\">f730d128-44c4-4750-bc4a-1706190fc4b8</span>. You can \n",
       "use this ID to run, update, or delete the workflow in the future.\n",
       "\n",
       "Would you like to run this workflow now or is there anything else you'd like to know about it?\n",
       "</pre>\n"
      ]
     },
     "metadata": {},
     "output_type": "display_data"
    },
    {
     "data": {
      "text/plain": [
       "\n",
       "\u001B[1;32mQuery\u001B[0m (q/quit to end chat): "
      ],
      "text/html": [
       "<pre style=\"white-space:pre;overflow-x:auto;line-height:normal;font-family:Menlo,'DejaVu Sans Mono',consolas,'Courier New',monospace\">\n",
       "<span style=\"color: #008000; text-decoration-color: #008000; font-weight: bold\">Query</span> (q/quit to end chat): </pre>\n"
      ]
     },
     "metadata": {},
     "output_type": "display_data"
    },
    {
     "data": {
      "text/plain": [
       "\n"
      ],
      "text/html": [
       "<pre style=\"white-space:pre;overflow-x:auto;line-height:normal;font-family:Menlo,'DejaVu Sans Mono',consolas,'Courier New',monospace\">\n",
       "</pre>\n"
      ]
     },
     "metadata": {},
     "output_type": "display_data"
    }
   ],
   "execution_count": 4
  },
  {
   "metadata": {},
   "cell_type": "code",
   "outputs": [],
   "execution_count": null,
   "source": [
    "query = \"\"\"\n",
    "Hello, I would like you to create custom workflow. Source and Destination should be 'MyExampleSourceS3-1' and 'MyExampleDestinationS3-1' respectively (they already exist). Workflow should be called 'Justhires'. I want hires strategy with include_page_breaks and extract_image_block_types set to Tables\n",
    "\"\"\""
   ],
   "id": "1b5a1713f9b3d251"
  },
  {
   "metadata": {
    "ExecuteTime": {
     "end_time": "2025-03-20T13:48:43.270924Z",
     "start_time": "2025-03-20T13:47:12.566205Z"
    }
   },
   "cell_type": "code",
   "source": [
    "client = MCPClient()\n",
    "try:\n",
    "    await client.connect_to_server('uns_mcp/run.py')\n",
    "    await client.chat_loop()\n",
    "finally:\n",
    "    await client.cleanup()"
   ],
   "id": "4308a8c18d4fd620",
   "outputs": [
    {
     "data": {
      "text/plain": [
       "\n",
       "\u001B[1;32mQuery\u001B[0m (q/quit to end chat): "
      ],
      "text/html": [
       "<pre style=\"white-space:pre;overflow-x:auto;line-height:normal;font-family:Menlo,'DejaVu Sans Mono',consolas,'Courier New',monospace\">\n",
       "<span style=\"color: #008000; text-decoration-color: #008000; font-weight: bold\">Query</span> (q/quit to end chat): </pre>\n"
      ]
     },
     "metadata": {},
     "output_type": "display_data"
    },
    {
     "data": {
      "text/plain": [
       "\n"
      ],
      "text/html": [
       "<pre style=\"white-space:pre;overflow-x:auto;line-height:normal;font-family:Menlo,'DejaVu Sans Mono',consolas,'Courier New',monospace\">\n",
       "</pre>\n"
      ]
     },
     "metadata": {},
     "output_type": "display_data"
    },
    {
     "data": {
      "text/plain": [
       "\n",
       "\u001B[1;31mASSISTANT\u001B[0m\n",
       "I'll help you create a custom workflow with the specified requirements. Let me create this workflow using the \n",
       "create_workflow function with a hires partitioner node.\n",
       "\n",
       "Based on your requirements:\n",
       "- Workflow name: \u001B[32m\"Justhires\"\u001B[0m\n",
       "- Workflow type: \u001B[32m\"custom\"\u001B[0m \u001B[1m(\u001B[0msince we're specifying custom node settings\u001B[1m)\u001B[0m\n",
       "- Source name: \u001B[32m\"MyExampleSourceS3-1\"\u001B[0m\n",
       "- Destination name: \u001B[32m\"MyExampleDestinationS3-1\"\u001B[0m\n",
       "- Partitioner with hires strategy and specific settings\n",
       "\n",
       "First, let me list sources and destinations to get their IDs:\n"
      ],
      "text/html": [
       "<pre style=\"white-space:pre;overflow-x:auto;line-height:normal;font-family:Menlo,'DejaVu Sans Mono',consolas,'Courier New',monospace\">\n",
       "<span style=\"color: #800000; text-decoration-color: #800000; font-weight: bold\">ASSISTANT</span>\n",
       "I'll help you create a custom workflow with the specified requirements. Let me create this workflow using the \n",
       "create_workflow function with a hires partitioner node.\n",
       "\n",
       "Based on your requirements:\n",
       "- Workflow name: <span style=\"color: #008000; text-decoration-color: #008000\">\"Justhires\"</span>\n",
       "- Workflow type: <span style=\"color: #008000; text-decoration-color: #008000\">\"custom\"</span> <span style=\"font-weight: bold\">(</span>since we're specifying custom node settings<span style=\"font-weight: bold\">)</span>\n",
       "- Source name: <span style=\"color: #008000; text-decoration-color: #008000\">\"MyExampleSourceS3-1\"</span>\n",
       "- Destination name: <span style=\"color: #008000; text-decoration-color: #008000\">\"MyExampleDestinationS3-1\"</span>\n",
       "- Partitioner with hires strategy and specific settings\n",
       "\n",
       "First, let me list sources and destinations to get their IDs:\n",
       "</pre>\n"
      ]
     },
     "metadata": {},
     "output_type": "display_data"
    },
    {
     "data": {
      "text/plain": [
       "\n",
       "\u001B[1;36mTOOL CALL\u001B[0m\n",
       "Accept execution of list_sources with args {}? \u001B[1;35m[y/n]\u001B[0m \u001B[1;36m(y)\u001B[0m: "
      ],
      "text/html": [
       "<pre style=\"white-space:pre;overflow-x:auto;line-height:normal;font-family:Menlo,'DejaVu Sans Mono',consolas,'Courier New',monospace\">\n",
       "<span style=\"color: #008080; text-decoration-color: #008080; font-weight: bold\">TOOL CALL</span>\n",
       "Accept execution of list_sources with args {}? <span style=\"color: #800080; text-decoration-color: #800080; font-weight: bold\">[y/n]</span> <span style=\"color: #008080; text-decoration-color: #008080; font-weight: bold\">(y)</span>: </pre>\n"
      ]
     },
     "metadata": {},
     "output_type": "display_data"
    },
    {
     "data": {
      "text/plain": [
       "\n",
       "\u001B[1;36mTOOL OUTPUT\u001B[0m:\n",
       "Available sources:\n",
       "- MyExampleSourceS3-\u001B[1;36m1\u001B[0m \u001B[1m(\u001B[0mID: \u001B[93m89945863-68fd-4665-a772-c50f8d6c8947\u001B[0m\u001B[1m)\u001B[0m\n",
       "\n"
      ],
      "text/html": [
       "<pre style=\"white-space:pre;overflow-x:auto;line-height:normal;font-family:Menlo,'DejaVu Sans Mono',consolas,'Courier New',monospace\">\n",
       "<span style=\"color: #008080; text-decoration-color: #008080; font-weight: bold\">TOOL OUTPUT</span>:\n",
       "Available sources:\n",
       "- MyExampleSourceS3-<span style=\"color: #008080; text-decoration-color: #008080; font-weight: bold\">1</span> <span style=\"font-weight: bold\">(</span>ID: <span style=\"color: #ffff00; text-decoration-color: #ffff00\">89945863-68fd-4665-a772-c50f8d6c8947</span><span style=\"font-weight: bold\">)</span>\n",
       "\n",
       "</pre>\n"
      ]
     },
     "metadata": {},
     "output_type": "display_data"
    },
    {
     "data": {
      "text/plain": [
       "\n",
       "\u001B[1;36mTOOL CALL\u001B[0m\n",
       "Accept execution of list_destinations with args {}? \u001B[1;35m[y/n]\u001B[0m \u001B[1;36m(y)\u001B[0m: "
      ],
      "text/html": [
       "<pre style=\"white-space:pre;overflow-x:auto;line-height:normal;font-family:Menlo,'DejaVu Sans Mono',consolas,'Courier New',monospace\">\n",
       "<span style=\"color: #008080; text-decoration-color: #008080; font-weight: bold\">TOOL CALL</span>\n",
       "Accept execution of list_destinations with args {}? <span style=\"color: #800080; text-decoration-color: #800080; font-weight: bold\">[y/n]</span> <span style=\"color: #008080; text-decoration-color: #008080; font-weight: bold\">(y)</span>: </pre>\n"
      ]
     },
     "metadata": {},
     "output_type": "display_data"
    },
    {
     "data": {
      "text/plain": [
       "\n",
       "\u001B[1;36mTOOL OUTPUT\u001B[0m:\n",
       "Available destinations:\n",
       "- MyExampleDestinationS3-\u001B[1;36m1\u001B[0m \u001B[1m(\u001B[0mID: \u001B[93m98f860bb-c7d3-4374-b0a7-b23d8a0d4254\u001B[0m\u001B[1m)\u001B[0m\n",
       "\n"
      ],
      "text/html": [
       "<pre style=\"white-space:pre;overflow-x:auto;line-height:normal;font-family:Menlo,'DejaVu Sans Mono',consolas,'Courier New',monospace\">\n",
       "<span style=\"color: #008080; text-decoration-color: #008080; font-weight: bold\">TOOL OUTPUT</span>:\n",
       "Available destinations:\n",
       "- MyExampleDestinationS3-<span style=\"color: #008080; text-decoration-color: #008080; font-weight: bold\">1</span> <span style=\"font-weight: bold\">(</span>ID: <span style=\"color: #ffff00; text-decoration-color: #ffff00\">98f860bb-c7d3-4374-b0a7-b23d8a0d4254</span><span style=\"font-weight: bold\">)</span>\n",
       "\n",
       "</pre>\n"
      ]
     },
     "metadata": {},
     "output_type": "display_data"
    },
    {
     "data": {
      "text/plain": [
       "\n",
       "\u001B[1;31mASSISTANT\u001B[0m\n",
       "Now I'll create the workflow with your specified configuration:\n"
      ],
      "text/html": [
       "<pre style=\"white-space:pre;overflow-x:auto;line-height:normal;font-family:Menlo,'DejaVu Sans Mono',consolas,'Courier New',monospace\">\n",
       "<span style=\"color: #800000; text-decoration-color: #800000; font-weight: bold\">ASSISTANT</span>\n",
       "Now I'll create the workflow with your specified configuration:\n",
       "</pre>\n"
      ]
     },
     "metadata": {},
     "output_type": "display_data"
    },
    {
     "data": {
      "text/plain": [
       "\n",
       "\u001B[1;36mTOOL CALL\u001B[0m\n",
       "Accept execution of create_workflow with args {'workflow_config': {'name': 'Justhires', 'workflow_type': 'custom', \n",
       "'source_id': '89945863-68fd-4665-a772-c50f8d6c8947', 'destination_id': '98f860bb-c7d3-4374-b0a7-b23d8a0d4254', \n",
       "'workflow_nodes': [{'name': 'Partitioner', 'type': 'partition', 'subtype': 'unstructured_api', 'settings': \n",
       "{'strategy': 'hi_res', 'include_page_breaks': True, 'extract_image_block_types': ['table']}}]}}? \u001B[1;35m[y/n]\u001B[0m \u001B[1;36m(y)\u001B[0m: "
      ],
      "text/html": [
       "<pre style=\"white-space:pre;overflow-x:auto;line-height:normal;font-family:Menlo,'DejaVu Sans Mono',consolas,'Courier New',monospace\">\n",
       "<span style=\"color: #008080; text-decoration-color: #008080; font-weight: bold\">TOOL CALL</span>\n",
       "Accept execution of create_workflow with args {'workflow_config': {'name': 'Justhires', 'workflow_type': 'custom', \n",
       "'source_id': '89945863-68fd-4665-a772-c50f8d6c8947', 'destination_id': '98f860bb-c7d3-4374-b0a7-b23d8a0d4254', \n",
       "'workflow_nodes': [{'name': 'Partitioner', 'type': 'partition', 'subtype': 'unstructured_api', 'settings': \n",
       "{'strategy': 'hi_res', 'include_page_breaks': True, 'extract_image_block_types': ['table']}}]}}? <span style=\"color: #800080; text-decoration-color: #800080; font-weight: bold\">[y/n]</span> <span style=\"color: #008080; text-decoration-color: #008080; font-weight: bold\">(y)</span>: </pre>\n"
      ]
     },
     "metadata": {},
     "output_type": "display_data"
    },
    {
     "data": {
      "text/plain": [
       "\n",
       "\u001B[1;36mTOOL OUTPUT\u001B[0m:\n",
       "Workflow Information:\n",
       "Name: Justhires\n",
       "ID: \u001B[93mdb1387c4-db7d-449f-9400-ee081c57ec4b\u001B[0m\n",
       "Status: WorkflowState.ACTIVE\n",
       "Type: WorkflowType.CUSTOM\n",
       "\n",
       "Sources:\n",
       "  - \u001B[93m89945863-68fd-4665-a772-c50f8d6c8947\u001B[0m\n",
       "\n",
       "Destinations:\n",
       "  - \u001B[93m98f860bb-c7d3-4374-b0a7-b23d8a0d4254\u001B[0m\n",
       "\n",
       "Schedule:\n",
       "\n"
      ],
      "text/html": [
       "<pre style=\"white-space:pre;overflow-x:auto;line-height:normal;font-family:Menlo,'DejaVu Sans Mono',consolas,'Courier New',monospace\">\n",
       "<span style=\"color: #008080; text-decoration-color: #008080; font-weight: bold\">TOOL OUTPUT</span>:\n",
       "Workflow Information:\n",
       "Name: Justhires\n",
       "ID: <span style=\"color: #ffff00; text-decoration-color: #ffff00\">db1387c4-db7d-449f-9400-ee081c57ec4b</span>\n",
       "Status: WorkflowState.ACTIVE\n",
       "Type: WorkflowType.CUSTOM\n",
       "\n",
       "Sources:\n",
       "  - <span style=\"color: #ffff00; text-decoration-color: #ffff00\">89945863-68fd-4665-a772-c50f8d6c8947</span>\n",
       "\n",
       "Destinations:\n",
       "  - <span style=\"color: #ffff00; text-decoration-color: #ffff00\">98f860bb-c7d3-4374-b0a7-b23d8a0d4254</span>\n",
       "\n",
       "Schedule:\n",
       "\n",
       "</pre>\n"
      ]
     },
     "metadata": {},
     "output_type": "display_data"
    },
    {
     "data": {
      "text/plain": [
       "\n",
       "\u001B[1;31mASSISTANT\u001B[0m\n",
       "I've created the workflow with your specifications:\n",
       "\u001B[1;36m1\u001B[0m. Used the custom workflow type\n",
       "\u001B[1;36m2\u001B[0m. Connected it to your specified source and destination\n",
       "\u001B[1;36m3\u001B[0m. Added a partitioner node with:\n",
       "   - hires strategy\n",
       "   - include_page_breaks set to true\n",
       "   - extract_image_block_types set to include tables only\n",
       "\n",
       "The workflow has been created successfully with ID \u001B[93mdb1387c4-db7d-449f-9400-ee081c57ec4b\u001B[0m. Would you like to run this\n",
       "workflow now or make any adjustments to its configuration?\n"
      ],
      "text/html": [
       "<pre style=\"white-space:pre;overflow-x:auto;line-height:normal;font-family:Menlo,'DejaVu Sans Mono',consolas,'Courier New',monospace\">\n",
       "<span style=\"color: #800000; text-decoration-color: #800000; font-weight: bold\">ASSISTANT</span>\n",
       "I've created the workflow with your specifications:\n",
       "<span style=\"color: #008080; text-decoration-color: #008080; font-weight: bold\">1</span>. Used the custom workflow type\n",
       "<span style=\"color: #008080; text-decoration-color: #008080; font-weight: bold\">2</span>. Connected it to your specified source and destination\n",
       "<span style=\"color: #008080; text-decoration-color: #008080; font-weight: bold\">3</span>. Added a partitioner node with:\n",
       "   - hires strategy\n",
       "   - include_page_breaks set to true\n",
       "   - extract_image_block_types set to include tables only\n",
       "\n",
       "The workflow has been created successfully with ID <span style=\"color: #ffff00; text-decoration-color: #ffff00\">db1387c4-db7d-449f-9400-ee081c57ec4b</span>. Would you like to run this\n",
       "workflow now or make any adjustments to its configuration?\n",
       "</pre>\n"
      ]
     },
     "metadata": {},
     "output_type": "display_data"
    },
    {
     "data": {
      "text/plain": [
       "\n",
       "\u001B[1;32mQuery\u001B[0m (q/quit to end chat): "
      ],
      "text/html": [
       "<pre style=\"white-space:pre;overflow-x:auto;line-height:normal;font-family:Menlo,'DejaVu Sans Mono',consolas,'Courier New',monospace\">\n",
       "<span style=\"color: #008000; text-decoration-color: #008000; font-weight: bold\">Query</span> (q/quit to end chat): </pre>\n"
      ]
     },
     "metadata": {},
     "output_type": "display_data"
    },
    {
     "data": {
      "text/plain": [
       "\n"
      ],
      "text/html": [
       "<pre style=\"white-space:pre;overflow-x:auto;line-height:normal;font-family:Menlo,'DejaVu Sans Mono',consolas,'Courier New',monospace\">\n",
       "</pre>\n"
      ]
     },
     "metadata": {},
     "output_type": "display_data"
    }
   ],
   "execution_count": 5
  },
  {
   "metadata": {},
   "cell_type": "code",
   "outputs": [],
   "execution_count": null,
   "source": "",
   "id": "830cb6efec14b0f1"
  }
 ],
 "metadata": {
  "kernelspec": {
   "display_name": "Python 3 (ipykernel)",
   "language": "python",
   "name": "python3"
  },
  "language_info": {
   "codemirror_mode": {
    "name": "ipython",
    "version": 3
   },
   "file_extension": ".py",
   "mimetype": "text/x-python",
   "name": "python",
   "nbconvert_exporter": "python",
   "pygments_lexer": "ipython3",
   "version": "3.12.3"
  }
 },
 "nbformat": 4,
 "nbformat_minor": 5
}
