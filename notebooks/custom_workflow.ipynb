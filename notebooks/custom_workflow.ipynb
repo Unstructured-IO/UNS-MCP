{
 "cells": [
  {
   "cell_type": "code",
   "id": "dd74d3ac5677b80a",
   "metadata": {
    "ExecuteTime": {
     "end_time": "2025-03-20T14:43:34.277147Z",
     "start_time": "2025-03-20T14:43:34.274923Z"
    }
   },
   "source": [
    "from pathlib import Path\n",
    "import os\n",
    "\n",
    "# Set working directory at top level or repository\n",
    "os.chdir(Path.cwd().parent)"
   ],
   "outputs": [],
   "execution_count": 1
  },
  {
   "cell_type": "code",
   "id": "775df9f8644b052b",
   "metadata": {
    "ExecuteTime": {
     "end_time": "2025-03-20T14:43:34.572773Z",
     "start_time": "2025-03-20T14:43:34.280147Z"
    }
   },
   "source": "from minimal_client.run import MCPClient",
   "outputs": [],
   "execution_count": 2
  },
  {
   "metadata": {
    "ExecuteTime": {
     "end_time": "2025-03-20T14:43:37.684612Z",
     "start_time": "2025-03-20T14:43:37.681648Z"
    }
   },
   "cell_type": "code",
   "source": [
    "query = \"\"\"\n",
    "Hello, I would like you to create: a new S3 source connector and S3 destination connector. Call them 'MyExampleSourceS3-1' and 'MyExampleDestinationS3-1' respectively. S3 uri is 's3://crag-protected-but-non-sensitive/pluto/example_input/' and 's3://crag-protected-but-non-sensitive/pluto/example_output/'. Workflow should be called 'MycustomVLMandChunkingwithEmbedding'. I want VLM strategy with antrhopic model, chunk by title chunking with 1050 characters split size and embedding with azure_openai model.\n",
    "\"\"\""
   ],
   "id": "initial_id",
   "outputs": [],
   "execution_count": 3
  },
  {
   "cell_type": "code",
   "id": "d529fb28-cb57-49bd-86e0-93bcd8da8318",
   "metadata": {
    "ExecuteTime": {
     "end_time": "2025-03-20T14:44:39.627554Z",
     "start_time": "2025-03-20T14:43:44.609142Z"
    }
   },
   "source": [
    "client = MCPClient()\n",
    "try:\n",
    "    await client.connect_to_server('uns_mcp/run.py')\n",
    "    await client.chat_loop()\n",
    "finally:\n",
    "    await client.cleanup()"
   ],
   "outputs": [
    {
     "data": {
      "text/plain": [
       "\n",
       "\u001B[1;32mQuery\u001B[0m (q/quit to end chat): "
      ],
      "text/html": [
       "<pre style=\"white-space:pre;overflow-x:auto;line-height:normal;font-family:Menlo,'DejaVu Sans Mono',consolas,'Courier New',monospace\">\n",
       "<span style=\"color: #008000; text-decoration-color: #008000; font-weight: bold\">Query</span> (q/quit to end chat): </pre>\n"
      ]
     },
     "metadata": {},
     "output_type": "display_data"
    },
    {
     "data": {
      "text/plain": [
       "\n"
      ],
      "text/html": [
       "<pre style=\"white-space:pre;overflow-x:auto;line-height:normal;font-family:Menlo,'DejaVu Sans Mono',consolas,'Courier New',monospace\">\n",
       "</pre>\n"
      ]
     },
     "metadata": {},
     "output_type": "display_data"
    },
    {
     "data": {
      "text/plain": [
       "\n",
       "\u001B[1;31mASSISTANT\u001B[0m\n",
       "I'll help you create this setup. Let's break this down into steps:\n",
       "\n",
       "\u001B[1;36m1\u001B[0m. First, let's create the S3 source connector:\n"
      ],
      "text/html": [
       "<pre style=\"white-space:pre;overflow-x:auto;line-height:normal;font-family:Menlo,'DejaVu Sans Mono',consolas,'Courier New',monospace\">\n",
       "<span style=\"color: #800000; text-decoration-color: #800000; font-weight: bold\">ASSISTANT</span>\n",
       "I'll help you create this setup. Let's break this down into steps:\n",
       "\n",
       "<span style=\"color: #008080; text-decoration-color: #008080; font-weight: bold\">1</span>. First, let's create the S3 source connector:\n",
       "</pre>\n"
      ]
     },
     "metadata": {},
     "output_type": "display_data"
    },
    {
     "data": {
      "text/plain": [
       "\n",
       "\u001B[1;36mTOOL CALL\u001B[0m\n",
       "Accept execution of create_s3_source with args {'name': 'MyExampleSourceS3-1', 'remote_url': \n",
       "'s3://crag-protected-but-non-sensitive/pluto/example_input/'}? \u001B[1;35m[y/n]\u001B[0m \u001B[1;36m(y)\u001B[0m: "
      ],
      "text/html": [
       "<pre style=\"white-space:pre;overflow-x:auto;line-height:normal;font-family:Menlo,'DejaVu Sans Mono',consolas,'Courier New',monospace\">\n",
       "<span style=\"color: #008080; text-decoration-color: #008080; font-weight: bold\">TOOL CALL</span>\n",
       "Accept execution of create_s3_source with args {'name': 'MyExampleSourceS3-1', 'remote_url': \n",
       "'s3://crag-protected-but-non-sensitive/pluto/example_input/'}? <span style=\"color: #800080; text-decoration-color: #800080; font-weight: bold\">[y/n]</span> <span style=\"color: #008080; text-decoration-color: #008080; font-weight: bold\">(y)</span>: </pre>\n"
      ]
     },
     "metadata": {},
     "output_type": "display_data"
    },
    {
     "data": {
      "text/plain": [
       "\n",
       "\u001B[1;36mTOOL OUTPUT\u001B[0m:\n",
       "S3 Source Connector Created:\n",
       "Name: MyExampleSourceS3-\u001B[1;36m1\u001B[0m\n",
       "ID: \u001B[93m8652ab2e-90fb-49c0-8a35-f5c0f887d031\u001B[0m\n",
       "\n"
      ],
      "text/html": [
       "<pre style=\"white-space:pre;overflow-x:auto;line-height:normal;font-family:Menlo,'DejaVu Sans Mono',consolas,'Courier New',monospace\">\n",
       "<span style=\"color: #008080; text-decoration-color: #008080; font-weight: bold\">TOOL OUTPUT</span>:\n",
       "S3 Source Connector Created:\n",
       "Name: MyExampleSourceS3-<span style=\"color: #008080; text-decoration-color: #008080; font-weight: bold\">1</span>\n",
       "ID: <span style=\"color: #ffff00; text-decoration-color: #ffff00\">8652ab2e-90fb-49c0-8a35-f5c0f887d031</span>\n",
       "\n",
       "</pre>\n"
      ]
     },
     "metadata": {},
     "output_type": "display_data"
    },
    {
     "data": {
      "text/plain": [
       "\n",
       "\u001B[1;31mASSISTANT\u001B[0m\n",
       "\u001B[1;36m2\u001B[0m. Now, let's create the S3 destination connector:\n"
      ],
      "text/html": [
       "<pre style=\"white-space:pre;overflow-x:auto;line-height:normal;font-family:Menlo,'DejaVu Sans Mono',consolas,'Courier New',monospace\">\n",
       "<span style=\"color: #800000; text-decoration-color: #800000; font-weight: bold\">ASSISTANT</span>\n",
       "<span style=\"color: #008080; text-decoration-color: #008080; font-weight: bold\">2</span>. Now, let's create the S3 destination connector:\n",
       "</pre>\n"
      ]
     },
     "metadata": {},
     "output_type": "display_data"
    },
    {
     "data": {
      "text/plain": [
       "\n",
       "\u001B[1;36mTOOL CALL\u001B[0m\n",
       "Accept execution of create_s3_destination with args {'name': 'MyExampleDestinationS3-1', 'remote_url': \n",
       "'s3://crag-protected-but-non-sensitive/pluto/example_output/'}? \u001B[1;35m[y/n]\u001B[0m \u001B[1;36m(y)\u001B[0m: "
      ],
      "text/html": [
       "<pre style=\"white-space:pre;overflow-x:auto;line-height:normal;font-family:Menlo,'DejaVu Sans Mono',consolas,'Courier New',monospace\">\n",
       "<span style=\"color: #008080; text-decoration-color: #008080; font-weight: bold\">TOOL CALL</span>\n",
       "Accept execution of create_s3_destination with args {'name': 'MyExampleDestinationS3-1', 'remote_url': \n",
       "'s3://crag-protected-but-non-sensitive/pluto/example_output/'}? <span style=\"color: #800080; text-decoration-color: #800080; font-weight: bold\">[y/n]</span> <span style=\"color: #008080; text-decoration-color: #008080; font-weight: bold\">(y)</span>: </pre>\n"
      ]
     },
     "metadata": {},
     "output_type": "display_data"
    },
    {
     "data": {
      "text/plain": [
       "\n",
       "\u001B[1;36mTOOL OUTPUT\u001B[0m:\n",
       "S3 Destination Connector Created:\n",
       "Name: MyExampleDestinationS3-\u001B[1;36m1\u001B[0m\n",
       "ID: \u001B[93m45fbca76-c916-4adf-a059-886445c324d6\u001B[0m\n",
       "\n"
      ],
      "text/html": [
       "<pre style=\"white-space:pre;overflow-x:auto;line-height:normal;font-family:Menlo,'DejaVu Sans Mono',consolas,'Courier New',monospace\">\n",
       "<span style=\"color: #008080; text-decoration-color: #008080; font-weight: bold\">TOOL OUTPUT</span>:\n",
       "S3 Destination Connector Created:\n",
       "Name: MyExampleDestinationS3-<span style=\"color: #008080; text-decoration-color: #008080; font-weight: bold\">1</span>\n",
       "ID: <span style=\"color: #ffff00; text-decoration-color: #ffff00\">45fbca76-c916-4adf-a059-886445c324d6</span>\n",
       "\n",
       "</pre>\n"
      ]
     },
     "metadata": {},
     "output_type": "display_data"
    },
    {
     "data": {
      "text/plain": [
       "\n",
       "\u001B[1;31mASSISTANT\u001B[0m\n",
       "\u001B[1;36m3\u001B[0m. Now, let's create the workflow with the specified configuration:\n"
      ],
      "text/html": [
       "<pre style=\"white-space:pre;overflow-x:auto;line-height:normal;font-family:Menlo,'DejaVu Sans Mono',consolas,'Courier New',monospace\">\n",
       "<span style=\"color: #800000; text-decoration-color: #800000; font-weight: bold\">ASSISTANT</span>\n",
       "<span style=\"color: #008080; text-decoration-color: #008080; font-weight: bold\">3</span>. Now, let's create the workflow with the specified configuration:\n",
       "</pre>\n"
      ]
     },
     "metadata": {},
     "output_type": "display_data"
    },
    {
     "data": {
      "text/plain": [
       "\n",
       "\u001B[1;36mTOOL CALL\u001B[0m\n",
       "Accept execution of create_workflow with args {'workflow_config': {'name': 'MycustomVLMandChunkingwithEmbedding', \n",
       "'workflow_type': 'custom', 'source_id': '8652ab2e-90fb-49c0-8a35-f5c0f887d031', 'destination_id': \n",
       "'45fbca76-c916-4adf-a059-886445c324d6', 'workflow_nodes': [{'name': 'VLM-Partitioner', 'type': 'partition', \n",
       "'subtype': 'vlm', 'settings': {'provider': 'anthropic', 'model': 'claude-3-5-sonnet-20241022'}}, {'name': \n",
       "'Title-Chunker', 'type': 'chunk', 'subtype': 'chunk_by_title', 'settings': {'max_characters': 1050, \n",
       "'new_after_n_chars': 1050, 'overlap': 0}}, {'name': 'Embedder', 'type': 'embed', 'subtype': 'azure_openai', \n",
       "'settings': {'model_name': 'text-embedding-3-small'}}]}}? \u001B[1;35m[y/n]\u001B[0m \u001B[1;36m(y)\u001B[0m: "
      ],
      "text/html": [
       "<pre style=\"white-space:pre;overflow-x:auto;line-height:normal;font-family:Menlo,'DejaVu Sans Mono',consolas,'Courier New',monospace\">\n",
       "<span style=\"color: #008080; text-decoration-color: #008080; font-weight: bold\">TOOL CALL</span>\n",
       "Accept execution of create_workflow with args {'workflow_config': {'name': 'MycustomVLMandChunkingwithEmbedding', \n",
       "'workflow_type': 'custom', 'source_id': '8652ab2e-90fb-49c0-8a35-f5c0f887d031', 'destination_id': \n",
       "'45fbca76-c916-4adf-a059-886445c324d6', 'workflow_nodes': [{'name': 'VLM-Partitioner', 'type': 'partition', \n",
       "'subtype': 'vlm', 'settings': {'provider': 'anthropic', 'model': 'claude-3-5-sonnet-20241022'}}, {'name': \n",
       "'Title-Chunker', 'type': 'chunk', 'subtype': 'chunk_by_title', 'settings': {'max_characters': 1050, \n",
       "'new_after_n_chars': 1050, 'overlap': 0}}, {'name': 'Embedder', 'type': 'embed', 'subtype': 'azure_openai', \n",
       "'settings': {'model_name': 'text-embedding-3-small'}}]}}? <span style=\"color: #800080; text-decoration-color: #800080; font-weight: bold\">[y/n]</span> <span style=\"color: #008080; text-decoration-color: #008080; font-weight: bold\">(y)</span>: </pre>\n"
      ]
     },
     "metadata": {},
     "output_type": "display_data"
    },
    {
     "data": {
      "text/plain": [
       "\n",
       "\u001B[1;36mTOOL OUTPUT\u001B[0m:\n",
       "Workflow Information:\n",
       "Name: MycustomVLMandChunkingwithEmbedding\n",
       "ID: \u001B[93m10d9f09d-d69b-4c5e-8a8e-0f3d85739213\u001B[0m\n",
       "Status: WorkflowState.ACTIVE\n",
       "Type: WorkflowType.CUSTOM\n",
       "\n",
       "Sources:\n",
       "  - \u001B[93m8652ab2e-90fb-49c0-8a35-f5c0f887d031\u001B[0m\n",
       "\n",
       "Destinations:\n",
       "  - \u001B[93m45fbca76-c916-4adf-a059-886445c324d6\u001B[0m\n",
       "\n",
       "Schedule:\n",
       "\n"
      ],
      "text/html": [
       "<pre style=\"white-space:pre;overflow-x:auto;line-height:normal;font-family:Menlo,'DejaVu Sans Mono',consolas,'Courier New',monospace\">\n",
       "<span style=\"color: #008080; text-decoration-color: #008080; font-weight: bold\">TOOL OUTPUT</span>:\n",
       "Workflow Information:\n",
       "Name: MycustomVLMandChunkingwithEmbedding\n",
       "ID: <span style=\"color: #ffff00; text-decoration-color: #ffff00\">10d9f09d-d69b-4c5e-8a8e-0f3d85739213</span>\n",
       "Status: WorkflowState.ACTIVE\n",
       "Type: WorkflowType.CUSTOM\n",
       "\n",
       "Sources:\n",
       "  - <span style=\"color: #ffff00; text-decoration-color: #ffff00\">8652ab2e-90fb-49c0-8a35-f5c0f887d031</span>\n",
       "\n",
       "Destinations:\n",
       "  - <span style=\"color: #ffff00; text-decoration-color: #ffff00\">45fbca76-c916-4adf-a059-886445c324d6</span>\n",
       "\n",
       "Schedule:\n",
       "\n",
       "</pre>\n"
      ]
     },
     "metadata": {},
     "output_type": "display_data"
    },
    {
     "data": {
      "text/plain": [
       "\n",
       "\u001B[1;31mASSISTANT\u001B[0m\n",
       "I've created all the components as requested:\n",
       "\u001B[1;36m1\u001B[0m. An S3 source connector named \u001B[32m\"MyExampleSourceS3-1\"\u001B[0m pointing to your input location\n",
       "\u001B[1;36m2\u001B[0m. An S3 destination connector named \u001B[32m\"MyExampleDestinationS3-1\"\u001B[0m pointing to your output location\n",
       "\u001B[1;36m3\u001B[0m. A custom workflow named \u001B[32m\"MycustomVLMandChunkingwithEmbedding\"\u001B[0m with:\n",
       "   - VLM partitioning using Anthropic's Claude model\n",
       "   - Chunk by title strategy with \u001B[1;36m1050\u001B[0m character splits\n",
       "   - Azure OpenAI embeddings using the text-embedding-\u001B[1;36m3\u001B[0m-small model\n",
       "\n",
       "The workflow has been created and is in an active state. Would you like to run this workflow now or would you like \n",
       "to make any adjustments to the configuration?\n"
      ],
      "text/html": [
       "<pre style=\"white-space:pre;overflow-x:auto;line-height:normal;font-family:Menlo,'DejaVu Sans Mono',consolas,'Courier New',monospace\">\n",
       "<span style=\"color: #800000; text-decoration-color: #800000; font-weight: bold\">ASSISTANT</span>\n",
       "I've created all the components as requested:\n",
       "<span style=\"color: #008080; text-decoration-color: #008080; font-weight: bold\">1</span>. An S3 source connector named <span style=\"color: #008000; text-decoration-color: #008000\">\"MyExampleSourceS3-1\"</span> pointing to your input location\n",
       "<span style=\"color: #008080; text-decoration-color: #008080; font-weight: bold\">2</span>. An S3 destination connector named <span style=\"color: #008000; text-decoration-color: #008000\">\"MyExampleDestinationS3-1\"</span> pointing to your output location\n",
       "<span style=\"color: #008080; text-decoration-color: #008080; font-weight: bold\">3</span>. A custom workflow named <span style=\"color: #008000; text-decoration-color: #008000\">\"MycustomVLMandChunkingwithEmbedding\"</span> with:\n",
       "   - VLM partitioning using Anthropic's Claude model\n",
       "   - Chunk by title strategy with <span style=\"color: #008080; text-decoration-color: #008080; font-weight: bold\">1050</span> character splits\n",
       "   - Azure OpenAI embeddings using the text-embedding-<span style=\"color: #008080; text-decoration-color: #008080; font-weight: bold\">3</span>-small model\n",
       "\n",
       "The workflow has been created and is in an active state. Would you like to run this workflow now or would you like \n",
       "to make any adjustments to the configuration?\n",
       "</pre>\n"
      ]
     },
     "metadata": {},
     "output_type": "display_data"
    },
    {
     "data": {
      "text/plain": [
       "\n",
       "\u001B[1;32mQuery\u001B[0m (q/quit to end chat): "
      ],
      "text/html": [
       "<pre style=\"white-space:pre;overflow-x:auto;line-height:normal;font-family:Menlo,'DejaVu Sans Mono',consolas,'Courier New',monospace\">\n",
       "<span style=\"color: #008000; text-decoration-color: #008000; font-weight: bold\">Query</span> (q/quit to end chat): </pre>\n"
      ]
     },
     "metadata": {},
     "output_type": "display_data"
    },
    {
     "data": {
      "text/plain": [
       "\n"
      ],
      "text/html": [
       "<pre style=\"white-space:pre;overflow-x:auto;line-height:normal;font-family:Menlo,'DejaVu Sans Mono',consolas,'Courier New',monospace\">\n",
       "</pre>\n"
      ]
     },
     "metadata": {},
     "output_type": "display_data"
    }
   ],
   "execution_count": 4
  },
  {
   "metadata": {
    "ExecuteTime": {
     "end_time": "2025-03-20T14:45:01.582300Z",
     "start_time": "2025-03-20T14:45:01.579611Z"
    }
   },
   "cell_type": "code",
   "source": [
    "query = \"\"\"\n",
    "Hello, I would like you to create custom workflow. Source and Destination should be 'MyExampleSourceS3-1' and 'MyExampleDestinationS3-1' respectively (they already exist). Workflow should be called 'Justhires'. I want hires strategy with include_page_breaks and extract_image_block_types set to Tables\n",
    "\"\"\""
   ],
   "id": "1b5a1713f9b3d251",
   "outputs": [],
   "execution_count": 5
  },
  {
   "metadata": {
    "ExecuteTime": {
     "end_time": "2025-03-20T14:46:19.564869Z",
     "start_time": "2025-03-20T14:45:01.902367Z"
    }
   },
   "cell_type": "code",
   "source": [
    "client = MCPClient()\n",
    "try:\n",
    "    await client.connect_to_server('uns_mcp/run.py')\n",
    "    await client.chat_loop()\n",
    "finally:\n",
    "    await client.cleanup()"
   ],
   "id": "4308a8c18d4fd620",
   "outputs": [
    {
     "data": {
      "text/plain": [
       "\n",
       "\u001B[1;32mQuery\u001B[0m (q/quit to end chat): "
      ],
      "text/html": [
       "<pre style=\"white-space:pre;overflow-x:auto;line-height:normal;font-family:Menlo,'DejaVu Sans Mono',consolas,'Courier New',monospace\">\n",
       "<span style=\"color: #008000; text-decoration-color: #008000; font-weight: bold\">Query</span> (q/quit to end chat): </pre>\n"
      ]
     },
     "metadata": {},
     "output_type": "display_data"
    },
    {
     "data": {
      "text/plain": [
       "\n"
      ],
      "text/html": [
       "<pre style=\"white-space:pre;overflow-x:auto;line-height:normal;font-family:Menlo,'DejaVu Sans Mono',consolas,'Courier New',monospace\">\n",
       "</pre>\n"
      ]
     },
     "metadata": {},
     "output_type": "display_data"
    },
    {
     "data": {
      "text/plain": [
       "\n",
       "\u001B[1;31mASSISTANT\u001B[0m\n",
       "I'll help you create a custom workflow with the specified parameters. I'll create a workflow with a hi-res \n",
       "partitioner node with the settings you've specified.\n"
      ],
      "text/html": [
       "<pre style=\"white-space:pre;overflow-x:auto;line-height:normal;font-family:Menlo,'DejaVu Sans Mono',consolas,'Courier New',monospace\">\n",
       "<span style=\"color: #800000; text-decoration-color: #800000; font-weight: bold\">ASSISTANT</span>\n",
       "I'll help you create a custom workflow with the specified parameters. I'll create a workflow with a hi-res \n",
       "partitioner node with the settings you've specified.\n",
       "</pre>\n"
      ]
     },
     "metadata": {},
     "output_type": "display_data"
    },
    {
     "data": {
      "text/plain": [
       "\n",
       "\u001B[1;36mTOOL CALL\u001B[0m\n",
       "Accept execution of create_workflow with args {'workflow_config': {'name': 'Justhires', 'source_id': \n",
       "'MyExampleSourceS3-1', 'destination_id': 'MyExampleDestinationS3-1', 'workflow_type': 'custom', 'workflow_nodes': \n",
       "[{'name': 'Partitioner', 'type': 'partition', 'subtype': 'unstructured_api', 'settings': {'strategy': 'hi_res', \n",
       "'include_page_breaks': True, 'extract_image_block_types': ['table']}}]}}? \u001B[1;35m[y/n]\u001B[0m \u001B[1;36m(y)\u001B[0m: "
      ],
      "text/html": [
       "<pre style=\"white-space:pre;overflow-x:auto;line-height:normal;font-family:Menlo,'DejaVu Sans Mono',consolas,'Courier New',monospace\">\n",
       "<span style=\"color: #008080; text-decoration-color: #008080; font-weight: bold\">TOOL CALL</span>\n",
       "Accept execution of create_workflow with args {'workflow_config': {'name': 'Justhires', 'source_id': \n",
       "'MyExampleSourceS3-1', 'destination_id': 'MyExampleDestinationS3-1', 'workflow_type': 'custom', 'workflow_nodes': \n",
       "[{'name': 'Partitioner', 'type': 'partition', 'subtype': 'unstructured_api', 'settings': {'strategy': 'hi_res', \n",
       "'include_page_breaks': True, 'extract_image_block_types': ['table']}}]}}? <span style=\"color: #800080; text-decoration-color: #800080; font-weight: bold\">[y/n]</span> <span style=\"color: #008080; text-decoration-color: #008080; font-weight: bold\">(y)</span>: </pre>\n"
      ]
     },
     "metadata": {},
     "output_type": "display_data"
    },
    {
     "data": {
      "text/plain": [
       "\n",
       "\u001B[1;36mTOOL OUTPUT\u001B[0m:\n",
       "Error creating workflow: \u001B[1m{\u001B[0m\u001B[32m\"detail\"\u001B[0m:\u001B[1m[\u001B[0m\u001B[1m{\u001B[0m\u001B[32m\"loc\"\u001B[0m:\u001B[1m[\u001B[0m\u001B[32m\"body\"\u001B[0m,\u001B[32m\"source_id\"\u001B[0m\u001B[1m]\u001B[0m,\u001B[32m\"msg\"\u001B[0m:\u001B[32m\"Input should be a valid UUID, invalid \u001B[0m\n",
       "\u001B[32mcharacter: expected an optional prefix of `urn:uuid:` followed by \u001B[0m\u001B[32m[\u001B[0m\u001B[32m0-9a-fA-F-\u001B[0m\u001B[32m]\u001B[0m\u001B[32m, found `M` at \u001B[0m\n",
       "\u001B[32m1\"\u001B[0m,\u001B[32m\"type\"\u001B[0m:\u001B[32m\"uuid_parsing\"\u001B[0m\u001B[1m}\u001B[0m,\u001B[1m{\u001B[0m\u001B[32m\"loc\"\u001B[0m:\u001B[1m[\u001B[0m\u001B[32m\"body\"\u001B[0m,\u001B[32m\"destination_id\"\u001B[0m\u001B[1m]\u001B[0m,\u001B[32m\"msg\"\u001B[0m:\u001B[32m\"Input should be a valid UUID, invalid character: \u001B[0m\n",
       "\u001B[32mexpected an optional prefix of `urn:uuid:` followed by \u001B[0m\u001B[32m[\u001B[0m\u001B[32m0-9a-fA-F-\u001B[0m\u001B[32m]\u001B[0m\u001B[32m, found `M` at 1\"\u001B[0m,\u001B[32m\"type\"\u001B[0m:\u001B[32m\"uuid_parsing\"\u001B[0m\u001B[1m}\u001B[0m\u001B[1m]\u001B[0m\u001B[1m}\u001B[0m\n",
       "\n"
      ],
      "text/html": [
       "<pre style=\"white-space:pre;overflow-x:auto;line-height:normal;font-family:Menlo,'DejaVu Sans Mono',consolas,'Courier New',monospace\">\n",
       "<span style=\"color: #008080; text-decoration-color: #008080; font-weight: bold\">TOOL OUTPUT</span>:\n",
       "Error creating workflow: <span style=\"font-weight: bold\">{</span><span style=\"color: #008000; text-decoration-color: #008000\">\"detail\"</span>:<span style=\"font-weight: bold\">[{</span><span style=\"color: #008000; text-decoration-color: #008000\">\"loc\"</span>:<span style=\"font-weight: bold\">[</span><span style=\"color: #008000; text-decoration-color: #008000\">\"body\"</span>,<span style=\"color: #008000; text-decoration-color: #008000\">\"source_id\"</span><span style=\"font-weight: bold\">]</span>,<span style=\"color: #008000; text-decoration-color: #008000\">\"msg\"</span>:<span style=\"color: #008000; text-decoration-color: #008000\">\"Input should be a valid UUID, invalid </span>\n",
       "<span style=\"color: #008000; text-decoration-color: #008000\">character: expected an optional prefix of `urn:uuid:` followed by [0-9a-fA-F-], found `M` at </span>\n",
       "<span style=\"color: #008000; text-decoration-color: #008000\">1\"</span>,<span style=\"color: #008000; text-decoration-color: #008000\">\"type\"</span>:<span style=\"color: #008000; text-decoration-color: #008000\">\"uuid_parsing\"</span><span style=\"font-weight: bold\">}</span>,<span style=\"font-weight: bold\">{</span><span style=\"color: #008000; text-decoration-color: #008000\">\"loc\"</span>:<span style=\"font-weight: bold\">[</span><span style=\"color: #008000; text-decoration-color: #008000\">\"body\"</span>,<span style=\"color: #008000; text-decoration-color: #008000\">\"destination_id\"</span><span style=\"font-weight: bold\">]</span>,<span style=\"color: #008000; text-decoration-color: #008000\">\"msg\"</span>:<span style=\"color: #008000; text-decoration-color: #008000\">\"Input should be a valid UUID, invalid character: </span>\n",
       "<span style=\"color: #008000; text-decoration-color: #008000\">expected an optional prefix of `urn:uuid:` followed by [0-9a-fA-F-], found `M` at 1\"</span>,<span style=\"color: #008000; text-decoration-color: #008000\">\"type\"</span>:<span style=\"color: #008000; text-decoration-color: #008000\">\"uuid_parsing\"</span><span style=\"font-weight: bold\">}]}</span>\n",
       "\n",
       "</pre>\n"
      ]
     },
     "metadata": {},
     "output_type": "display_data"
    },
    {
     "data": {
      "text/plain": [
       "\n",
       "\u001B[1;31mASSISTANT\u001B[0m\n",
       "I apologize for the error. It seems I need to first get the actual UUIDs for your source and destination \n",
       "connectors. Let me list them to get the correct IDs.\n"
      ],
      "text/html": [
       "<pre style=\"white-space:pre;overflow-x:auto;line-height:normal;font-family:Menlo,'DejaVu Sans Mono',consolas,'Courier New',monospace\">\n",
       "<span style=\"color: #800000; text-decoration-color: #800000; font-weight: bold\">ASSISTANT</span>\n",
       "I apologize for the error. It seems I need to first get the actual UUIDs for your source and destination \n",
       "connectors. Let me list them to get the correct IDs.\n",
       "</pre>\n"
      ]
     },
     "metadata": {},
     "output_type": "display_data"
    },
    {
     "data": {
      "text/plain": [
       "\n",
       "\u001B[1;36mTOOL CALL\u001B[0m\n",
       "Accept execution of list_sources with args {}? \u001B[1;35m[y/n]\u001B[0m \u001B[1;36m(y)\u001B[0m: "
      ],
      "text/html": [
       "<pre style=\"white-space:pre;overflow-x:auto;line-height:normal;font-family:Menlo,'DejaVu Sans Mono',consolas,'Courier New',monospace\">\n",
       "<span style=\"color: #008080; text-decoration-color: #008080; font-weight: bold\">TOOL CALL</span>\n",
       "Accept execution of list_sources with args {}? <span style=\"color: #800080; text-decoration-color: #800080; font-weight: bold\">[y/n]</span> <span style=\"color: #008080; text-decoration-color: #008080; font-weight: bold\">(y)</span>: </pre>\n"
      ]
     },
     "metadata": {},
     "output_type": "display_data"
    },
    {
     "data": {
      "text/plain": [
       "\n",
       "\u001B[1;36mTOOL OUTPUT\u001B[0m:\n",
       "Available sources:\n",
       "- MyExampleSourceS3-\u001B[1;36m1\u001B[0m \u001B[1m(\u001B[0mID: \u001B[93m8652ab2e-90fb-49c0-8a35-f5c0f887d031\u001B[0m\u001B[1m)\u001B[0m\n",
       "\n"
      ],
      "text/html": [
       "<pre style=\"white-space:pre;overflow-x:auto;line-height:normal;font-family:Menlo,'DejaVu Sans Mono',consolas,'Courier New',monospace\">\n",
       "<span style=\"color: #008080; text-decoration-color: #008080; font-weight: bold\">TOOL OUTPUT</span>:\n",
       "Available sources:\n",
       "- MyExampleSourceS3-<span style=\"color: #008080; text-decoration-color: #008080; font-weight: bold\">1</span> <span style=\"font-weight: bold\">(</span>ID: <span style=\"color: #ffff00; text-decoration-color: #ffff00\">8652ab2e-90fb-49c0-8a35-f5c0f887d031</span><span style=\"font-weight: bold\">)</span>\n",
       "\n",
       "</pre>\n"
      ]
     },
     "metadata": {},
     "output_type": "display_data"
    },
    {
     "data": {
      "text/plain": [
       "\n",
       "\u001B[1;36mTOOL CALL\u001B[0m\n",
       "Accept execution of list_destinations with args {}? \u001B[1;35m[y/n]\u001B[0m \u001B[1;36m(y)\u001B[0m: "
      ],
      "text/html": [
       "<pre style=\"white-space:pre;overflow-x:auto;line-height:normal;font-family:Menlo,'DejaVu Sans Mono',consolas,'Courier New',monospace\">\n",
       "<span style=\"color: #008080; text-decoration-color: #008080; font-weight: bold\">TOOL CALL</span>\n",
       "Accept execution of list_destinations with args {}? <span style=\"color: #800080; text-decoration-color: #800080; font-weight: bold\">[y/n]</span> <span style=\"color: #008080; text-decoration-color: #008080; font-weight: bold\">(y)</span>: </pre>\n"
      ]
     },
     "metadata": {},
     "output_type": "display_data"
    },
    {
     "data": {
      "text/plain": [
       "\n",
       "\u001B[1;36mTOOL OUTPUT\u001B[0m:\n",
       "Available destinations:\n",
       "- MyExampleDestinationS3-\u001B[1;36m1\u001B[0m \u001B[1m(\u001B[0mID: \u001B[93m45fbca76-c916-4adf-a059-886445c324d6\u001B[0m\u001B[1m)\u001B[0m\n",
       "\n"
      ],
      "text/html": [
       "<pre style=\"white-space:pre;overflow-x:auto;line-height:normal;font-family:Menlo,'DejaVu Sans Mono',consolas,'Courier New',monospace\">\n",
       "<span style=\"color: #008080; text-decoration-color: #008080; font-weight: bold\">TOOL OUTPUT</span>:\n",
       "Available destinations:\n",
       "- MyExampleDestinationS3-<span style=\"color: #008080; text-decoration-color: #008080; font-weight: bold\">1</span> <span style=\"font-weight: bold\">(</span>ID: <span style=\"color: #ffff00; text-decoration-color: #ffff00\">45fbca76-c916-4adf-a059-886445c324d6</span><span style=\"font-weight: bold\">)</span>\n",
       "\n",
       "</pre>\n"
      ]
     },
     "metadata": {},
     "output_type": "display_data"
    },
    {
     "data": {
      "text/plain": [
       "\n",
       "\u001B[1;31mASSISTANT\u001B[0m\n",
       "Now I'll create the workflow with the correct UUIDs:\n"
      ],
      "text/html": [
       "<pre style=\"white-space:pre;overflow-x:auto;line-height:normal;font-family:Menlo,'DejaVu Sans Mono',consolas,'Courier New',monospace\">\n",
       "<span style=\"color: #800000; text-decoration-color: #800000; font-weight: bold\">ASSISTANT</span>\n",
       "Now I'll create the workflow with the correct UUIDs:\n",
       "</pre>\n"
      ]
     },
     "metadata": {},
     "output_type": "display_data"
    },
    {
     "data": {
      "text/plain": [
       "\n",
       "\u001B[1;36mTOOL CALL\u001B[0m\n",
       "Accept execution of create_workflow with args {'workflow_config': {'name': 'Justhires', 'source_id': \n",
       "'8652ab2e-90fb-49c0-8a35-f5c0f887d031', 'destination_id': '45fbca76-c916-4adf-a059-886445c324d6', 'workflow_type': \n",
       "'custom', 'workflow_nodes': [{'name': 'Partitioner', 'type': 'partition', 'subtype': 'unstructured_api', \n",
       "'settings': {'strategy': 'hi_res', 'include_page_breaks': True, 'extract_image_block_types': ['table']}}]}}? \u001B[1;35m[y/n]\u001B[0m \n",
       "\u001B[1;36m(y)\u001B[0m: "
      ],
      "text/html": [
       "<pre style=\"white-space:pre;overflow-x:auto;line-height:normal;font-family:Menlo,'DejaVu Sans Mono',consolas,'Courier New',monospace\">\n",
       "<span style=\"color: #008080; text-decoration-color: #008080; font-weight: bold\">TOOL CALL</span>\n",
       "Accept execution of create_workflow with args {'workflow_config': {'name': 'Justhires', 'source_id': \n",
       "'8652ab2e-90fb-49c0-8a35-f5c0f887d031', 'destination_id': '45fbca76-c916-4adf-a059-886445c324d6', 'workflow_type': \n",
       "'custom', 'workflow_nodes': [{'name': 'Partitioner', 'type': 'partition', 'subtype': 'unstructured_api', \n",
       "'settings': {'strategy': 'hi_res', 'include_page_breaks': True, 'extract_image_block_types': ['table']}}]}}? <span style=\"color: #800080; text-decoration-color: #800080; font-weight: bold\">[y/n]</span> \n",
       "<span style=\"color: #008080; text-decoration-color: #008080; font-weight: bold\">(y)</span>: </pre>\n"
      ]
     },
     "metadata": {},
     "output_type": "display_data"
    },
    {
     "data": {
      "text/plain": [
       "\n",
       "\u001B[1;36mTOOL OUTPUT\u001B[0m:\n",
       "Workflow Information:\n",
       "Name: Justhires\n",
       "ID: \u001B[93mef227d9f-2995-48ea-a33e-6c8596075b38\u001B[0m\n",
       "Status: WorkflowState.ACTIVE\n",
       "Type: WorkflowType.CUSTOM\n",
       "\n",
       "Sources:\n",
       "  - \u001B[93m8652ab2e-90fb-49c0-8a35-f5c0f887d031\u001B[0m\n",
       "\n",
       "Destinations:\n",
       "  - \u001B[93m45fbca76-c916-4adf-a059-886445c324d6\u001B[0m\n",
       "\n",
       "Schedule:\n",
       "\n"
      ],
      "text/html": [
       "<pre style=\"white-space:pre;overflow-x:auto;line-height:normal;font-family:Menlo,'DejaVu Sans Mono',consolas,'Courier New',monospace\">\n",
       "<span style=\"color: #008080; text-decoration-color: #008080; font-weight: bold\">TOOL OUTPUT</span>:\n",
       "Workflow Information:\n",
       "Name: Justhires\n",
       "ID: <span style=\"color: #ffff00; text-decoration-color: #ffff00\">ef227d9f-2995-48ea-a33e-6c8596075b38</span>\n",
       "Status: WorkflowState.ACTIVE\n",
       "Type: WorkflowType.CUSTOM\n",
       "\n",
       "Sources:\n",
       "  - <span style=\"color: #ffff00; text-decoration-color: #ffff00\">8652ab2e-90fb-49c0-8a35-f5c0f887d031</span>\n",
       "\n",
       "Destinations:\n",
       "  - <span style=\"color: #ffff00; text-decoration-color: #ffff00\">45fbca76-c916-4adf-a059-886445c324d6</span>\n",
       "\n",
       "Schedule:\n",
       "\n",
       "</pre>\n"
      ]
     },
     "metadata": {},
     "output_type": "display_data"
    },
    {
     "data": {
      "text/plain": [
       "\n",
       "\u001B[1;31mASSISTANT\u001B[0m\n",
       "Great! I've successfully created your custom workflow with the following specifications:\n",
       "- Name: Justhires\n",
       "- Source: MyExampleSourceS3-\u001B[1;36m1\u001B[0m\n",
       "- Destination: MyExampleDestinationS3-\u001B[1;36m1\u001B[0m\n",
       "- Workflow type: Custom\n",
       "- Partitioner node with hi-res strategy, including page breaks and table extraction\n",
       "\n",
       "The workflow has been created and is now active. The workflow ID is \u001B[93mef227d9f-2995-48ea-a33e-6c8596075b38\u001B[0m. You can \n",
       "use this ID to run, update, or delete the workflow in the future.\n",
       "\n",
       "Is there anything else you'd like me to help you with?\n"
      ],
      "text/html": [
       "<pre style=\"white-space:pre;overflow-x:auto;line-height:normal;font-family:Menlo,'DejaVu Sans Mono',consolas,'Courier New',monospace\">\n",
       "<span style=\"color: #800000; text-decoration-color: #800000; font-weight: bold\">ASSISTANT</span>\n",
       "Great! I've successfully created your custom workflow with the following specifications:\n",
       "- Name: Justhires\n",
       "- Source: MyExampleSourceS3-<span style=\"color: #008080; text-decoration-color: #008080; font-weight: bold\">1</span>\n",
       "- Destination: MyExampleDestinationS3-<span style=\"color: #008080; text-decoration-color: #008080; font-weight: bold\">1</span>\n",
       "- Workflow type: Custom\n",
       "- Partitioner node with hi-res strategy, including page breaks and table extraction\n",
       "\n",
       "The workflow has been created and is now active. The workflow ID is <span style=\"color: #ffff00; text-decoration-color: #ffff00\">ef227d9f-2995-48ea-a33e-6c8596075b38</span>. You can \n",
       "use this ID to run, update, or delete the workflow in the future.\n",
       "\n",
       "Is there anything else you'd like me to help you with?\n",
       "</pre>\n"
      ]
     },
     "metadata": {},
     "output_type": "display_data"
    },
    {
     "data": {
      "text/plain": [
       "\n",
       "\u001B[1;32mQuery\u001B[0m (q/quit to end chat): "
      ],
      "text/html": [
       "<pre style=\"white-space:pre;overflow-x:auto;line-height:normal;font-family:Menlo,'DejaVu Sans Mono',consolas,'Courier New',monospace\">\n",
       "<span style=\"color: #008000; text-decoration-color: #008000; font-weight: bold\">Query</span> (q/quit to end chat): </pre>\n"
      ]
     },
     "metadata": {},
     "output_type": "display_data"
    },
    {
     "data": {
      "text/plain": [
       "\n"
      ],
      "text/html": [
       "<pre style=\"white-space:pre;overflow-x:auto;line-height:normal;font-family:Menlo,'DejaVu Sans Mono',consolas,'Courier New',monospace\">\n",
       "</pre>\n"
      ]
     },
     "metadata": {},
     "output_type": "display_data"
    }
   ],
   "execution_count": 6
  },
  {
   "metadata": {},
   "cell_type": "code",
   "outputs": [],
   "execution_count": null,
   "source": "",
   "id": "830cb6efec14b0f1"
  }
 ],
 "metadata": {
  "kernelspec": {
   "display_name": "Python 3 (ipykernel)",
   "language": "python",
   "name": "python3"
  },
  "language_info": {
   "codemirror_mode": {
    "name": "ipython",
    "version": 3
   },
   "file_extension": ".py",
   "mimetype": "text/x-python",
   "name": "python",
   "nbconvert_exporter": "python",
   "pygments_lexer": "ipython3",
   "version": "3.12.3"
  }
 },
 "nbformat": 4,
 "nbformat_minor": 5
}
