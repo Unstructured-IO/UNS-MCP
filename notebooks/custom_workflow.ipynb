{
 "cells": [
  {
   "cell_type": "code",
   "execution_count": 1,
   "id": "dd74d3ac5677b80a",
   "metadata": {
    "ExecuteTime": {
     "end_time": "2025-03-21T14:21:04.737564Z",
     "start_time": "2025-03-21T14:21:04.735273Z"
    }
   },
   "outputs": [],
   "source": [
    "from pathlib import Path\n",
    "import os\n",
    "\n",
    "# Set working directory at top level or repository\n",
    "os.chdir(Path.cwd().parent)"
   ]
  },
  {
   "cell_type": "code",
   "execution_count": 2,
   "id": "775df9f8644b052b",
   "metadata": {
    "ExecuteTime": {
     "end_time": "2025-03-21T14:21:05.071455Z",
     "start_time": "2025-03-21T14:21:04.741301Z"
    }
   },
   "outputs": [],
   "source": [
    "from minimal_client.client import MCPClient"
   ]
  },
  {
   "cell_type": "code",
   "execution_count": 3,
   "id": "initial_id",
   "metadata": {
    "ExecuteTime": {
     "end_time": "2025-04-03T14:39:03.951165Z",
     "start_time": "2025-04-03T14:39:03.948240Z"
    }
   },
   "outputs": [],
   "source": [
    "query =    \"\"\"\n",
    "Hello, I would like you to create a new S3 source connector and S3 destination connector. Call them 'MyExampleSourceS3-2' and 'MyExampleDestinationS3-2' respectively. S3 uri is 's3://crag-protected-but-non-sensitive/pluto/example_input/' and 's3:///crag-protected-but-non-sensitive/pluto/example_output/'. Workflow should be called 'MycustomVLMandChunkingwithEmbedding'. I want VLM strategy with antrhopic model, chunk by title chunking with 1050 characters split size and embedding with azure_openai model. Then execute workflow.\n",
    "\"\"\""
   ]
  },
  {
   "cell_type": "code",
   "execution_count": 4,
   "id": "d529fb28-cb57-49bd-86e0-93bcd8da8318",
   "metadata": {
    "ExecuteTime": {
     "end_time": "2025-03-21T14:22:01.275503Z",
     "start_time": "2025-03-21T14:21:08.040560Z"
    }
   },
   "outputs": [
    {
     "data": {
      "text/html": [
       "<pre style=\"white-space:pre;overflow-x:auto;line-height:normal;font-family:Menlo,'DejaVu Sans Mono',consolas,'Courier New',monospace\">\n",
       "<span style=\"color: #008000; text-decoration-color: #008000; font-weight: bold\">Query</span> (q/quit to end chat): </pre>\n"
      ],
      "text/plain": [
       "\n",
       "\u001b[1;32mQuery\u001b[0m (q/quit to end chat): "
      ]
     },
     "metadata": {},
     "output_type": "display_data"
    },
    {
     "name": "stdin",
     "output_type": "stream",
     "text": [
      " Hello, I would like you to create a new S3 source connector and S3 destination connector. Call them 'MyExampleSourceS3-2' and 'MyExampleDestinationS3-2' respectively. S3 uri is 's3://crag-protected-but-non-sensitive/pluto/example_input/' and 's3:///crag-protected-but-non-sensitive/pluto/example_output/'. Workflow should be called 'MycustomVLMandChunkingwithEmbedding'. I want VLM strategy with antrhopic model, chunk by title chunking with 1050 characters split size and embedding with azure_openai model. Then execute workflow.\n"
     ]
    },
    {
     "data": {
      "text/html": [
       "<pre style=\"white-space:pre;overflow-x:auto;line-height:normal;font-family:Menlo,'DejaVu Sans Mono',consolas,'Courier New',monospace\">\n",
       "</pre>\n"
      ],
      "text/plain": [
       "\n"
      ]
     },
     "metadata": {},
     "output_type": "display_data"
    },
    {
     "data": {
      "text/html": [
       "<pre style=\"white-space:pre;overflow-x:auto;line-height:normal;font-family:Menlo,'DejaVu Sans Mono',consolas,'Courier New',monospace\">\n",
       "<span style=\"color: #800000; text-decoration-color: #800000; font-weight: bold\">ASSISTANT</span>\n",
       "I'll help you create the S3 source and destination connectors, create a custom workflow with the specified \n",
       "configuration, and then execute it. Let's break this down into steps:\n",
       "\n",
       "<span style=\"color: #008080; text-decoration-color: #008080; font-weight: bold\">1</span>. First, let's create the S3 source connector:\n",
       "</pre>\n"
      ],
      "text/plain": [
       "\n",
       "\u001b[1;31mASSISTANT\u001b[0m\n",
       "I'll help you create the S3 source and destination connectors, create a custom workflow with the specified \n",
       "configuration, and then execute it. Let's break this down into steps:\n",
       "\n",
       "\u001b[1;36m1\u001b[0m. First, let's create the S3 source connector:\n"
      ]
     },
     "metadata": {},
     "output_type": "display_data"
    },
    {
     "data": {
      "text/html": [
       "<pre style=\"white-space:pre;overflow-x:auto;line-height:normal;font-family:Menlo,'DejaVu Sans Mono',consolas,'Courier New',monospace\">\n",
       "<span style=\"color: #008080; text-decoration-color: #008080; font-weight: bold\">TOOL CALL</span>\n",
       "Accept execution of create_source_connector with args {'name': 'MyExampleSourceS3-2', 'source_type': 's3', \n",
       "'type_specific_config': {'remote_url': 's3://crag-protected-but-non-sensitive/pluto/example_input/'}}? <span style=\"color: #800080; text-decoration-color: #800080; font-weight: bold\">[y/n]</span> <span style=\"color: #008080; text-decoration-color: #008080; font-weight: bold\">(y)</span>: </pre>\n"
      ],
      "text/plain": [
       "\n",
       "\u001b[1;36mTOOL CALL\u001b[0m\n",
       "Accept execution of create_source_connector with args {'name': 'MyExampleSourceS3-2', 'source_type': 's3', \n",
       "'type_specific_config': {'remote_url': 's3://crag-protected-but-non-sensitive/pluto/example_input/'}}? \u001b[1;35m[y/n]\u001b[0m \u001b[1;36m(y)\u001b[0m: "
      ]
     },
     "metadata": {},
     "output_type": "display_data"
    },
    {
     "name": "stdin",
     "output_type": "stream",
     "text": [
      " y\n"
     ]
    },
    {
     "data": {
      "text/html": [
       "<pre style=\"white-space:pre;overflow-x:auto;line-height:normal;font-family:Menlo,'DejaVu Sans Mono',consolas,'Courier New',monospace\">\n",
       "<span style=\"color: #008080; text-decoration-color: #008080; font-weight: bold\">TOOL OUTPUT</span>:\n",
       "S3 Source Connector Created:\n",
       "Name: MyExampleSourceS3-<span style=\"color: #008080; text-decoration-color: #008080; font-weight: bold\">2</span>\n",
       "ID: <span style=\"color: #ffff00; text-decoration-color: #ffff00\">eef4534c-9cbc-4bee-b2c8-02215ae0a356</span>\n",
       "\n",
       "</pre>\n"
      ],
      "text/plain": [
       "\n",
       "\u001b[1;36mTOOL OUTPUT\u001b[0m:\n",
       "S3 Source Connector Created:\n",
       "Name: MyExampleSourceS3-\u001b[1;36m2\u001b[0m\n",
       "ID: \u001b[93meef4534c-9cbc-4bee-b2c8-02215ae0a356\u001b[0m\n",
       "\n"
      ]
     },
     "metadata": {},
     "output_type": "display_data"
    },
    {
     "data": {
      "text/html": [
       "<pre style=\"white-space:pre;overflow-x:auto;line-height:normal;font-family:Menlo,'DejaVu Sans Mono',consolas,'Courier New',monospace\">\n",
       "<span style=\"color: #800000; text-decoration-color: #800000; font-weight: bold\">ASSISTANT</span>\n",
       "<span style=\"color: #008080; text-decoration-color: #008080; font-weight: bold\">2</span>. Now, let's create the S3 destination connector:\n",
       "</pre>\n"
      ],
      "text/plain": [
       "\n",
       "\u001b[1;31mASSISTANT\u001b[0m\n",
       "\u001b[1;36m2\u001b[0m. Now, let's create the S3 destination connector:\n"
      ]
     },
     "metadata": {},
     "output_type": "display_data"
    },
    {
     "data": {
      "text/html": [
       "<pre style=\"white-space:pre;overflow-x:auto;line-height:normal;font-family:Menlo,'DejaVu Sans Mono',consolas,'Courier New',monospace\">\n",
       "<span style=\"color: #008080; text-decoration-color: #008080; font-weight: bold\">TOOL CALL</span>\n",
       "Accept execution of create_destination_connector with args {'name': 'MyExampleDestinationS3-2', 'destination_type':\n",
       "'s3', 'type_specific_config': {'remote_url': 's3:///crag-protected-but-non-sensitive/pluto/example_output/'}}? \n",
       "<span style=\"color: #800080; text-decoration-color: #800080; font-weight: bold\">[y/n]</span> <span style=\"color: #008080; text-decoration-color: #008080; font-weight: bold\">(y)</span>: </pre>\n"
      ],
      "text/plain": [
       "\n",
       "\u001b[1;36mTOOL CALL\u001b[0m\n",
       "Accept execution of create_destination_connector with args {'name': 'MyExampleDestinationS3-2', 'destination_type':\n",
       "'s3', 'type_specific_config': {'remote_url': 's3:///crag-protected-but-non-sensitive/pluto/example_output/'}}? \n",
       "\u001b[1;35m[y/n]\u001b[0m \u001b[1;36m(y)\u001b[0m: "
      ]
     },
     "metadata": {},
     "output_type": "display_data"
    },
    {
     "name": "stdin",
     "output_type": "stream",
     "text": [
      " yy\n"
     ]
    },
    {
     "data": {
      "text/html": [
       "<pre style=\"white-space:pre;overflow-x:auto;line-height:normal;font-family:Menlo,'DejaVu Sans Mono',consolas,'Courier New',monospace\"><span style=\"color: #800000; text-decoration-color: #800000\">Please enter Y or N</span>\n",
       "</pre>\n"
      ],
      "text/plain": [
       "\u001b[31mPlease enter Y or N\u001b[0m\n"
      ]
     },
     "metadata": {},
     "output_type": "display_data"
    },
    {
     "data": {
      "text/html": [
       "<pre style=\"white-space:pre;overflow-x:auto;line-height:normal;font-family:Menlo,'DejaVu Sans Mono',consolas,'Courier New',monospace\">\n",
       "<span style=\"color: #008080; text-decoration-color: #008080; font-weight: bold\">TOOL CALL</span>\n",
       "Accept execution of create_destination_connector with args {'name': 'MyExampleDestinationS3-2', 'destination_type':\n",
       "'s3', 'type_specific_config': {'remote_url': 's3:///crag-protected-but-non-sensitive/pluto/example_output/'}}? \n",
       "<span style=\"color: #800080; text-decoration-color: #800080; font-weight: bold\">[y/n]</span> <span style=\"color: #008080; text-decoration-color: #008080; font-weight: bold\">(y)</span>: </pre>\n"
      ],
      "text/plain": [
       "\n",
       "\u001b[1;36mTOOL CALL\u001b[0m\n",
       "Accept execution of create_destination_connector with args {'name': 'MyExampleDestinationS3-2', 'destination_type':\n",
       "'s3', 'type_specific_config': {'remote_url': 's3:///crag-protected-but-non-sensitive/pluto/example_output/'}}? \n",
       "\u001b[1;35m[y/n]\u001b[0m \u001b[1;36m(y)\u001b[0m: "
      ]
     },
     "metadata": {},
     "output_type": "display_data"
    },
    {
     "name": "stdin",
     "output_type": "stream",
     "text": [
      " y\n"
     ]
    },
    {
     "data": {
      "text/html": [
       "<pre style=\"white-space:pre;overflow-x:auto;line-height:normal;font-family:Menlo,'DejaVu Sans Mono',consolas,'Courier New',monospace\">\n",
       "<span style=\"color: #008080; text-decoration-color: #008080; font-weight: bold\">TOOL OUTPUT</span>:\n",
       "S3 Destination Connector Created:\n",
       "Name: MyExampleDestinationS3-<span style=\"color: #008080; text-decoration-color: #008080; font-weight: bold\">2</span>\n",
       "ID: <span style=\"color: #ffff00; text-decoration-color: #ffff00\">708335a0-6ca9-4fc6-bcc8-a6152e63f6ae</span>\n",
       "\n",
       "</pre>\n"
      ],
      "text/plain": [
       "\n",
       "\u001b[1;36mTOOL OUTPUT\u001b[0m:\n",
       "S3 Destination Connector Created:\n",
       "Name: MyExampleDestinationS3-\u001b[1;36m2\u001b[0m\n",
       "ID: \u001b[93m708335a0-6ca9-4fc6-bcc8-a6152e63f6ae\u001b[0m\n",
       "\n"
      ]
     },
     "metadata": {},
     "output_type": "display_data"
    },
    {
     "data": {
      "text/html": [
       "<pre style=\"white-space:pre;overflow-x:auto;line-height:normal;font-family:Menlo,'DejaVu Sans Mono',consolas,'Courier New',monospace\">\n",
       "<span style=\"color: #800000; text-decoration-color: #800000; font-weight: bold\">ASSISTANT</span>\n",
       "<span style=\"color: #008080; text-decoration-color: #008080; font-weight: bold\">3</span>. Now, let's create the custom workflow with VLM, chunking, and embedding:\n",
       "</pre>\n"
      ],
      "text/plain": [
       "\n",
       "\u001b[1;31mASSISTANT\u001b[0m\n",
       "\u001b[1;36m3\u001b[0m. Now, let's create the custom workflow with VLM, chunking, and embedding:\n"
      ]
     },
     "metadata": {},
     "output_type": "display_data"
    },
    {
     "data": {
      "text/html": [
       "<pre style=\"white-space:pre;overflow-x:auto;line-height:normal;font-family:Menlo,'DejaVu Sans Mono',consolas,'Courier New',monospace\">\n",
       "<span style=\"color: #008080; text-decoration-color: #008080; font-weight: bold\">TOOL CALL</span>\n",
       "Accept execution of create_workflow with args {'workflow_config': {'name': 'MycustomVLMandChunkingwithEmbedding', \n",
       "'workflow_type': 'custom', 'source_id': 'eef4534c-9cbc-4bee-b2c8-02215ae0a356', 'destination_id': \n",
       "'708335a0-6ca9-4fc6-bcc8-a6152e63f6ae', 'workflow_nodes': [{'name': 'VLMPartitioner', 'type': 'partition', \n",
       "'subtype': 'vlm', 'settings': {'provider': 'anthropic', 'model': 'claude-3-5-sonnet-20241022'}}, {'name': \n",
       "'TitleChunker', 'type': 'chunk', 'subtype': 'chunk_by_title', 'settings': {'max_characters': 1050, \n",
       "'new_after_n_chars': 1050, 'overlap': 0}}, {'name': 'Embedder', 'type': 'embed', 'subtype': 'azure_openai', \n",
       "'settings': {'model_name': 'text-embedding-3-small'}}]}}? <span style=\"color: #800080; text-decoration-color: #800080; font-weight: bold\">[y/n]</span> <span style=\"color: #008080; text-decoration-color: #008080; font-weight: bold\">(y)</span>: </pre>\n"
      ],
      "text/plain": [
       "\n",
       "\u001b[1;36mTOOL CALL\u001b[0m\n",
       "Accept execution of create_workflow with args {'workflow_config': {'name': 'MycustomVLMandChunkingwithEmbedding', \n",
       "'workflow_type': 'custom', 'source_id': 'eef4534c-9cbc-4bee-b2c8-02215ae0a356', 'destination_id': \n",
       "'708335a0-6ca9-4fc6-bcc8-a6152e63f6ae', 'workflow_nodes': [{'name': 'VLMPartitioner', 'type': 'partition', \n",
       "'subtype': 'vlm', 'settings': {'provider': 'anthropic', 'model': 'claude-3-5-sonnet-20241022'}}, {'name': \n",
       "'TitleChunker', 'type': 'chunk', 'subtype': 'chunk_by_title', 'settings': {'max_characters': 1050, \n",
       "'new_after_n_chars': 1050, 'overlap': 0}}, {'name': 'Embedder', 'type': 'embed', 'subtype': 'azure_openai', \n",
       "'settings': {'model_name': 'text-embedding-3-small'}}]}}? \u001b[1;35m[y/n]\u001b[0m \u001b[1;36m(y)\u001b[0m: "
      ]
     },
     "metadata": {},
     "output_type": "display_data"
    },
    {
     "name": "stdin",
     "output_type": "stream",
     "text": [
      " y\n"
     ]
    },
    {
     "data": {
      "text/html": [
       "<pre style=\"white-space:pre;overflow-x:auto;line-height:normal;font-family:Menlo,'DejaVu Sans Mono',consolas,'Courier New',monospace\">\n",
       "<span style=\"color: #008080; text-decoration-color: #008080; font-weight: bold\">TOOL OUTPUT</span>:\n",
       "Workflow Information:\n",
       "Name: MycustomVLMandChunkingwithEmbedding\n",
       "ID: <span style=\"color: #ffff00; text-decoration-color: #ffff00\">8cab6a06-400a-40b8-8b2f-90abdbb8185d</span>\n",
       "Status: WorkflowState.ACTIVE\n",
       "Type: WorkflowType.CUSTOM\n",
       "\n",
       "Sources:\n",
       "  - <span style=\"color: #ffff00; text-decoration-color: #ffff00\">eef4534c-9cbc-4bee-b2c8-02215ae0a356</span>\n",
       "\n",
       "Destinations:\n",
       "  - <span style=\"color: #ffff00; text-decoration-color: #ffff00\">708335a0-6ca9-4fc6-bcc8-a6152e63f6ae</span>\n",
       "\n",
       "Schedule:\n",
       "\n",
       "</pre>\n"
      ],
      "text/plain": [
       "\n",
       "\u001b[1;36mTOOL OUTPUT\u001b[0m:\n",
       "Workflow Information:\n",
       "Name: MycustomVLMandChunkingwithEmbedding\n",
       "ID: \u001b[93m8cab6a06-400a-40b8-8b2f-90abdbb8185d\u001b[0m\n",
       "Status: WorkflowState.ACTIVE\n",
       "Type: WorkflowType.CUSTOM\n",
       "\n",
       "Sources:\n",
       "  - \u001b[93meef4534c-9cbc-4bee-b2c8-02215ae0a356\u001b[0m\n",
       "\n",
       "Destinations:\n",
       "  - \u001b[93m708335a0-6ca9-4fc6-bcc8-a6152e63f6ae\u001b[0m\n",
       "\n",
       "Schedule:\n",
       "\n"
      ]
     },
     "metadata": {},
     "output_type": "display_data"
    },
    {
     "data": {
      "text/html": [
       "<pre style=\"white-space:pre;overflow-x:auto;line-height:normal;font-family:Menlo,'DejaVu Sans Mono',consolas,'Courier New',monospace\">\n",
       "<span style=\"color: #800000; text-decoration-color: #800000; font-weight: bold\">ASSISTANT</span>\n",
       "<span style=\"color: #008080; text-decoration-color: #008080; font-weight: bold\">4</span>. Finally, let's execute the workflow:\n",
       "</pre>\n"
      ],
      "text/plain": [
       "\n",
       "\u001b[1;31mASSISTANT\u001b[0m\n",
       "\u001b[1;36m4\u001b[0m. Finally, let's execute the workflow:\n"
      ]
     },
     "metadata": {},
     "output_type": "display_data"
    },
    {
     "data": {
      "text/html": [
       "<pre style=\"white-space:pre;overflow-x:auto;line-height:normal;font-family:Menlo,'DejaVu Sans Mono',consolas,'Courier New',monospace\">\n",
       "<span style=\"color: #008080; text-decoration-color: #008080; font-weight: bold\">TOOL CALL</span>\n",
       "Accept execution of run_workflow with args {'workflow_id': '8cab6a06-400a-40b8-8b2f-90abdbb8185d'}? <span style=\"color: #800080; text-decoration-color: #800080; font-weight: bold\">[y/n]</span> <span style=\"color: #008080; text-decoration-color: #008080; font-weight: bold\">(y)</span>: </pre>\n"
      ],
      "text/plain": [
       "\n",
       "\u001b[1;36mTOOL CALL\u001b[0m\n",
       "Accept execution of run_workflow with args {'workflow_id': '8cab6a06-400a-40b8-8b2f-90abdbb8185d'}? \u001b[1;35m[y/n]\u001b[0m \u001b[1;36m(y)\u001b[0m: "
      ]
     },
     "metadata": {},
     "output_type": "display_data"
    },
    {
     "name": "stdin",
     "output_type": "stream",
     "text": [
      " y\n"
     ]
    },
    {
     "data": {
      "text/html": [
       "<pre style=\"white-space:pre;overflow-x:auto;line-height:normal;font-family:Menlo,'DejaVu Sans Mono',consolas,'Courier New',monospace\">\n",
       "<span style=\"color: #008080; text-decoration-color: #008080; font-weight: bold\">TOOL OUTPUT</span>:\n",
       "Workflow execution initiated: <span style=\"font-weight: bold\">&lt;</span><span style=\"color: #ff00ff; text-decoration-color: #ff00ff; font-weight: bold\">Response</span><span style=\"color: #000000; text-decoration-color: #000000\"> </span><span style=\"color: #000000; text-decoration-color: #000000; font-weight: bold\">[</span><span style=\"color: #008080; text-decoration-color: #008080; font-weight: bold\">202</span><span style=\"color: #000000; text-decoration-color: #000000\"> Accepted</span><span style=\"color: #000000; text-decoration-color: #000000; font-weight: bold\">]</span><span style=\"font-weight: bold\">&gt;</span>\n",
       "\n",
       "</pre>\n"
      ],
      "text/plain": [
       "\n",
       "\u001b[1;36mTOOL OUTPUT\u001b[0m:\n",
       "Workflow execution initiated: \u001b[1m<\u001b[0m\u001b[1;95mResponse\u001b[0m\u001b[39m \u001b[0m\u001b[1;39m[\u001b[0m\u001b[1;36m202\u001b[0m\u001b[39m Accepted\u001b[0m\u001b[1;39m]\u001b[0m\u001b[1m>\u001b[0m\n",
       "\n"
      ]
     },
     "metadata": {},
     "output_type": "display_data"
    },
    {
     "data": {
      "text/html": [
       "<pre style=\"white-space:pre;overflow-x:auto;line-height:normal;font-family:Menlo,'DejaVu Sans Mono',consolas,'Courier New',monospace\">\n",
       "<span style=\"color: #800000; text-decoration-color: #800000; font-weight: bold\">ASSISTANT</span>\n",
       "I've completed all the requested steps:\n",
       "<span style=\"color: #008080; text-decoration-color: #008080; font-weight: bold\">1</span>. Created an S3 source connector named <span style=\"color: #008000; text-decoration-color: #008000\">\"MyExampleSourceS3-2\"</span>\n",
       "<span style=\"color: #008080; text-decoration-color: #008080; font-weight: bold\">2</span>. Created an S3 destination connector named <span style=\"color: #008000; text-decoration-color: #008000\">\"MyExampleDestinationS3-2\"</span>\n",
       "<span style=\"color: #008080; text-decoration-color: #008080; font-weight: bold\">3</span>. Created a custom workflow named <span style=\"color: #008000; text-decoration-color: #008000\">\"MycustomVLMandChunkingwithEmbedding\"</span> with:\n",
       "   - VLM partitioning using Anthropic's Claude model\n",
       "   - Chunk by title with <span style=\"color: #008080; text-decoration-color: #008080; font-weight: bold\">1050</span> character splits\n",
       "   - Azure OpenAI embedding\n",
       "<span style=\"color: #008080; text-decoration-color: #008080; font-weight: bold\">4</span>. Executed the workflow\n",
       "\n",
       "The workflow has been initiated successfully. You can monitor its progress using the workflow ID: \n",
       "<span style=\"color: #ffff00; text-decoration-color: #ffff00\">8cab6a06-400a-40b8-8b2f-90abdbb8185d</span>\n",
       "\n",
       "Would you like to check the status of the workflow or is there anything else you need assistance with?\n",
       "</pre>\n"
      ],
      "text/plain": [
       "\n",
       "\u001b[1;31mASSISTANT\u001b[0m\n",
       "I've completed all the requested steps:\n",
       "\u001b[1;36m1\u001b[0m. Created an S3 source connector named \u001b[32m\"MyExampleSourceS3-2\"\u001b[0m\n",
       "\u001b[1;36m2\u001b[0m. Created an S3 destination connector named \u001b[32m\"MyExampleDestinationS3-2\"\u001b[0m\n",
       "\u001b[1;36m3\u001b[0m. Created a custom workflow named \u001b[32m\"MycustomVLMandChunkingwithEmbedding\"\u001b[0m with:\n",
       "   - VLM partitioning using Anthropic's Claude model\n",
       "   - Chunk by title with \u001b[1;36m1050\u001b[0m character splits\n",
       "   - Azure OpenAI embedding\n",
       "\u001b[1;36m4\u001b[0m. Executed the workflow\n",
       "\n",
       "The workflow has been initiated successfully. You can monitor its progress using the workflow ID: \n",
       "\u001b[93m8cab6a06-400a-40b8-8b2f-90abdbb8185d\u001b[0m\n",
       "\n",
       "Would you like to check the status of the workflow or is there anything else you need assistance with?\n"
      ]
     },
     "metadata": {},
     "output_type": "display_data"
    },
    {
     "data": {
      "text/html": [
       "<pre style=\"white-space:pre;overflow-x:auto;line-height:normal;font-family:Menlo,'DejaVu Sans Mono',consolas,'Courier New',monospace\">\n",
       "<span style=\"color: #008000; text-decoration-color: #008000; font-weight: bold\">Query</span> (q/quit to end chat): </pre>\n"
      ],
      "text/plain": [
       "\n",
       "\u001b[1;32mQuery\u001b[0m (q/quit to end chat): "
      ]
     },
     "metadata": {},
     "output_type": "display_data"
    },
    {
     "name": "stdin",
     "output_type": "stream",
     "text": [
      " q\n"
     ]
    },
    {
     "data": {
      "text/html": [
       "<pre style=\"white-space:pre;overflow-x:auto;line-height:normal;font-family:Menlo,'DejaVu Sans Mono',consolas,'Courier New',monospace\">\n",
       "</pre>\n"
      ],
      "text/plain": [
       "\n"
      ]
     },
     "metadata": {},
     "output_type": "display_data"
    }
   ],
   "source": [
    "client = MCPClient()\n",
    "try:\n",
    "    await client.connect_to_server(\"http://127.0.0.1:8080/sse\")\n",
    "    await client.chat_loop()\n",
    "finally:\n",
    "    await client.cleanup()"
   ]
  },
  {
   "cell_type": "code",
   "execution_count": 5,
   "id": "1b5a1713f9b3d251",
   "metadata": {
    "ExecuteTime": {
     "end_time": "2025-03-21T14:22:05.110870Z",
     "start_time": "2025-03-21T14:22:05.108345Z"
    }
   },
   "outputs": [],
   "source": [
    "query = \"\"\"\n",
    "Hello, I would like you to create custom workflow. Source and Destination should be 'MyExampleSourceS3-2' and 'MyExampleDestinationS3-2' respectively (they already exist). Workflow should be called 'Justhires'. I want hires strategy with include_page_breaks and extract_image_block_types set to Tables.  Then execute workflow.\n",
    "\"\"\""
   ]
  },
  {
   "cell_type": "code",
   "execution_count": null,
   "id": "4308a8c18d4fd620",
   "metadata": {
    "ExecuteTime": {
     "end_time": "2025-03-21T14:23:01.268127Z",
     "start_time": "2025-03-21T14:22:05.337707Z"
    }
   },
   "outputs": [
    {
     "data": {
      "text/html": [
       "<pre style=\"white-space:pre;overflow-x:auto;line-height:normal;font-family:Menlo,'DejaVu Sans Mono',consolas,'Courier New',monospace\">\n",
       "<span style=\"color: #008000; text-decoration-color: #008000; font-weight: bold\">Query</span> (q/quit to end chat): </pre>\n"
      ],
      "text/plain": [
       "\n",
       "\u001b[1;32mQuery\u001b[0m (q/quit to end chat): "
      ]
     },
     "metadata": {},
     "output_type": "display_data"
    },
    {
     "name": "stdin",
     "output_type": "stream",
     "text": [
      " Hello, I would like you to create custom workflow. Source and Destination should be 'MyExampleSourceS3-2' and 'MyExampleDestinationS3-2' respectively (they already exist). Workflow should be called 'Justhires'. I want hires strategy with include_page_breaks and extract_image_block_types set to Tables.  Then execute workflow.\n"
     ]
    },
    {
     "data": {
      "text/html": [
       "<pre style=\"white-space:pre;overflow-x:auto;line-height:normal;font-family:Menlo,'DejaVu Sans Mono',consolas,'Courier New',monospace\">\n",
       "</pre>\n"
      ],
      "text/plain": [
       "\n"
      ]
     },
     "metadata": {},
     "output_type": "display_data"
    },
    {
     "data": {
      "text/html": [
       "<pre style=\"white-space:pre;overflow-x:auto;line-height:normal;font-family:Menlo,'DejaVu Sans Mono',consolas,'Courier New',monospace\">\n",
       "<span style=\"color: #800000; text-decoration-color: #800000; font-weight: bold\">ASSISTANT</span>\n",
       "I'll help you create a custom workflow with the specified configuration and then execute it. Let me break this \n",
       "down:\n",
       "\n",
       "<span style=\"color: #008080; text-decoration-color: #008080; font-weight: bold\">1</span>. First, I'll create a custom workflow with:\n",
       "- Name: <span style=\"color: #008000; text-decoration-color: #008000\">\"Justhires\"</span>\n",
       "- Source ID: <span style=\"color: #008000; text-decoration-color: #008000\">\"MyExampleSourceS3-2\"</span>\n",
       "- Destination ID: <span style=\"color: #008000; text-decoration-color: #008000\">\"MyExampleDestinationS3-2\"</span>\n",
       "- A partitioner node using hi_res strategy with the specified settings\n",
       "\n",
       "<span style=\"color: #008080; text-decoration-color: #008080; font-weight: bold\">2</span>. Then I'll execute the workflow\n",
       "\n",
       "Here's the workflow creation:\n",
       "</pre>\n"
      ],
      "text/plain": [
       "\n",
       "\u001b[1;31mASSISTANT\u001b[0m\n",
       "I'll help you create a custom workflow with the specified configuration and then execute it. Let me break this \n",
       "down:\n",
       "\n",
       "\u001b[1;36m1\u001b[0m. First, I'll create a custom workflow with:\n",
       "- Name: \u001b[32m\"Justhires\"\u001b[0m\n",
       "- Source ID: \u001b[32m\"MyExampleSourceS3-2\"\u001b[0m\n",
       "- Destination ID: \u001b[32m\"MyExampleDestinationS3-2\"\u001b[0m\n",
       "- A partitioner node using hi_res strategy with the specified settings\n",
       "\n",
       "\u001b[1;36m2\u001b[0m. Then I'll execute the workflow\n",
       "\n",
       "Here's the workflow creation:\n"
      ]
     },
     "metadata": {},
     "output_type": "display_data"
    },
    {
     "data": {
      "text/html": [
       "<pre style=\"white-space:pre;overflow-x:auto;line-height:normal;font-family:Menlo,'DejaVu Sans Mono',consolas,'Courier New',monospace\">\n",
       "<span style=\"color: #008080; text-decoration-color: #008080; font-weight: bold\">TOOL CALL</span>\n",
       "Accept execution of create_workflow with args {'workflow_config': {'name': 'Justhires', 'source_id': \n",
       "'MyExampleSourceS3-2', 'destination_id': 'MyExampleDestinationS3-2', 'workflow_type': 'custom', 'workflow_nodes': \n",
       "[{'name': 'Partitioner', 'type': 'partition', 'subtype': 'unstructured_api', 'settings': {'strategy': 'hi_res', \n",
       "'include_page_breaks': True, 'extract_image_block_types': ['table']}}]}}? <span style=\"color: #800080; text-decoration-color: #800080; font-weight: bold\">[y/n]</span> <span style=\"color: #008080; text-decoration-color: #008080; font-weight: bold\">(y)</span>: </pre>\n"
      ],
      "text/plain": [
       "\n",
       "\u001b[1;36mTOOL CALL\u001b[0m\n",
       "Accept execution of create_workflow with args {'workflow_config': {'name': 'Justhires', 'source_id': \n",
       "'MyExampleSourceS3-2', 'destination_id': 'MyExampleDestinationS3-2', 'workflow_type': 'custom', 'workflow_nodes': \n",
       "[{'name': 'Partitioner', 'type': 'partition', 'subtype': 'unstructured_api', 'settings': {'strategy': 'hi_res', \n",
       "'include_page_breaks': True, 'extract_image_block_types': ['table']}}]}}? \u001b[1;35m[y/n]\u001b[0m \u001b[1;36m(y)\u001b[0m: "
      ]
     },
     "metadata": {},
     "output_type": "display_data"
    },
    {
     "name": "stdin",
     "output_type": "stream",
     "text": [
      " y\n"
     ]
    },
    {
     "data": {
      "text/html": [
       "<pre style=\"white-space:pre;overflow-x:auto;line-height:normal;font-family:Menlo,'DejaVu Sans Mono',consolas,'Courier New',monospace\">\n",
       "<span style=\"color: #008080; text-decoration-color: #008080; font-weight: bold\">TOOL OUTPUT</span>:\n",
       "Error creating workflow: <span style=\"font-weight: bold\">{</span><span style=\"color: #008000; text-decoration-color: #008000\">\"detail\"</span>:<span style=\"font-weight: bold\">[{</span><span style=\"color: #008000; text-decoration-color: #008000\">\"loc\"</span>:<span style=\"font-weight: bold\">[</span><span style=\"color: #008000; text-decoration-color: #008000\">\"body\"</span>,<span style=\"color: #008000; text-decoration-color: #008000\">\"source_id\"</span><span style=\"font-weight: bold\">]</span>,<span style=\"color: #008000; text-decoration-color: #008000\">\"msg\"</span>:<span style=\"color: #008000; text-decoration-color: #008000\">\"Input should be a valid UUID, invalid </span>\n",
       "<span style=\"color: #008000; text-decoration-color: #008000\">character: expected an optional prefix of `urn:uuid:` followed by [0-9a-fA-F-], found `M` at </span>\n",
       "<span style=\"color: #008000; text-decoration-color: #008000\">1\"</span>,<span style=\"color: #008000; text-decoration-color: #008000\">\"type\"</span>:<span style=\"color: #008000; text-decoration-color: #008000\">\"uuid_parsing\"</span><span style=\"font-weight: bold\">}</span>,<span style=\"font-weight: bold\">{</span><span style=\"color: #008000; text-decoration-color: #008000\">\"loc\"</span>:<span style=\"font-weight: bold\">[</span><span style=\"color: #008000; text-decoration-color: #008000\">\"body\"</span>,<span style=\"color: #008000; text-decoration-color: #008000\">\"destination_id\"</span><span style=\"font-weight: bold\">]</span>,<span style=\"color: #008000; text-decoration-color: #008000\">\"msg\"</span>:<span style=\"color: #008000; text-decoration-color: #008000\">\"Input should be a valid UUID, invalid character: </span>\n",
       "<span style=\"color: #008000; text-decoration-color: #008000\">expected an optional prefix of `urn:uuid:` followed by [0-9a-fA-F-], found `M` at 1\"</span>,<span style=\"color: #008000; text-decoration-color: #008000\">\"type\"</span>:<span style=\"color: #008000; text-decoration-color: #008000\">\"uuid_parsing\"</span><span style=\"font-weight: bold\">}]}</span>\n",
       "\n",
       "</pre>\n"
      ],
      "text/plain": [
       "\n",
       "\u001b[1;36mTOOL OUTPUT\u001b[0m:\n",
       "Error creating workflow: \u001b[1m{\u001b[0m\u001b[32m\"detail\"\u001b[0m:\u001b[1m[\u001b[0m\u001b[1m{\u001b[0m\u001b[32m\"loc\"\u001b[0m:\u001b[1m[\u001b[0m\u001b[32m\"body\"\u001b[0m,\u001b[32m\"source_id\"\u001b[0m\u001b[1m]\u001b[0m,\u001b[32m\"msg\"\u001b[0m:\u001b[32m\"Input should be a valid UUID, invalid \u001b[0m\n",
       "\u001b[32mcharacter: expected an optional prefix of `urn:uuid:` followed by \u001b[0m\u001b[32m[\u001b[0m\u001b[32m0-9a-fA-F-\u001b[0m\u001b[32m]\u001b[0m\u001b[32m, found `M` at \u001b[0m\n",
       "\u001b[32m1\"\u001b[0m,\u001b[32m\"type\"\u001b[0m:\u001b[32m\"uuid_parsing\"\u001b[0m\u001b[1m}\u001b[0m,\u001b[1m{\u001b[0m\u001b[32m\"loc\"\u001b[0m:\u001b[1m[\u001b[0m\u001b[32m\"body\"\u001b[0m,\u001b[32m\"destination_id\"\u001b[0m\u001b[1m]\u001b[0m,\u001b[32m\"msg\"\u001b[0m:\u001b[32m\"Input should be a valid UUID, invalid character: \u001b[0m\n",
       "\u001b[32mexpected an optional prefix of `urn:uuid:` followed by \u001b[0m\u001b[32m[\u001b[0m\u001b[32m0-9a-fA-F-\u001b[0m\u001b[32m]\u001b[0m\u001b[32m, found `M` at 1\"\u001b[0m,\u001b[32m\"type\"\u001b[0m:\u001b[32m\"uuid_parsing\"\u001b[0m\u001b[1m}\u001b[0m\u001b[1m]\u001b[0m\u001b[1m}\u001b[0m\n",
       "\n"
      ]
     },
     "metadata": {},
     "output_type": "display_data"
    },
    {
     "data": {
      "text/html": [
       "<pre style=\"white-space:pre;overflow-x:auto;line-height:normal;font-family:Menlo,'DejaVu Sans Mono',consolas,'Courier New',monospace\">\n",
       "<span style=\"color: #800000; text-decoration-color: #800000; font-weight: bold\">ASSISTANT</span>\n",
       "I apologize for the error. It seems we need the actual UUID values for the source and destination IDs rather than \n",
       "their names. Let me help you get those first:\n",
       "</pre>\n"
      ],
      "text/plain": [
       "\n",
       "\u001b[1;31mASSISTANT\u001b[0m\n",
       "I apologize for the error. It seems we need the actual UUID values for the source and destination IDs rather than \n",
       "their names. Let me help you get those first:\n"
      ]
     },
     "metadata": {},
     "output_type": "display_data"
    },
    {
     "data": {
      "text/html": [
       "<pre style=\"white-space:pre;overflow-x:auto;line-height:normal;font-family:Menlo,'DejaVu Sans Mono',consolas,'Courier New',monospace\">\n",
       "<span style=\"color: #008080; text-decoration-color: #008080; font-weight: bold\">TOOL CALL</span>\n",
       "Accept execution of list_sources with args {}? <span style=\"color: #800080; text-decoration-color: #800080; font-weight: bold\">[y/n]</span> <span style=\"color: #008080; text-decoration-color: #008080; font-weight: bold\">(y)</span>: </pre>\n"
      ],
      "text/plain": [
       "\n",
       "\u001b[1;36mTOOL CALL\u001b[0m\n",
       "Accept execution of list_sources with args {}? \u001b[1;35m[y/n]\u001b[0m \u001b[1;36m(y)\u001b[0m: "
      ]
     },
     "metadata": {},
     "output_type": "display_data"
    },
    {
     "name": "stdin",
     "output_type": "stream",
     "text": [
      " y\n"
     ]
    },
    {
     "data": {
      "text/html": [
       "<pre style=\"white-space:pre;overflow-x:auto;line-height:normal;font-family:Menlo,'DejaVu Sans Mono',consolas,'Courier New',monospace\">\n",
       "<span style=\"color: #008080; text-decoration-color: #008080; font-weight: bold\">TOOL OUTPUT</span>:\n",
       "Available sources:\n",
       "- azure-plutocontainer <span style=\"font-weight: bold\">(</span>ID: <span style=\"color: #ffff00; text-decoration-color: #ffff00\">f0124988-9209-4be6-ba93-e2f1fbb16342</span><span style=\"font-weight: bold\">)</span>\n",
       "- cool conector <span style=\"font-weight: bold\">(</span>ID: <span style=\"color: #ffff00; text-decoration-color: #ffff00\">207ac389-d571-42c1-ba59-606121ff77e9</span><span style=\"font-weight: bold\">)</span>\n",
       "- gdrive-online-<span style=\"color: #008080; text-decoration-color: #008080; font-weight: bold\">1</span> <span style=\"font-weight: bold\">(</span>ID: <span style=\"color: #ffff00; text-decoration-color: #ffff00\">c18e54fc-1baa-43de-8bc6-7dfb753fcf97</span><span style=\"font-weight: bold\">)</span>\n",
       "- MCPS3MegaSource <span style=\"font-weight: bold\">(</span>ID: <span style=\"color: #ffff00; text-decoration-color: #ffff00\">e852aaa4-10aa-43e6-afe3-33aafa147d9f</span><span style=\"font-weight: bold\">)</span>\n",
       "- MCPS3MegaSource <span style=\"font-weight: bold\">(</span>ID: <span style=\"color: #ffff00; text-decoration-color: #ffff00\">edca8aae-b6b3-449e-b5b0-e95db40f23f5</span><span style=\"font-weight: bold\">)</span>\n",
       "- MyExampleSourceS3-<span style=\"color: #008080; text-decoration-color: #008080; font-weight: bold\">1</span> <span style=\"font-weight: bold\">(</span>ID: <span style=\"color: #ffff00; text-decoration-color: #ffff00\">2568dccd-44ab-42b9-b636-8fd3293c94f3</span><span style=\"font-weight: bold\">)</span>\n",
       "- MyExampleSourceS3-<span style=\"color: #008080; text-decoration-color: #008080; font-weight: bold\">1</span> <span style=\"font-weight: bold\">(</span>ID: <span style=\"color: #ffff00; text-decoration-color: #ffff00\">6abe10ae-cff3-49a8-b4a6-263d0b63e2cc</span><span style=\"font-weight: bold\">)</span>\n",
       "- MyExampleSourceS3-<span style=\"color: #008080; text-decoration-color: #008080; font-weight: bold\">2</span> <span style=\"font-weight: bold\">(</span>ID: <span style=\"color: #ffff00; text-decoration-color: #ffff00\">cf16e8c7-6994-41d3-84f9-865c55a34bad</span><span style=\"font-weight: bold\">)</span>\n",
       "- MyExampleSourceS3-<span style=\"color: #008080; text-decoration-color: #008080; font-weight: bold\">2</span> <span style=\"font-weight: bold\">(</span>ID: <span style=\"color: #ffff00; text-decoration-color: #ffff00\">8db9508a-23a4-4bd0-8ea0-bef89c4326e1</span><span style=\"font-weight: bold\">)</span>\n",
       "- MyExampleSourceS3-<span style=\"color: #008080; text-decoration-color: #008080; font-weight: bold\">2</span> <span style=\"font-weight: bold\">(</span>ID: <span style=\"color: #ffff00; text-decoration-color: #ffff00\">c0aa92e2-84aa-459f-b455-8111817946c7</span><span style=\"font-weight: bold\">)</span>\n",
       "- MyExampleSourceS3-<span style=\"color: #008080; text-decoration-color: #008080; font-weight: bold\">2</span> <span style=\"font-weight: bold\">(</span>ID: <span style=\"color: #ffff00; text-decoration-color: #ffff00\">eef4534c-9cbc-4bee-b2c8-02215ae0a356</span><span style=\"font-weight: bold\">)</span>\n",
       "- myGdrivemcpsource-<span style=\"color: #008080; text-decoration-color: #008080; font-weight: bold\">1</span> <span style=\"font-weight: bold\">(</span>ID: <span style=\"color: #ffff00; text-decoration-color: #ffff00\">e29b8b1f-3818-4281-8111-954818f8b22f</span><span style=\"font-weight: bold\">)</span>\n",
       "\n",
       "</pre>\n"
      ],
      "text/plain": [
       "\n",
       "\u001b[1;36mTOOL OUTPUT\u001b[0m:\n",
       "Available sources:\n",
       "- azure-plutocontainer \u001b[1m(\u001b[0mID: \u001b[93mf0124988-9209-4be6-ba93-e2f1fbb16342\u001b[0m\u001b[1m)\u001b[0m\n",
       "- cool conector \u001b[1m(\u001b[0mID: \u001b[93m207ac389-d571-42c1-ba59-606121ff77e9\u001b[0m\u001b[1m)\u001b[0m\n",
       "- gdrive-online-\u001b[1;36m1\u001b[0m \u001b[1m(\u001b[0mID: \u001b[93mc18e54fc-1baa-43de-8bc6-7dfb753fcf97\u001b[0m\u001b[1m)\u001b[0m\n",
       "- MCPS3MegaSource \u001b[1m(\u001b[0mID: \u001b[93me852aaa4-10aa-43e6-afe3-33aafa147d9f\u001b[0m\u001b[1m)\u001b[0m\n",
       "- MCPS3MegaSource \u001b[1m(\u001b[0mID: \u001b[93medca8aae-b6b3-449e-b5b0-e95db40f23f5\u001b[0m\u001b[1m)\u001b[0m\n",
       "- MyExampleSourceS3-\u001b[1;36m1\u001b[0m \u001b[1m(\u001b[0mID: \u001b[93m2568dccd-44ab-42b9-b636-8fd3293c94f3\u001b[0m\u001b[1m)\u001b[0m\n",
       "- MyExampleSourceS3-\u001b[1;36m1\u001b[0m \u001b[1m(\u001b[0mID: \u001b[93m6abe10ae-cff3-49a8-b4a6-263d0b63e2cc\u001b[0m\u001b[1m)\u001b[0m\n",
       "- MyExampleSourceS3-\u001b[1;36m2\u001b[0m \u001b[1m(\u001b[0mID: \u001b[93mcf16e8c7-6994-41d3-84f9-865c55a34bad\u001b[0m\u001b[1m)\u001b[0m\n",
       "- MyExampleSourceS3-\u001b[1;36m2\u001b[0m \u001b[1m(\u001b[0mID: \u001b[93m8db9508a-23a4-4bd0-8ea0-bef89c4326e1\u001b[0m\u001b[1m)\u001b[0m\n",
       "- MyExampleSourceS3-\u001b[1;36m2\u001b[0m \u001b[1m(\u001b[0mID: \u001b[93mc0aa92e2-84aa-459f-b455-8111817946c7\u001b[0m\u001b[1m)\u001b[0m\n",
       "- MyExampleSourceS3-\u001b[1;36m2\u001b[0m \u001b[1m(\u001b[0mID: \u001b[93meef4534c-9cbc-4bee-b2c8-02215ae0a356\u001b[0m\u001b[1m)\u001b[0m\n",
       "- myGdrivemcpsource-\u001b[1;36m1\u001b[0m \u001b[1m(\u001b[0mID: \u001b[93me29b8b1f-3818-4281-8111-954818f8b22f\u001b[0m\u001b[1m)\u001b[0m\n",
       "\n"
      ]
     },
     "metadata": {},
     "output_type": "display_data"
    },
    {
     "data": {
      "text/html": [
       "<pre style=\"white-space:pre;overflow-x:auto;line-height:normal;font-family:Menlo,'DejaVu Sans Mono',consolas,'Courier New',monospace\">\n",
       "<span style=\"color: #008080; text-decoration-color: #008080; font-weight: bold\">TOOL CALL</span>\n",
       "Accept execution of list_destinations with args {}? <span style=\"color: #800080; text-decoration-color: #800080; font-weight: bold\">[y/n]</span> <span style=\"color: #008080; text-decoration-color: #008080; font-weight: bold\">(y)</span>: </pre>\n"
      ],
      "text/plain": [
       "\n",
       "\u001b[1;36mTOOL CALL\u001b[0m\n",
       "Accept execution of list_destinations with args {}? \u001b[1;35m[y/n]\u001b[0m \u001b[1;36m(y)\u001b[0m: "
      ]
     },
     "metadata": {},
     "output_type": "display_data"
    },
    {
     "name": "stdin",
     "output_type": "stream",
     "text": [
      " y\n"
     ]
    },
    {
     "data": {
      "text/html": [
       "<pre style=\"white-space:pre;overflow-x:auto;line-height:normal;font-family:Menlo,'DejaVu Sans Mono',consolas,'Courier New',monospace\">\n",
       "<span style=\"color: #008080; text-decoration-color: #008080; font-weight: bold\">TOOL OUTPUT</span>:\n",
       "Available destinations:\n",
       "- MCPS3Dest <span style=\"font-weight: bold\">(</span>ID: <span style=\"color: #ffff00; text-decoration-color: #ffff00\">429be83b-cfc4-43e9-afac-adb1b179b115</span><span style=\"font-weight: bold\">)</span>\n",
       "- MyExampleDestinationS3-<span style=\"color: #008080; text-decoration-color: #008080; font-weight: bold\">1</span> <span style=\"font-weight: bold\">(</span>ID: <span style=\"color: #ffff00; text-decoration-color: #ffff00\">5732bc45-1d61-4ab8-96ce-9828f5b97ed3</span><span style=\"font-weight: bold\">)</span>\n",
       "- MyExampleDestinationS3-<span style=\"color: #008080; text-decoration-color: #008080; font-weight: bold\">2</span> <span style=\"font-weight: bold\">(</span>ID: <span style=\"color: #ffff00; text-decoration-color: #ffff00\">02edcd8f-ff01-44b4-943b-38751f8906ee</span><span style=\"font-weight: bold\">)</span>\n",
       "- MyExampleDestinationS3-<span style=\"color: #008080; text-decoration-color: #008080; font-weight: bold\">2</span> <span style=\"font-weight: bold\">(</span>ID: <span style=\"color: #ffff00; text-decoration-color: #ffff00\">692cce21-4139-4e78-b8f6-cf5bfab98b7a</span><span style=\"font-weight: bold\">)</span>\n",
       "- MyExampleDestinationS3-<span style=\"color: #008080; text-decoration-color: #008080; font-weight: bold\">2</span> <span style=\"font-weight: bold\">(</span>ID: <span style=\"color: #ffff00; text-decoration-color: #ffff00\">d31b6e92-531b-480c-b971-a20b09c23d92</span><span style=\"font-weight: bold\">)</span>\n",
       "- MyExampleDestinationS3-<span style=\"color: #008080; text-decoration-color: #008080; font-weight: bold\">2</span> <span style=\"font-weight: bold\">(</span>ID: <span style=\"color: #ffff00; text-decoration-color: #ffff00\">835bb5ac-4ad0-40a7-86c6-cf56aaf862a8</span><span style=\"font-weight: bold\">)</span>\n",
       "- MyExampleDestinationS3-<span style=\"color: #008080; text-decoration-color: #008080; font-weight: bold\">2</span> <span style=\"font-weight: bold\">(</span>ID: <span style=\"color: #ffff00; text-decoration-color: #ffff00\">708335a0-6ca9-4fc6-bcc8-a6152e63f6ae</span><span style=\"font-weight: bold\">)</span>\n",
       "- neo4j-destination <span style=\"font-weight: bold\">(</span>ID: <span style=\"color: #ffff00; text-decoration-color: #ffff00\">4781ef0a-6076-47b0-ad9d-356076aaca9a</span><span style=\"font-weight: bold\">)</span>\n",
       "\n",
       "</pre>\n"
      ],
      "text/plain": [
       "\n",
       "\u001b[1;36mTOOL OUTPUT\u001b[0m:\n",
       "Available destinations:\n",
       "- MCPS3Dest \u001b[1m(\u001b[0mID: \u001b[93m429be83b-cfc4-43e9-afac-adb1b179b115\u001b[0m\u001b[1m)\u001b[0m\n",
       "- MyExampleDestinationS3-\u001b[1;36m1\u001b[0m \u001b[1m(\u001b[0mID: \u001b[93m5732bc45-1d61-4ab8-96ce-9828f5b97ed3\u001b[0m\u001b[1m)\u001b[0m\n",
       "- MyExampleDestinationS3-\u001b[1;36m2\u001b[0m \u001b[1m(\u001b[0mID: \u001b[93m02edcd8f-ff01-44b4-943b-38751f8906ee\u001b[0m\u001b[1m)\u001b[0m\n",
       "- MyExampleDestinationS3-\u001b[1;36m2\u001b[0m \u001b[1m(\u001b[0mID: \u001b[93m692cce21-4139-4e78-b8f6-cf5bfab98b7a\u001b[0m\u001b[1m)\u001b[0m\n",
       "- MyExampleDestinationS3-\u001b[1;36m2\u001b[0m \u001b[1m(\u001b[0mID: \u001b[93md31b6e92-531b-480c-b971-a20b09c23d92\u001b[0m\u001b[1m)\u001b[0m\n",
       "- MyExampleDestinationS3-\u001b[1;36m2\u001b[0m \u001b[1m(\u001b[0mID: \u001b[93m835bb5ac-4ad0-40a7-86c6-cf56aaf862a8\u001b[0m\u001b[1m)\u001b[0m\n",
       "- MyExampleDestinationS3-\u001b[1;36m2\u001b[0m \u001b[1m(\u001b[0mID: \u001b[93m708335a0-6ca9-4fc6-bcc8-a6152e63f6ae\u001b[0m\u001b[1m)\u001b[0m\n",
       "- neo4j-destination \u001b[1m(\u001b[0mID: \u001b[93m4781ef0a-6076-47b0-ad9d-356076aaca9a\u001b[0m\u001b[1m)\u001b[0m\n",
       "\n"
      ]
     },
     "metadata": {},
     "output_type": "display_data"
    },
    {
     "data": {
      "text/html": [
       "<pre style=\"white-space:pre;overflow-x:auto;line-height:normal;font-family:Menlo,'DejaVu Sans Mono',consolas,'Courier New',monospace\">\n",
       "<span style=\"color: #800000; text-decoration-color: #800000; font-weight: bold\">ASSISTANT</span>\n",
       "Now I'll create the workflow using the most recent UUIDs for your source and destination:\n",
       "</pre>\n"
      ],
      "text/plain": [
       "\n",
       "\u001b[1;31mASSISTANT\u001b[0m\n",
       "Now I'll create the workflow using the most recent UUIDs for your source and destination:\n"
      ]
     },
     "metadata": {},
     "output_type": "display_data"
    },
    {
     "data": {
      "text/html": [
       "<pre style=\"white-space:pre;overflow-x:auto;line-height:normal;font-family:Menlo,'DejaVu Sans Mono',consolas,'Courier New',monospace\">\n",
       "<span style=\"color: #008080; text-decoration-color: #008080; font-weight: bold\">TOOL CALL</span>\n",
       "Accept execution of create_workflow with args {'workflow_config': {'name': 'Justhires', 'source_id': \n",
       "'eef4534c-9cbc-4bee-b2c8-02215ae0a356', 'destination_id': '708335a0-6ca9-4fc6-bcc8-a6152e63f6ae', 'workflow_type': \n",
       "'custom', 'workflow_nodes': [{'name': 'Partitioner', 'type': 'partition', 'subtype': 'unstructured_api', \n",
       "'settings': {'strategy': 'hi_res', 'include_page_breaks': True, 'extract_image_block_types': ['table']}}]}}? <span style=\"color: #800080; text-decoration-color: #800080; font-weight: bold\">[y/n]</span> \n",
       "<span style=\"color: #008080; text-decoration-color: #008080; font-weight: bold\">(y)</span>: </pre>\n"
      ],
      "text/plain": [
       "\n",
       "\u001b[1;36mTOOL CALL\u001b[0m\n",
       "Accept execution of create_workflow with args {'workflow_config': {'name': 'Justhires', 'source_id': \n",
       "'eef4534c-9cbc-4bee-b2c8-02215ae0a356', 'destination_id': '708335a0-6ca9-4fc6-bcc8-a6152e63f6ae', 'workflow_type': \n",
       "'custom', 'workflow_nodes': [{'name': 'Partitioner', 'type': 'partition', 'subtype': 'unstructured_api', \n",
       "'settings': {'strategy': 'hi_res', 'include_page_breaks': True, 'extract_image_block_types': ['table']}}]}}? \u001b[1;35m[y/n]\u001b[0m \n",
       "\u001b[1;36m(y)\u001b[0m: "
      ]
     },
     "metadata": {},
     "output_type": "display_data"
    },
    {
     "name": "stdin",
     "output_type": "stream",
     "text": [
      " y\n"
     ]
    },
    {
     "data": {
      "text/html": [
       "<pre style=\"white-space:pre;overflow-x:auto;line-height:normal;font-family:Menlo,'DejaVu Sans Mono',consolas,'Courier New',monospace\">\n",
       "<span style=\"color: #008080; text-decoration-color: #008080; font-weight: bold\">TOOL OUTPUT</span>:\n",
       "Workflow Information:\n",
       "Name: Justhires\n",
       "ID: <span style=\"color: #ffff00; text-decoration-color: #ffff00\">2d9a5e05-27b2-4470-9201-16f86f95e28d</span>\n",
       "Status: WorkflowState.ACTIVE\n",
       "Type: WorkflowType.CUSTOM\n",
       "\n",
       "Sources:\n",
       "  - <span style=\"color: #ffff00; text-decoration-color: #ffff00\">eef4534c-9cbc-4bee-b2c8-02215ae0a356</span>\n",
       "\n",
       "Destinations:\n",
       "  - <span style=\"color: #ffff00; text-decoration-color: #ffff00\">708335a0-6ca9-4fc6-bcc8-a6152e63f6ae</span>\n",
       "\n",
       "Schedule:\n",
       "\n",
       "</pre>\n"
      ],
      "text/plain": [
       "\n",
       "\u001b[1;36mTOOL OUTPUT\u001b[0m:\n",
       "Workflow Information:\n",
       "Name: Justhires\n",
       "ID: \u001b[93m2d9a5e05-27b2-4470-9201-16f86f95e28d\u001b[0m\n",
       "Status: WorkflowState.ACTIVE\n",
       "Type: WorkflowType.CUSTOM\n",
       "\n",
       "Sources:\n",
       "  - \u001b[93meef4534c-9cbc-4bee-b2c8-02215ae0a356\u001b[0m\n",
       "\n",
       "Destinations:\n",
       "  - \u001b[93m708335a0-6ca9-4fc6-bcc8-a6152e63f6ae\u001b[0m\n",
       "\n",
       "Schedule:\n",
       "\n"
      ]
     },
     "metadata": {},
     "output_type": "display_data"
    },
    {
     "data": {
      "text/html": [
       "<pre style=\"white-space:pre;overflow-x:auto;line-height:normal;font-family:Menlo,'DejaVu Sans Mono',consolas,'Courier New',monospace\">\n",
       "<span style=\"color: #800000; text-decoration-color: #800000; font-weight: bold\">ASSISTANT</span>\n",
       "Now that the workflow is created, let me execute it:\n",
       "</pre>\n"
      ],
      "text/plain": [
       "\n",
       "\u001b[1;31mASSISTANT\u001b[0m\n",
       "Now that the workflow is created, let me execute it:\n"
      ]
     },
     "metadata": {},
     "output_type": "display_data"
    },
    {
     "data": {
      "text/html": [
       "<pre style=\"white-space:pre;overflow-x:auto;line-height:normal;font-family:Menlo,'DejaVu Sans Mono',consolas,'Courier New',monospace\">\n",
       "<span style=\"color: #008080; text-decoration-color: #008080; font-weight: bold\">TOOL CALL</span>\n",
       "Accept execution of run_workflow with args {'workflow_id': '2d9a5e05-27b2-4470-9201-16f86f95e28d'}? <span style=\"color: #800080; text-decoration-color: #800080; font-weight: bold\">[y/n]</span> <span style=\"color: #008080; text-decoration-color: #008080; font-weight: bold\">(y)</span>: </pre>\n"
      ],
      "text/plain": [
       "\n",
       "\u001b[1;36mTOOL CALL\u001b[0m\n",
       "Accept execution of run_workflow with args {'workflow_id': '2d9a5e05-27b2-4470-9201-16f86f95e28d'}? \u001b[1;35m[y/n]\u001b[0m \u001b[1;36m(y)\u001b[0m: "
      ]
     },
     "metadata": {},
     "output_type": "display_data"
    },
    {
     "name": "stdin",
     "output_type": "stream",
     "text": [
      " yy\n"
     ]
    },
    {
     "data": {
      "text/html": [
       "<pre style=\"white-space:pre;overflow-x:auto;line-height:normal;font-family:Menlo,'DejaVu Sans Mono',consolas,'Courier New',monospace\"><span style=\"color: #800000; text-decoration-color: #800000\">Please enter Y or N</span>\n",
       "</pre>\n"
      ],
      "text/plain": [
       "\u001b[31mPlease enter Y or N\u001b[0m\n"
      ]
     },
     "metadata": {},
     "output_type": "display_data"
    },
    {
     "data": {
      "text/html": [
       "<pre style=\"white-space:pre;overflow-x:auto;line-height:normal;font-family:Menlo,'DejaVu Sans Mono',consolas,'Courier New',monospace\">\n",
       "<span style=\"color: #008080; text-decoration-color: #008080; font-weight: bold\">TOOL CALL</span>\n",
       "Accept execution of run_workflow with args {'workflow_id': '2d9a5e05-27b2-4470-9201-16f86f95e28d'}? <span style=\"color: #800080; text-decoration-color: #800080; font-weight: bold\">[y/n]</span> <span style=\"color: #008080; text-decoration-color: #008080; font-weight: bold\">(y)</span>: </pre>\n"
      ],
      "text/plain": [
       "\n",
       "\u001b[1;36mTOOL CALL\u001b[0m\n",
       "Accept execution of run_workflow with args {'workflow_id': '2d9a5e05-27b2-4470-9201-16f86f95e28d'}? \u001b[1;35m[y/n]\u001b[0m \u001b[1;36m(y)\u001b[0m: "
      ]
     },
     "metadata": {},
     "output_type": "display_data"
    },
    {
     "name": "stdin",
     "output_type": "stream",
     "text": [
      " y\n"
     ]
    },
    {
     "data": {
      "text/html": [
       "<pre style=\"white-space:pre;overflow-x:auto;line-height:normal;font-family:Menlo,'DejaVu Sans Mono',consolas,'Courier New',monospace\">\n",
       "<span style=\"color: #008080; text-decoration-color: #008080; font-weight: bold\">TOOL OUTPUT</span>:\n",
       "Workflow execution initiated: <span style=\"font-weight: bold\">&lt;</span><span style=\"color: #ff00ff; text-decoration-color: #ff00ff; font-weight: bold\">Response</span><span style=\"color: #000000; text-decoration-color: #000000\"> </span><span style=\"color: #000000; text-decoration-color: #000000; font-weight: bold\">[</span><span style=\"color: #008080; text-decoration-color: #008080; font-weight: bold\">202</span><span style=\"color: #000000; text-decoration-color: #000000\"> Accepted</span><span style=\"color: #000000; text-decoration-color: #000000; font-weight: bold\">]</span><span style=\"font-weight: bold\">&gt;</span>\n",
       "\n",
       "</pre>\n"
      ],
      "text/plain": [
       "\n",
       "\u001b[1;36mTOOL OUTPUT\u001b[0m:\n",
       "Workflow execution initiated: \u001b[1m<\u001b[0m\u001b[1;95mResponse\u001b[0m\u001b[39m \u001b[0m\u001b[1;39m[\u001b[0m\u001b[1;36m202\u001b[0m\u001b[39m Accepted\u001b[0m\u001b[1;39m]\u001b[0m\u001b[1m>\u001b[0m\n",
       "\n"
      ]
     },
     "metadata": {},
     "output_type": "display_data"
    },
    {
     "data": {
      "text/html": [
       "<pre style=\"white-space:pre;overflow-x:auto;line-height:normal;font-family:Menlo,'DejaVu Sans Mono',consolas,'Courier New',monospace\">\n",
       "<span style=\"color: #800000; text-decoration-color: #800000; font-weight: bold\">ASSISTANT</span>\n",
       "I've completed both tasks:\n",
       "<span style=\"color: #008080; text-decoration-color: #008080; font-weight: bold\">1</span>. Created a custom workflow named <span style=\"color: #008000; text-decoration-color: #008000\">\"Justhires\"</span> with the specified hi_res strategy configuration\n",
       "<span style=\"color: #008080; text-decoration-color: #008080; font-weight: bold\">2</span>. Executed the workflow\n",
       "\n",
       "The workflow has been successfully created with ID <span style=\"color: #ffff00; text-decoration-color: #ffff00\">2d9a5e05-27b2-4470-9201-16f86f95e28d</span> and its execution has been \n",
       "initiated. The workflow is set up with the hi_res strategy, include_page_breaks enabled, and will extract table \n",
       "images as specified.\n",
       "\n",
       "You can monitor the progress of this execution by checking the job status using the list_jobs or get_job_info \n",
       "functions if needed. Would you like me to help you check the status of this workflow execution?\n",
       "</pre>\n"
      ],
      "text/plain": [
       "\n",
       "\u001b[1;31mASSISTANT\u001b[0m\n",
       "I've completed both tasks:\n",
       "\u001b[1;36m1\u001b[0m. Created a custom workflow named \u001b[32m\"Justhires\"\u001b[0m with the specified hi_res strategy configuration\n",
       "\u001b[1;36m2\u001b[0m. Executed the workflow\n",
       "\n",
       "The workflow has been successfully created with ID \u001b[93m2d9a5e05-27b2-4470-9201-16f86f95e28d\u001b[0m and its execution has been \n",
       "initiated. The workflow is set up with the hi_res strategy, include_page_breaks enabled, and will extract table \n",
       "images as specified.\n",
       "\n",
       "You can monitor the progress of this execution by checking the job status using the list_jobs or get_job_info \n",
       "functions if needed. Would you like me to help you check the status of this workflow execution?\n"
      ]
     },
     "metadata": {},
     "output_type": "display_data"
    },
    {
     "data": {
      "text/html": [
       "<pre style=\"white-space:pre;overflow-x:auto;line-height:normal;font-family:Menlo,'DejaVu Sans Mono',consolas,'Courier New',monospace\">\n",
       "<span style=\"color: #008000; text-decoration-color: #008000; font-weight: bold\">Query</span> (q/quit to end chat): </pre>\n"
      ],
      "text/plain": [
       "\n",
       "\u001b[1;32mQuery\u001b[0m (q/quit to end chat): "
      ]
     },
     "metadata": {},
     "output_type": "display_data"
    }
   ],
   "source": [
    "client = MCPClient()\n",
    "try:\n",
    "    await client.connect_to_server(\"http://127.0.0.1:8080/sse\")\n",
    "    await client.chat_loop()\n",
    "finally:\n",
    "    await client.cleanup()"
   ]
  },
  {
   "cell_type": "code",
   "execution_count": null,
   "id": "830cb6efec14b0f1",
   "metadata": {},
   "outputs": [],
   "source": []
  }
 ],
 "metadata": {
  "kernelspec": {
   "display_name": "Python 3 (ipykernel)",
   "language": "python",
   "name": "python3"
  },
  "language_info": {
   "codemirror_mode": {
    "name": "ipython",
    "version": 3
   },
   "file_extension": ".py",
   "mimetype": "text/x-python",
   "name": "python",
   "nbconvert_exporter": "python",
   "pygments_lexer": "ipython3",
   "version": "3.12.3"
  }
 },
 "nbformat": 4,
 "nbformat_minor": 5
}
