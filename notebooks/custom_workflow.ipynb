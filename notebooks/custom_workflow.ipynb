{
 "cells": [
  {
   "cell_type": "code",
   "execution_count": 1,
   "id": "7de0b69d1a7608c3",
   "metadata": {},
   "outputs": [],
   "source": [
    "from pathlib import Path\n",
    "import os\n",
    "\n",
    "# Set working directory at top level or repository\n",
    "os.chdir(Path.cwd().parent)"
   ]
  },
  {
   "cell_type": "code",
   "execution_count": 2,
   "id": "a246652d70073480",
   "metadata": {},
   "outputs": [],
   "source": [
    "from minimal_client.client import MCPClient"
   ]
  },
  {
   "cell_type": "code",
   "execution_count": 3,
   "id": "ffae6980b63ca672",
   "metadata": {},
   "outputs": [],
   "source": [
    "query = \"\"\"\n",
    "Hello, I would like you to create: a new S3 source connector and S3 destination connector. Call them 'MyExampleSourceS3-2' and 'MyExampleDestinationS3-2' respectively. S3 uri is 's3://crag-protected-but-non-sensitive/pluto/example_input/' and 's3://crag-protected-but-non-sensitive/pluto/example_output/'. Workflow should be called 'MycustomVLMandChunkingwithEmbedding'. I want VLM strategy with anthropic model, chunk by title chunking with 1050 characters split size and embedding with azure_openai model. Then execute workflow.\n",
    "\"\"\""
   ]
  },
  {
   "cell_type": "code",
   "execution_count": 4,
   "id": "d3bcb7cfbc3e613a",
   "metadata": {},
   "outputs": [
    {
     "data": {
      "text/html": [
       "<pre style=\"white-space:pre;overflow-x:auto;line-height:normal;font-family:Menlo,'DejaVu Sans Mono',consolas,'Courier New',monospace\">\n",
       "<span style=\"color: #008000; text-decoration-color: #008000; font-weight: bold\">Query</span> (q/quit to end chat): </pre>\n"
      ],
      "text/plain": [
       "\n",
       "\u001b[1;32mQuery\u001b[0m (q/quit to end chat): "
      ]
     },
     "metadata": {},
     "output_type": "display_data"
    },
    {
     "name": "stdin",
     "output_type": "stream",
     "text": [
      " Hello, I would like you to create: a new S3 source connector and S3 destination connector. Call them 'MyExampleSourceS3-2' and 'MyExampleDestinationS3-2' respectively. S3 uri is 's3://crag-protected-but-non-sensitive/pluto/example_input/' and 's3://crag-protected-but-non-sensitive/pluto/example_output/'. Workflow should be called 'MycustomVLMandChunkingwithEmbedding'. I want VLM strategy with anthropic model, chunk by title chunking with 1050 characters split size and embedding with azure_openai model. Then execute workflow.\n"
     ]
    },
    {
     "data": {
      "text/html": [
       "<pre style=\"white-space:pre;overflow-x:auto;line-height:normal;font-family:Menlo,'DejaVu Sans Mono',consolas,'Courier New',monospace\">\n",
       "</pre>\n"
      ],
      "text/plain": [
       "\n"
      ]
     },
     "metadata": {},
     "output_type": "display_data"
    },
    {
     "data": {
      "text/html": [
       "<pre style=\"white-space:pre;overflow-x:auto;line-height:normal;font-family:Menlo,'DejaVu Sans Mono',consolas,'Courier New',monospace\">\n",
       "<span style=\"color: #800000; text-decoration-color: #800000; font-weight: bold\">ASSISTANT</span>\n",
       "I'll help you create the source and destination connectors, set up a custom workflow with VLM partitioning, \n",
       "chunking, and embedding, and then execute it. Let's break this down into steps:\n",
       "\n",
       "<span style=\"color: #008080; text-decoration-color: #008080; font-weight: bold\">1</span>. First, let's create the S3 source connector:\n",
       "</pre>\n"
      ],
      "text/plain": [
       "\n",
       "\u001b[1;31mASSISTANT\u001b[0m\n",
       "I'll help you create the source and destination connectors, set up a custom workflow with VLM partitioning, \n",
       "chunking, and embedding, and then execute it. Let's break this down into steps:\n",
       "\n",
       "\u001b[1;36m1\u001b[0m. First, let's create the S3 source connector:\n"
      ]
     },
     "metadata": {},
     "output_type": "display_data"
    },
    {
     "data": {
      "text/html": [
       "<pre style=\"white-space:pre;overflow-x:auto;line-height:normal;font-family:Menlo,'DejaVu Sans Mono',consolas,'Courier New',monospace\">\n",
       "<span style=\"color: #008080; text-decoration-color: #008080; font-weight: bold\">TOOL CALL</span>\n",
       "Accept execution of create_source_connector with args {'name': 'MyExampleSourceS3-2', 'source_type': 's3', \n",
       "'type_specific_config': {'remote_url': 's3://crag-protected-but-non-sensitive/pluto/example_input/'}}? <span style=\"color: #800080; text-decoration-color: #800080; font-weight: bold\">[y/n]</span> <span style=\"color: #008080; text-decoration-color: #008080; font-weight: bold\">(y)</span>: </pre>\n"
      ],
      "text/plain": [
       "\n",
       "\u001b[1;36mTOOL CALL\u001b[0m\n",
       "Accept execution of create_source_connector with args {'name': 'MyExampleSourceS3-2', 'source_type': 's3', \n",
       "'type_specific_config': {'remote_url': 's3://crag-protected-but-non-sensitive/pluto/example_input/'}}? \u001b[1;35m[y/n]\u001b[0m \u001b[1;36m(y)\u001b[0m: "
      ]
     },
     "metadata": {},
     "output_type": "display_data"
    },
    {
     "name": "stdin",
     "output_type": "stream",
     "text": [
      " y\n"
     ]
    },
    {
     "data": {
      "text/html": [
       "<pre style=\"white-space:pre;overflow-x:auto;line-height:normal;font-family:Menlo,'DejaVu Sans Mono',consolas,'Courier New',monospace\">\n",
       "<span style=\"color: #008080; text-decoration-color: #008080; font-weight: bold\">TOOL OUTPUT</span>:\n",
       "S3 Source Connector Created:\n",
       "Name: MyExampleSourceS3-<span style=\"color: #008080; text-decoration-color: #008080; font-weight: bold\">2</span>\n",
       "ID: <span style=\"color: #ffff00; text-decoration-color: #ffff00\">a9d79ca4-ff47-48e5-9481-776fd9c84041</span>\n",
       "\n",
       "</pre>\n"
      ],
      "text/plain": [
       "\n",
       "\u001b[1;36mTOOL OUTPUT\u001b[0m:\n",
       "S3 Source Connector Created:\n",
       "Name: MyExampleSourceS3-\u001b[1;36m2\u001b[0m\n",
       "ID: \u001b[93ma9d79ca4-ff47-48e5-9481-776fd9c84041\u001b[0m\n",
       "\n"
      ]
     },
     "metadata": {},
     "output_type": "display_data"
    },
    {
     "data": {
      "text/html": [
       "<pre style=\"white-space:pre;overflow-x:auto;line-height:normal;font-family:Menlo,'DejaVu Sans Mono',consolas,'Courier New',monospace\">\n",
       "<span style=\"color: #800000; text-decoration-color: #800000; font-weight: bold\">ASSISTANT</span>\n",
       "<span style=\"color: #008080; text-decoration-color: #008080; font-weight: bold\">2</span>. Now, let's create the S3 destination connector:\n",
       "</pre>\n"
      ],
      "text/plain": [
       "\n",
       "\u001b[1;31mASSISTANT\u001b[0m\n",
       "\u001b[1;36m2\u001b[0m. Now, let's create the S3 destination connector:\n"
      ]
     },
     "metadata": {},
     "output_type": "display_data"
    },
    {
     "data": {
      "text/html": [
       "<pre style=\"white-space:pre;overflow-x:auto;line-height:normal;font-family:Menlo,'DejaVu Sans Mono',consolas,'Courier New',monospace\">\n",
       "<span style=\"color: #008080; text-decoration-color: #008080; font-weight: bold\">TOOL CALL</span>\n",
       "Accept execution of create_destination_connector with args {'name': 'MyExampleDestinationS3-2', 'destination_type':\n",
       "'s3', 'type_specific_config': {'remote_url': 's3://crag-protected-but-non-sensitive/pluto/example_output/'}}? <span style=\"color: #800080; text-decoration-color: #800080; font-weight: bold\">[y/n]</span>\n",
       "<span style=\"color: #008080; text-decoration-color: #008080; font-weight: bold\">(y)</span>: </pre>\n"
      ],
      "text/plain": [
       "\n",
       "\u001b[1;36mTOOL CALL\u001b[0m\n",
       "Accept execution of create_destination_connector with args {'name': 'MyExampleDestinationS3-2', 'destination_type':\n",
       "'s3', 'type_specific_config': {'remote_url': 's3://crag-protected-but-non-sensitive/pluto/example_output/'}}? \u001b[1;35m[y/n]\u001b[0m\n",
       "\u001b[1;36m(y)\u001b[0m: "
      ]
     },
     "metadata": {},
     "output_type": "display_data"
    },
    {
     "name": "stdin",
     "output_type": "stream",
     "text": [
      " y\n"
     ]
    },
    {
     "data": {
      "text/html": [
       "<pre style=\"white-space:pre;overflow-x:auto;line-height:normal;font-family:Menlo,'DejaVu Sans Mono',consolas,'Courier New',monospace\">\n",
       "<span style=\"color: #008080; text-decoration-color: #008080; font-weight: bold\">TOOL OUTPUT</span>:\n",
       "S3 Destination Connector Created:\n",
       "Name: MyExampleDestinationS3-<span style=\"color: #008080; text-decoration-color: #008080; font-weight: bold\">2</span>\n",
       "ID: <span style=\"color: #ffff00; text-decoration-color: #ffff00\">4c02ae55-deed-4d61-9834-1d222fa95386</span>\n",
       "\n",
       "</pre>\n"
      ],
      "text/plain": [
       "\n",
       "\u001b[1;36mTOOL OUTPUT\u001b[0m:\n",
       "S3 Destination Connector Created:\n",
       "Name: MyExampleDestinationS3-\u001b[1;36m2\u001b[0m\n",
       "ID: \u001b[93m4c02ae55-deed-4d61-9834-1d222fa95386\u001b[0m\n",
       "\n"
      ]
     },
     "metadata": {},
     "output_type": "display_data"
    },
    {
     "data": {
      "text/html": [
       "<pre style=\"white-space:pre;overflow-x:auto;line-height:normal;font-family:Menlo,'DejaVu Sans Mono',consolas,'Courier New',monospace\">\n",
       "<span style=\"color: #800000; text-decoration-color: #800000; font-weight: bold\">ASSISTANT</span>\n",
       "<span style=\"color: #008080; text-decoration-color: #008080; font-weight: bold\">3</span>. Now, let's create the custom workflow with VLM partitioning, chunking, and embedding:\n",
       "</pre>\n"
      ],
      "text/plain": [
       "\n",
       "\u001b[1;31mASSISTANT\u001b[0m\n",
       "\u001b[1;36m3\u001b[0m. Now, let's create the custom workflow with VLM partitioning, chunking, and embedding:\n"
      ]
     },
     "metadata": {},
     "output_type": "display_data"
    },
    {
     "data": {
      "text/html": [
       "<pre style=\"white-space:pre;overflow-x:auto;line-height:normal;font-family:Menlo,'DejaVu Sans Mono',consolas,'Courier New',monospace\">\n",
       "<span style=\"color: #008080; text-decoration-color: #008080; font-weight: bold\">TOOL CALL</span>\n",
       "Accept execution of create_workflow with args {'workflow_config': {'name': 'MycustomVLMandChunkingwithEmbedding', \n",
       "'workflow_type': 'custom', 'source_id': 'a9d79ca4-ff47-48e5-9481-776fd9c84041', 'destination_id': \n",
       "'4c02ae55-deed-4d61-9834-1d222fa95386', 'workflow_nodes': [{'name': 'VLM-Partitioner', 'type': 'partition', \n",
       "'subtype': 'vlm', 'settings': {'provider': 'anthropic', 'model': 'claude-3-5-sonnet-20241022'}}, {'name': \n",
       "'Title-Chunker', 'type': 'chunk', 'subtype': 'chunk_by_title', 'settings': {'max_characters': 1050, \n",
       "'new_after_n_chars': 1050, 'overlap': 0}}, {'name': 'Azure-Embedder', 'type': 'embed', 'subtype': 'azure_openai', \n",
       "'settings': {'model_name': 'text-embedding-3-small'}}]}}? <span style=\"color: #800080; text-decoration-color: #800080; font-weight: bold\">[y/n]</span> <span style=\"color: #008080; text-decoration-color: #008080; font-weight: bold\">(y)</span>: </pre>\n"
      ],
      "text/plain": [
       "\n",
       "\u001b[1;36mTOOL CALL\u001b[0m\n",
       "Accept execution of create_workflow with args {'workflow_config': {'name': 'MycustomVLMandChunkingwithEmbedding', \n",
       "'workflow_type': 'custom', 'source_id': 'a9d79ca4-ff47-48e5-9481-776fd9c84041', 'destination_id': \n",
       "'4c02ae55-deed-4d61-9834-1d222fa95386', 'workflow_nodes': [{'name': 'VLM-Partitioner', 'type': 'partition', \n",
       "'subtype': 'vlm', 'settings': {'provider': 'anthropic', 'model': 'claude-3-5-sonnet-20241022'}}, {'name': \n",
       "'Title-Chunker', 'type': 'chunk', 'subtype': 'chunk_by_title', 'settings': {'max_characters': 1050, \n",
       "'new_after_n_chars': 1050, 'overlap': 0}}, {'name': 'Azure-Embedder', 'type': 'embed', 'subtype': 'azure_openai', \n",
       "'settings': {'model_name': 'text-embedding-3-small'}}]}}? \u001b[1;35m[y/n]\u001b[0m \u001b[1;36m(y)\u001b[0m: "
      ]
     },
     "metadata": {},
     "output_type": "display_data"
    },
    {
     "name": "stdin",
     "output_type": "stream",
     "text": [
      " y\n"
     ]
    },
    {
     "data": {
      "text/html": [
       "<pre style=\"white-space:pre;overflow-x:auto;line-height:normal;font-family:Menlo,'DejaVu Sans Mono',consolas,'Courier New',monospace\">\n",
       "<span style=\"color: #008080; text-decoration-color: #008080; font-weight: bold\">TOOL OUTPUT</span>:\n",
       "Workflow Information:\n",
       "Name: MycustomVLMandChunkingwithEmbedding\n",
       "ID: <span style=\"color: #ffff00; text-decoration-color: #ffff00\">595d3a54-f784-4044-8ca5-14c8c73c7a7f</span>\n",
       "Status: WorkflowState.ACTIVE\n",
       "Type: WorkflowType.CUSTOM\n",
       "\n",
       "Sources:\n",
       "  - <span style=\"color: #ffff00; text-decoration-color: #ffff00\">a9d79ca4-ff47-48e5-9481-776fd9c84041</span>\n",
       "\n",
       "Destinations:\n",
       "  - <span style=\"color: #ffff00; text-decoration-color: #ffff00\">4c02ae55-deed-4d61-9834-1d222fa95386</span>\n",
       "\n",
       "Schedule:\n",
       "\n",
       "</pre>\n"
      ],
      "text/plain": [
       "\n",
       "\u001b[1;36mTOOL OUTPUT\u001b[0m:\n",
       "Workflow Information:\n",
       "Name: MycustomVLMandChunkingwithEmbedding\n",
       "ID: \u001b[93m595d3a54-f784-4044-8ca5-14c8c73c7a7f\u001b[0m\n",
       "Status: WorkflowState.ACTIVE\n",
       "Type: WorkflowType.CUSTOM\n",
       "\n",
       "Sources:\n",
       "  - \u001b[93ma9d79ca4-ff47-48e5-9481-776fd9c84041\u001b[0m\n",
       "\n",
       "Destinations:\n",
       "  - \u001b[93m4c02ae55-deed-4d61-9834-1d222fa95386\u001b[0m\n",
       "\n",
       "Schedule:\n",
       "\n"
      ]
     },
     "metadata": {},
     "output_type": "display_data"
    },
    {
     "data": {
      "text/html": [
       "<pre style=\"white-space:pre;overflow-x:auto;line-height:normal;font-family:Menlo,'DejaVu Sans Mono',consolas,'Courier New',monospace\">\n",
       "<span style=\"color: #800000; text-decoration-color: #800000; font-weight: bold\">ASSISTANT</span>\n",
       "<span style=\"color: #008080; text-decoration-color: #008080; font-weight: bold\">4</span>. Finally, let's execute the workflow:\n",
       "</pre>\n"
      ],
      "text/plain": [
       "\n",
       "\u001b[1;31mASSISTANT\u001b[0m\n",
       "\u001b[1;36m4\u001b[0m. Finally, let's execute the workflow:\n"
      ]
     },
     "metadata": {},
     "output_type": "display_data"
    },
    {
     "data": {
      "text/html": [
       "<pre style=\"white-space:pre;overflow-x:auto;line-height:normal;font-family:Menlo,'DejaVu Sans Mono',consolas,'Courier New',monospace\">\n",
       "<span style=\"color: #008080; text-decoration-color: #008080; font-weight: bold\">TOOL CALL</span>\n",
       "Accept execution of run_workflow with args {'workflow_id': '595d3a54-f784-4044-8ca5-14c8c73c7a7f'}? <span style=\"color: #800080; text-decoration-color: #800080; font-weight: bold\">[y/n]</span> <span style=\"color: #008080; text-decoration-color: #008080; font-weight: bold\">(y)</span>: </pre>\n"
      ],
      "text/plain": [
       "\n",
       "\u001b[1;36mTOOL CALL\u001b[0m\n",
       "Accept execution of run_workflow with args {'workflow_id': '595d3a54-f784-4044-8ca5-14c8c73c7a7f'}? \u001b[1;35m[y/n]\u001b[0m \u001b[1;36m(y)\u001b[0m: "
      ]
     },
     "metadata": {},
     "output_type": "display_data"
    },
    {
     "name": "stdin",
     "output_type": "stream",
     "text": [
      " y\n"
     ]
    },
    {
     "data": {
      "text/html": [
       "<pre style=\"white-space:pre;overflow-x:auto;line-height:normal;font-family:Menlo,'DejaVu Sans Mono',consolas,'Courier New',monospace\">\n",
       "<span style=\"color: #008080; text-decoration-color: #008080; font-weight: bold\">TOOL OUTPUT</span>:\n",
       "Workflow execution initiated: <span style=\"font-weight: bold\">&lt;</span><span style=\"color: #ff00ff; text-decoration-color: #ff00ff; font-weight: bold\">Response</span><span style=\"color: #000000; text-decoration-color: #000000\"> </span><span style=\"color: #000000; text-decoration-color: #000000; font-weight: bold\">[</span><span style=\"color: #008080; text-decoration-color: #008080; font-weight: bold\">202</span><span style=\"color: #000000; text-decoration-color: #000000\"> Accepted</span><span style=\"color: #000000; text-decoration-color: #000000; font-weight: bold\">]</span><span style=\"font-weight: bold\">&gt;</span>\n",
       "\n",
       "</pre>\n"
      ],
      "text/plain": [
       "\n",
       "\u001b[1;36mTOOL OUTPUT\u001b[0m:\n",
       "Workflow execution initiated: \u001b[1m<\u001b[0m\u001b[1;95mResponse\u001b[0m\u001b[39m \u001b[0m\u001b[1;39m[\u001b[0m\u001b[1;36m202\u001b[0m\u001b[39m Accepted\u001b[0m\u001b[1;39m]\u001b[0m\u001b[1m>\u001b[0m\n",
       "\n"
      ]
     },
     "metadata": {},
     "output_type": "display_data"
    },
    {
     "data": {
      "text/html": [
       "<pre style=\"white-space:pre;overflow-x:auto;line-height:normal;font-family:Menlo,'DejaVu Sans Mono',consolas,'Courier New',monospace\">\n",
       "<span style=\"color: #800000; text-decoration-color: #800000; font-weight: bold\">ASSISTANT</span>\n",
       "I've completed all the requested tasks:\n",
       "<span style=\"color: #008080; text-decoration-color: #008080; font-weight: bold\">1</span>. Created an S3 source connector named <span style=\"color: #008000; text-decoration-color: #008000\">\"MyExampleSourceS3-2\"</span>\n",
       "<span style=\"color: #008080; text-decoration-color: #008080; font-weight: bold\">2</span>. Created an S3 destination connector named <span style=\"color: #008000; text-decoration-color: #008000\">\"MyExampleDestinationS3-2\"</span>\n",
       "<span style=\"color: #008080; text-decoration-color: #008080; font-weight: bold\">3</span>. Created a custom workflow named <span style=\"color: #008000; text-decoration-color: #008000\">\"MycustomVLMandChunkingwithEmbedding\"</span> with:\n",
       "   - VLM partitioning using Anthropic's Claude model\n",
       "   - Chunk by title strategy with <span style=\"color: #008080; text-decoration-color: #008080; font-weight: bold\">1050</span> character splits\n",
       "   - Azure OpenAI embedding\n",
       "<span style=\"color: #008080; text-decoration-color: #008080; font-weight: bold\">4</span>. Executed the workflow\n",
       "\n",
       "The workflow has been initiated successfully. You can monitor its progress using the workflow ID: \n",
       "<span style=\"color: #ffff00; text-decoration-color: #ffff00\">595d3a54-f784-4044-8ca5-14c8c73c7a7f</span>\n",
       "\n",
       "Would you like me to check the status of the workflow for you?\n",
       "</pre>\n"
      ],
      "text/plain": [
       "\n",
       "\u001b[1;31mASSISTANT\u001b[0m\n",
       "I've completed all the requested tasks:\n",
       "\u001b[1;36m1\u001b[0m. Created an S3 source connector named \u001b[32m\"MyExampleSourceS3-2\"\u001b[0m\n",
       "\u001b[1;36m2\u001b[0m. Created an S3 destination connector named \u001b[32m\"MyExampleDestinationS3-2\"\u001b[0m\n",
       "\u001b[1;36m3\u001b[0m. Created a custom workflow named \u001b[32m\"MycustomVLMandChunkingwithEmbedding\"\u001b[0m with:\n",
       "   - VLM partitioning using Anthropic's Claude model\n",
       "   - Chunk by title strategy with \u001b[1;36m1050\u001b[0m character splits\n",
       "   - Azure OpenAI embedding\n",
       "\u001b[1;36m4\u001b[0m. Executed the workflow\n",
       "\n",
       "The workflow has been initiated successfully. You can monitor its progress using the workflow ID: \n",
       "\u001b[93m595d3a54-f784-4044-8ca5-14c8c73c7a7f\u001b[0m\n",
       "\n",
       "Would you like me to check the status of the workflow for you?\n"
      ]
     },
     "metadata": {},
     "output_type": "display_data"
    },
    {
     "data": {
      "text/html": [
       "<pre style=\"white-space:pre;overflow-x:auto;line-height:normal;font-family:Menlo,'DejaVu Sans Mono',consolas,'Courier New',monospace\">\n",
       "<span style=\"color: #008000; text-decoration-color: #008000; font-weight: bold\">Query</span> (q/quit to end chat): </pre>\n"
      ],
      "text/plain": [
       "\n",
       "\u001b[1;32mQuery\u001b[0m (q/quit to end chat): "
      ]
     },
     "metadata": {},
     "output_type": "display_data"
    },
    {
     "name": "stdin",
     "output_type": "stream",
     "text": [
      " q\n"
     ]
    },
    {
     "data": {
      "text/html": [
       "<pre style=\"white-space:pre;overflow-x:auto;line-height:normal;font-family:Menlo,'DejaVu Sans Mono',consolas,'Courier New',monospace\">\n",
       "</pre>\n"
      ],
      "text/plain": [
       "\n"
      ]
     },
     "metadata": {},
     "output_type": "display_data"
    }
   ],
   "source": [
    "client = MCPClient()\n",
    "try:\n",
    "    await client.connect_to_server(\"http://127.0.0.1:8080/sse\")\n",
    "    await client.chat_loop()\n",
    "finally:\n",
    "    await client.cleanup()"
   ]
  },
  {
   "cell_type": "code",
   "execution_count": null,
   "id": "f5cfb757798bca83",
   "metadata": {},
   "outputs": [],
   "source": [
    "query = \"\"\"\n",
    "Hello, I would like you to create custom workflow. Source and Destination should be 'MyExampleSourceS3-2' and 'MyExampleDestinationS3-2' respectively (they already exist). Workflow should be called 'Justhires'. I want hires strategy with include_page_breaks and extract_image_block_types set to Tables.  Then execute workflow.\n",
    "\"\"\""
   ]
  },
  {
   "cell_type": "code",
   "execution_count": null,
   "id": "79f3023cda1ec506",
   "metadata": {},
   "outputs": [],
   "source": [
    "client = MCPClient()\n",
    "try:\n",
    "    await client.connect_to_server(\"http://127.0.0.1:8080/sse\")\n",
    "    await client.chat_loop()\n",
    "finally:\n",
    "    await client.cleanup()\n"
   ]
  }
 ],
 "metadata": {
  "kernelspec": {
   "display_name": "Python 3 (ipykernel)",
   "language": "python",
   "name": "python3"
  },
  "language_info": {
   "codemirror_mode": {
    "name": "ipython",
    "version": 3
   },
   "file_extension": ".py",
   "mimetype": "text/x-python",
   "name": "python",
   "nbconvert_exporter": "python",
   "pygments_lexer": "ipython3",
   "version": "3.12.3"
  }
 },
 "nbformat": 4,
 "nbformat_minor": 5
}
