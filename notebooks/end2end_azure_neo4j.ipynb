{
 "cells": [
  {
   "cell_type": "code",
   "id": "dd74d3ac5677b80a",
   "metadata": {
    "ExecuteTime": {
     "end_time": "2025-03-28T11:32:14.866327Z",
     "start_time": "2025-03-28T11:32:14.863830Z"
    }
   },
   "source": [
    "from pathlib import Path\n",
    "import os\n",
    "\n",
    "# Set working directory at top level or repository\n",
    "os.chdir(Path.cwd().parent)"
   ],
   "outputs": [],
   "execution_count": 1
  },
  {
   "metadata": {
    "ExecuteTime": {
     "end_time": "2025-03-28T11:32:15.211692Z",
     "start_time": "2025-03-28T11:32:14.870826Z"
    }
   },
   "cell_type": "code",
   "source": "from minimal_client.client import MCPClient",
   "id": "2bdb7a4f5bdef9c7",
   "outputs": [],
   "execution_count": 2
  },
  {
   "metadata": {
    "ExecuteTime": {
     "end_time": "2025-03-28T11:32:15.422541Z",
     "start_time": "2025-03-28T11:32:15.421101Z"
    }
   },
   "cell_type": "code",
   "source": [
    "query = \"\"\"\n",
    "Today you have following tasks:\n",
    "1. create source azure with folder name plutocontainer\n",
    "2. create neo4j destination with uri neo4j+s://0bd27a09.databases.neo4j.io and db is neo4j\n",
    "3. Finally create and execute platinum workflow with both of this connectors\n",
    "\"\"\""
   ],
   "id": "f01b8741d0649d3a",
   "outputs": [],
   "execution_count": 3
  },
  {
   "metadata": {
    "ExecuteTime": {
     "end_time": "2025-03-28T11:33:45.202846Z",
     "start_time": "2025-03-28T11:32:15.441246Z"
    }
   },
   "cell_type": "code",
   "source": [
    "client = MCPClient()\n",
    "try:\n",
    "    await client.connect_to_server('uns_mcp/server.py')\n",
    "    await client.chat_loop(confirm_tool_use=False)\n",
    "finally:\n",
    "    await client.cleanup()"
   ],
   "id": "4c47528e3609376c",
   "outputs": [
    {
     "data": {
      "text/plain": [
       "\n",
       "\u001B[1;32mQuery\u001B[0m (q/quit to end chat): "
      ],
      "text/html": [
       "<pre style=\"white-space:pre;overflow-x:auto;line-height:normal;font-family:Menlo,'DejaVu Sans Mono',consolas,'Courier New',monospace\">\n",
       "<span style=\"color: #008000; text-decoration-color: #008000; font-weight: bold\">Query</span> (q/quit to end chat): </pre>\n"
      ]
     },
     "metadata": {},
     "output_type": "display_data"
    },
    {
     "data": {
      "text/plain": [
       "\n"
      ],
      "text/html": [
       "<pre style=\"white-space:pre;overflow-x:auto;line-height:normal;font-family:Menlo,'DejaVu Sans Mono',consolas,'Courier New',monospace\">\n",
       "</pre>\n"
      ]
     },
     "metadata": {},
     "output_type": "display_data"
    },
    {
     "data": {
      "text/plain": [
       "\n",
       "\u001B[1;31mASSISTANT\u001B[0m\n",
       "I'll help you with these tasks step by step.\n",
       "\n",
       "\u001B[1;36m1\u001B[0m. First, let's create an Azure source connector with plutocontainer folder:\n"
      ],
      "text/html": [
       "<pre style=\"white-space:pre;overflow-x:auto;line-height:normal;font-family:Menlo,'DejaVu Sans Mono',consolas,'Courier New',monospace\">\n",
       "<span style=\"color: #800000; text-decoration-color: #800000; font-weight: bold\">ASSISTANT</span>\n",
       "I'll help you with these tasks step by step.\n",
       "\n",
       "<span style=\"color: #008080; text-decoration-color: #008080; font-weight: bold\">1</span>. First, let's create an Azure source connector with plutocontainer folder:\n",
       "</pre>\n"
      ]
     },
     "metadata": {},
     "output_type": "display_data"
    },
    {
     "data": {
      "text/plain": [
       "\n",
       "\u001B[1;36mTOOL CALL\u001B[0m\n",
       "Executing create_azure_source with args \u001B[1m{\u001B[0m\u001B[32m'name'\u001B[0m: \u001B[32m'pluto-azure-source'\u001B[0m, \u001B[32m'remote_url'\u001B[0m: \u001B[32m'az://plutocontainer/'\u001B[0m\u001B[1m}\u001B[0m\n",
       "\n"
      ],
      "text/html": [
       "<pre style=\"white-space:pre;overflow-x:auto;line-height:normal;font-family:Menlo,'DejaVu Sans Mono',consolas,'Courier New',monospace\">\n",
       "<span style=\"color: #008080; text-decoration-color: #008080; font-weight: bold\">TOOL CALL</span>\n",
       "Executing create_azure_source with args <span style=\"font-weight: bold\">{</span><span style=\"color: #008000; text-decoration-color: #008000\">'name'</span>: <span style=\"color: #008000; text-decoration-color: #008000\">'pluto-azure-source'</span>, <span style=\"color: #008000; text-decoration-color: #008000\">'remote_url'</span>: <span style=\"color: #008000; text-decoration-color: #008000\">'az://plutocontainer/'</span><span style=\"font-weight: bold\">}</span>\n",
       "\n",
       "</pre>\n"
      ]
     },
     "metadata": {},
     "output_type": "display_data"
    },
    {
     "data": {
      "text/plain": [
       "\n",
       "\u001B[1;36mTOOL OUTPUT\u001B[0m:\n",
       "Azure Source Connector Created:\n",
       "Name: pluto-azure-source\n",
       "ID: \u001B[93mea7b1a8c-5f8f-4e92-93fe-c60b257cc435\u001B[0m\n",
       "\n"
      ],
      "text/html": [
       "<pre style=\"white-space:pre;overflow-x:auto;line-height:normal;font-family:Menlo,'DejaVu Sans Mono',consolas,'Courier New',monospace\">\n",
       "<span style=\"color: #008080; text-decoration-color: #008080; font-weight: bold\">TOOL OUTPUT</span>:\n",
       "Azure Source Connector Created:\n",
       "Name: pluto-azure-source\n",
       "ID: <span style=\"color: #ffff00; text-decoration-color: #ffff00\">ea7b1a8c-5f8f-4e92-93fe-c60b257cc435</span>\n",
       "\n",
       "</pre>\n"
      ]
     },
     "metadata": {},
     "output_type": "display_data"
    },
    {
     "data": {
      "text/plain": [
       "\n",
       "\u001B[1;31mASSISTANT\u001B[0m\n",
       "\u001B[1;36m2\u001B[0m. Now, let's create the Neo4j destination connector with the specified URI and database:\n"
      ],
      "text/html": [
       "<pre style=\"white-space:pre;overflow-x:auto;line-height:normal;font-family:Menlo,'DejaVu Sans Mono',consolas,'Courier New',monospace\">\n",
       "<span style=\"color: #800000; text-decoration-color: #800000; font-weight: bold\">ASSISTANT</span>\n",
       "<span style=\"color: #008080; text-decoration-color: #008080; font-weight: bold\">2</span>. Now, let's create the Neo4j destination connector with the specified URI and database:\n",
       "</pre>\n"
      ]
     },
     "metadata": {},
     "output_type": "display_data"
    },
    {
     "data": {
      "text/plain": [
       "\n",
       "\u001B[1;36mTOOL CALL\u001B[0m\n",
       "Executing create_neo4j_destination with args \u001B[1m{\u001B[0m\u001B[32m'name'\u001B[0m: \u001B[32m'pluto-neo4j-dest'\u001B[0m, \u001B[32m'uri'\u001B[0m: \n",
       "\u001B[32m'neo4j+s://0bd27a09.databases.neo4j.io'\u001B[0m, \u001B[32m'database'\u001B[0m: \u001B[32m'neo4j'\u001B[0m\u001B[1m}\u001B[0m\n",
       "\n"
      ],
      "text/html": [
       "<pre style=\"white-space:pre;overflow-x:auto;line-height:normal;font-family:Menlo,'DejaVu Sans Mono',consolas,'Courier New',monospace\">\n",
       "<span style=\"color: #008080; text-decoration-color: #008080; font-weight: bold\">TOOL CALL</span>\n",
       "Executing create_neo4j_destination with args <span style=\"font-weight: bold\">{</span><span style=\"color: #008000; text-decoration-color: #008000\">'name'</span>: <span style=\"color: #008000; text-decoration-color: #008000\">'pluto-neo4j-dest'</span>, <span style=\"color: #008000; text-decoration-color: #008000\">'uri'</span>: \n",
       "<span style=\"color: #008000; text-decoration-color: #008000\">'neo4j+s://0bd27a09.databases.neo4j.io'</span>, <span style=\"color: #008000; text-decoration-color: #008000\">'database'</span>: <span style=\"color: #008000; text-decoration-color: #008000\">'neo4j'</span><span style=\"font-weight: bold\">}</span>\n",
       "\n",
       "</pre>\n"
      ]
     },
     "metadata": {},
     "output_type": "display_data"
    },
    {
     "data": {
      "text/plain": [
       "\n",
       "\u001B[1;36mTOOL OUTPUT\u001B[0m:\n",
       "neo4j Destination Connector Created:\n",
       "Name: pluto-neo4j-dest\n",
       "ID: \u001B[93m31c8deb2-e022-4e02-ad2f-0459036e6837\u001B[0m\n",
       "\n"
      ],
      "text/html": [
       "<pre style=\"white-space:pre;overflow-x:auto;line-height:normal;font-family:Menlo,'DejaVu Sans Mono',consolas,'Courier New',monospace\">\n",
       "<span style=\"color: #008080; text-decoration-color: #008080; font-weight: bold\">TOOL OUTPUT</span>:\n",
       "neo4j Destination Connector Created:\n",
       "Name: pluto-neo4j-dest\n",
       "ID: <span style=\"color: #ffff00; text-decoration-color: #ffff00\">31c8deb2-e022-4e02-ad2f-0459036e6837</span>\n",
       "\n",
       "</pre>\n"
      ]
     },
     "metadata": {},
     "output_type": "display_data"
    },
    {
     "data": {
      "text/plain": [
       "\n",
       "\u001B[1;31mASSISTANT\u001B[0m\n",
       "\u001B[1;36m3\u001B[0m. Now, let's create a platinum workflow connecting these two connectors:\n"
      ],
      "text/html": [
       "<pre style=\"white-space:pre;overflow-x:auto;line-height:normal;font-family:Menlo,'DejaVu Sans Mono',consolas,'Courier New',monospace\">\n",
       "<span style=\"color: #800000; text-decoration-color: #800000; font-weight: bold\">ASSISTANT</span>\n",
       "<span style=\"color: #008080; text-decoration-color: #008080; font-weight: bold\">3</span>. Now, let's create a platinum workflow connecting these two connectors:\n",
       "</pre>\n"
      ]
     },
     "metadata": {},
     "output_type": "display_data"
    },
    {
     "data": {
      "text/plain": [
       "\n",
       "\u001B[1;36mTOOL CALL\u001B[0m\n",
       "Executing create_workflow with args \u001B[1m{\u001B[0m\u001B[32m'workflow_config'\u001B[0m: \u001B[1m{\u001B[0m\u001B[32m'name'\u001B[0m: \u001B[32m'pluto-platinum-workflow'\u001B[0m, \u001B[32m'workflow_type'\u001B[0m: \n",
       "\u001B[32m'platinum'\u001B[0m, \u001B[32m'source_id'\u001B[0m: \u001B[32m'ea7b1a8c-5f8f-4e92-93fe-c60b257cc435'\u001B[0m, \u001B[32m'destination_id'\u001B[0m: \n",
       "\u001B[32m'31c8deb2-e022-4e02-ad2f-0459036e6837'\u001B[0m\u001B[1m}\u001B[0m\u001B[1m}\u001B[0m\n",
       "\n"
      ],
      "text/html": [
       "<pre style=\"white-space:pre;overflow-x:auto;line-height:normal;font-family:Menlo,'DejaVu Sans Mono',consolas,'Courier New',monospace\">\n",
       "<span style=\"color: #008080; text-decoration-color: #008080; font-weight: bold\">TOOL CALL</span>\n",
       "Executing create_workflow with args <span style=\"font-weight: bold\">{</span><span style=\"color: #008000; text-decoration-color: #008000\">'workflow_config'</span>: <span style=\"font-weight: bold\">{</span><span style=\"color: #008000; text-decoration-color: #008000\">'name'</span>: <span style=\"color: #008000; text-decoration-color: #008000\">'pluto-platinum-workflow'</span>, <span style=\"color: #008000; text-decoration-color: #008000\">'workflow_type'</span>: \n",
       "<span style=\"color: #008000; text-decoration-color: #008000\">'platinum'</span>, <span style=\"color: #008000; text-decoration-color: #008000\">'source_id'</span>: <span style=\"color: #008000; text-decoration-color: #008000\">'ea7b1a8c-5f8f-4e92-93fe-c60b257cc435'</span>, <span style=\"color: #008000; text-decoration-color: #008000\">'destination_id'</span>: \n",
       "<span style=\"color: #008000; text-decoration-color: #008000\">'31c8deb2-e022-4e02-ad2f-0459036e6837'</span><span style=\"font-weight: bold\">}}</span>\n",
       "\n",
       "</pre>\n"
      ]
     },
     "metadata": {},
     "output_type": "display_data"
    },
    {
     "data": {
      "text/plain": [
       "\n",
       "\u001B[1;36mTOOL OUTPUT\u001B[0m:\n",
       "Workflow Information:\n",
       "Name: pluto-platinum-workflow\n",
       "ID: \u001B[93mb04bfa6b-30b0-47ba-b456-9cd8bda7a4a3\u001B[0m\n",
       "Status: WorkflowState.ACTIVE\n",
       "Type: WorkflowType.PLATINUM\n",
       "\n",
       "Sources:\n",
       "  - \u001B[93mea7b1a8c-5f8f-4e92-93fe-c60b257cc435\u001B[0m\n",
       "\n",
       "Destinations:\n",
       "  - \u001B[93m31c8deb2-e022-4e02-ad2f-0459036e6837\u001B[0m\n",
       "\n",
       "Schedule:\n",
       "\n"
      ],
      "text/html": [
       "<pre style=\"white-space:pre;overflow-x:auto;line-height:normal;font-family:Menlo,'DejaVu Sans Mono',consolas,'Courier New',monospace\">\n",
       "<span style=\"color: #008080; text-decoration-color: #008080; font-weight: bold\">TOOL OUTPUT</span>:\n",
       "Workflow Information:\n",
       "Name: pluto-platinum-workflow\n",
       "ID: <span style=\"color: #ffff00; text-decoration-color: #ffff00\">b04bfa6b-30b0-47ba-b456-9cd8bda7a4a3</span>\n",
       "Status: WorkflowState.ACTIVE\n",
       "Type: WorkflowType.PLATINUM\n",
       "\n",
       "Sources:\n",
       "  - <span style=\"color: #ffff00; text-decoration-color: #ffff00\">ea7b1a8c-5f8f-4e92-93fe-c60b257cc435</span>\n",
       "\n",
       "Destinations:\n",
       "  - <span style=\"color: #ffff00; text-decoration-color: #ffff00\">31c8deb2-e022-4e02-ad2f-0459036e6837</span>\n",
       "\n",
       "Schedule:\n",
       "\n",
       "</pre>\n"
      ]
     },
     "metadata": {},
     "output_type": "display_data"
    },
    {
     "data": {
      "text/plain": [
       "\n",
       "\u001B[1;31mASSISTANT\u001B[0m\n",
       "Finally, let's execute the workflow:\n"
      ],
      "text/html": [
       "<pre style=\"white-space:pre;overflow-x:auto;line-height:normal;font-family:Menlo,'DejaVu Sans Mono',consolas,'Courier New',monospace\">\n",
       "<span style=\"color: #800000; text-decoration-color: #800000; font-weight: bold\">ASSISTANT</span>\n",
       "Finally, let's execute the workflow:\n",
       "</pre>\n"
      ]
     },
     "metadata": {},
     "output_type": "display_data"
    },
    {
     "data": {
      "text/plain": [
       "\n",
       "\u001B[1;36mTOOL CALL\u001B[0m\n",
       "Executing run_workflow with args \u001B[1m{\u001B[0m\u001B[32m'workflow_id'\u001B[0m: \u001B[32m'b04bfa6b-30b0-47ba-b456-9cd8bda7a4a3'\u001B[0m\u001B[1m}\u001B[0m\n",
       "\n"
      ],
      "text/html": [
       "<pre style=\"white-space:pre;overflow-x:auto;line-height:normal;font-family:Menlo,'DejaVu Sans Mono',consolas,'Courier New',monospace\">\n",
       "<span style=\"color: #008080; text-decoration-color: #008080; font-weight: bold\">TOOL CALL</span>\n",
       "Executing run_workflow with args <span style=\"font-weight: bold\">{</span><span style=\"color: #008000; text-decoration-color: #008000\">'workflow_id'</span>: <span style=\"color: #008000; text-decoration-color: #008000\">'b04bfa6b-30b0-47ba-b456-9cd8bda7a4a3'</span><span style=\"font-weight: bold\">}</span>\n",
       "\n",
       "</pre>\n"
      ]
     },
     "metadata": {},
     "output_type": "display_data"
    },
    {
     "data": {
      "text/plain": [
       "\n",
       "\u001B[1;36mTOOL OUTPUT\u001B[0m:\n",
       "Workflow execution initiated: \u001B[1m<\u001B[0m\u001B[1;95mResponse\u001B[0m\u001B[39m \u001B[0m\u001B[1;39m[\u001B[0m\u001B[1;36m202\u001B[0m\u001B[39m Accepted\u001B[0m\u001B[1;39m]\u001B[0m\u001B[1m>\u001B[0m\n",
       "\n"
      ],
      "text/html": [
       "<pre style=\"white-space:pre;overflow-x:auto;line-height:normal;font-family:Menlo,'DejaVu Sans Mono',consolas,'Courier New',monospace\">\n",
       "<span style=\"color: #008080; text-decoration-color: #008080; font-weight: bold\">TOOL OUTPUT</span>:\n",
       "Workflow execution initiated: <span style=\"font-weight: bold\">&lt;</span><span style=\"color: #ff00ff; text-decoration-color: #ff00ff; font-weight: bold\">Response</span><span style=\"color: #000000; text-decoration-color: #000000\"> </span><span style=\"color: #000000; text-decoration-color: #000000; font-weight: bold\">[</span><span style=\"color: #008080; text-decoration-color: #008080; font-weight: bold\">202</span><span style=\"color: #000000; text-decoration-color: #000000\"> Accepted</span><span style=\"color: #000000; text-decoration-color: #000000; font-weight: bold\">]</span><span style=\"font-weight: bold\">&gt;</span>\n",
       "\n",
       "</pre>\n"
      ]
     },
     "metadata": {},
     "output_type": "display_data"
    },
    {
     "data": {
      "text/plain": [
       "\n",
       "\u001B[1;31mASSISTANT\u001B[0m\n",
       "I've completed all three tasks:\n",
       "\u001B[1;36m1\u001B[0m. Created an Azure source connector for the plutocontainer folder\n",
       "\u001B[1;36m2\u001B[0m. Created a Neo4j destination connector with the specified URI and database\n",
       "\u001B[1;36m3\u001B[0m. Created a platinum workflow connecting these connectors and initiated its execution\n",
       "\n",
       "The workflow has been successfully created and started running. You can monitor its progress using the workflow ID:\n",
       "\u001B[93mb04bfa6b-30b0-47ba-b456-9cd8bda7a4a3\u001B[0m.\n",
       "\n",
       "Would you like me to check the status of the workflow execution for you?\n"
      ],
      "text/html": [
       "<pre style=\"white-space:pre;overflow-x:auto;line-height:normal;font-family:Menlo,'DejaVu Sans Mono',consolas,'Courier New',monospace\">\n",
       "<span style=\"color: #800000; text-decoration-color: #800000; font-weight: bold\">ASSISTANT</span>\n",
       "I've completed all three tasks:\n",
       "<span style=\"color: #008080; text-decoration-color: #008080; font-weight: bold\">1</span>. Created an Azure source connector for the plutocontainer folder\n",
       "<span style=\"color: #008080; text-decoration-color: #008080; font-weight: bold\">2</span>. Created a Neo4j destination connector with the specified URI and database\n",
       "<span style=\"color: #008080; text-decoration-color: #008080; font-weight: bold\">3</span>. Created a platinum workflow connecting these connectors and initiated its execution\n",
       "\n",
       "The workflow has been successfully created and started running. You can monitor its progress using the workflow ID:\n",
       "<span style=\"color: #ffff00; text-decoration-color: #ffff00\">b04bfa6b-30b0-47ba-b456-9cd8bda7a4a3</span>.\n",
       "\n",
       "Would you like me to check the status of the workflow execution for you?\n",
       "</pre>\n"
      ]
     },
     "metadata": {},
     "output_type": "display_data"
    },
    {
     "data": {
      "text/plain": [
       "\n",
       "\u001B[1;32mQuery\u001B[0m (q/quit to end chat): "
      ],
      "text/html": [
       "<pre style=\"white-space:pre;overflow-x:auto;line-height:normal;font-family:Menlo,'DejaVu Sans Mono',consolas,'Courier New',monospace\">\n",
       "<span style=\"color: #008000; text-decoration-color: #008000; font-weight: bold\">Query</span> (q/quit to end chat): </pre>\n"
      ]
     },
     "metadata": {},
     "output_type": "display_data"
    },
    {
     "data": {
      "text/plain": [
       "\n"
      ],
      "text/html": [
       "<pre style=\"white-space:pre;overflow-x:auto;line-height:normal;font-family:Menlo,'DejaVu Sans Mono',consolas,'Courier New',monospace\">\n",
       "</pre>\n"
      ]
     },
     "metadata": {},
     "output_type": "display_data"
    },
    {
     "data": {
      "text/plain": [
       "\n",
       "\u001B[1;32mQuery\u001B[0m (q/quit to end chat): "
      ],
      "text/html": [
       "<pre style=\"white-space:pre;overflow-x:auto;line-height:normal;font-family:Menlo,'DejaVu Sans Mono',consolas,'Courier New',monospace\">\n",
       "<span style=\"color: #008000; text-decoration-color: #008000; font-weight: bold\">Query</span> (q/quit to end chat): </pre>\n"
      ]
     },
     "metadata": {},
     "output_type": "display_data"
    },
    {
     "data": {
      "text/plain": [
       "\n"
      ],
      "text/html": [
       "<pre style=\"white-space:pre;overflow-x:auto;line-height:normal;font-family:Menlo,'DejaVu Sans Mono',consolas,'Courier New',monospace\">\n",
       "</pre>\n"
      ]
     },
     "metadata": {},
     "output_type": "display_data"
    }
   ],
   "execution_count": 4
  },
  {
   "metadata": {},
   "cell_type": "code",
   "outputs": [],
   "execution_count": null,
   "source": "",
   "id": "577992412b485848"
  },
  {
   "metadata": {},
   "cell_type": "markdown",
   "source": "",
   "id": "c2114ba27af7b95c"
  }
 ],
 "metadata": {
  "kernelspec": {
   "display_name": "Python 3 (ipykernel)",
   "language": "python",
   "name": "python3"
  },
  "language_info": {
   "codemirror_mode": {
    "name": "ipython",
    "version": 3
   },
   "file_extension": ".py",
   "mimetype": "text/x-python",
   "name": "python",
   "nbconvert_exporter": "python",
   "pygments_lexer": "ipython3",
   "version": "3.12.3"
  }
 },
 "nbformat": 4,
 "nbformat_minor": 5
}
